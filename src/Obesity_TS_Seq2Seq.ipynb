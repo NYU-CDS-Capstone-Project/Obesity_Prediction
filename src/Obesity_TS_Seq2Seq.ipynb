{
 "cells": [
  {
   "cell_type": "code",
   "execution_count": 1,
   "metadata": {},
   "outputs": [],
   "source": [
    "import io\n",
    "import os\n",
    "\n",
    "import numpy as np\n",
    "import torch\n",
    "import torch.nn as nn\n",
    "import torch.nn.functional as F\n",
    "from torch.utils.data import Dataset\n",
    "from torch import optim\n",
    "from collections import Counter\n",
    "import pickle as pkl\n",
    "import string\n",
    "import random\n",
    "import pdb\n",
    "import nltk\n",
    "from nltk import ngrams\n",
    "from collections import Counter\n",
    "from collections import defaultdict\n",
    "\n",
    "import copy\n",
    "\n",
    "\n",
    "import matplotlib.pyplot as plt\n",
    "plt.switch_backend('agg')\n",
    "import matplotlib.ticker as ticker\n",
    "import numpy as np\n",
    "%matplotlib inline\n",
    "\n",
    "import time\n",
    "import math"
   ]
  },
  {
   "cell_type": "code",
   "execution_count": 2,
   "metadata": {},
   "outputs": [],
   "source": [
    "torch.set_default_tensor_type('torch.DoubleTensor')"
   ]
  },
  {
   "cell_type": "code",
   "execution_count": 3,
   "metadata": {},
   "outputs": [],
   "source": [
    "random.seed(152)\n",
    "\n",
    "nowPath = os.path.abspath('.')\n",
    "dataPath = nowPath + '//dataSourceCsv'\n",
    "resPath = nowPath + '//resultsRNN'\n",
    "resSeq2Seq = nowPath + '//resultsS2S'\n",
    "\n",
    "all_train = []\n",
    "all_val = []"
   ]
  },
  {
   "cell_type": "code",
   "execution_count": 4,
   "metadata": {},
   "outputs": [],
   "source": [
    "def showPlot(points):\n",
    "    plt.figure()\n",
    "    fig, ax = plt.subplots()\n",
    "    # this locator puts ticks at regular intervals\n",
    "    loc = ticker.MultipleLocator(base=0.2)\n",
    "    ax.yaxis.set_major_locator(loc)\n",
    "    plt.plot(points)"
   ]
  },
  {
   "cell_type": "code",
   "execution_count": 4,
   "metadata": {},
   "outputs": [],
   "source": [
    "def showPlot(points, title):\n",
    "    fig, ax = plt.subplots()\n",
    "    lines = {}\n",
    "    lines['cur'], = ax.plot(range(len(points)), points, label='train loss')\n",
    "    ax.set_title(title)"
   ]
  },
  {
   "cell_type": "code",
   "execution_count": 5,
   "metadata": {},
   "outputs": [],
   "source": [
    "def pkl_dumper(objct, file_name):\n",
    "    with open(file_name, 'wb+') as f:\n",
    "        pkl.dump(objct, f, protocol=None)\n",
    "\n",
    "def pkl_loader(file_name):\n",
    "    with open(file_name, 'rb') as f:\n",
    "        objct = pkl.load(f, encoding = 'bytes')\n",
    "    return(objct)"
   ]
  },
  {
   "cell_type": "code",
   "execution_count": 6,
   "metadata": {},
   "outputs": [],
   "source": [
    "def asMinutes(s):\n",
    "    m = math.floor(s / 60)\n",
    "    s -= m * 60\n",
    "    return '%dm %ds' % (m, s)\n",
    "\n",
    "\n",
    "def timeSince(since, percent):\n",
    "    now = time.time()\n",
    "    s = now - since\n",
    "    es = s / (percent)\n",
    "    rs = es - s\n",
    "    return '%s (- %s)' % (asMinutes(s), asMinutes(rs))"
   ]
  },
  {
   "cell_type": "code",
   "execution_count": 7,
   "metadata": {},
   "outputs": [],
   "source": [
    "allColNames = pkl_loader(dataPath + '//allColNames.p')\n",
    "colHeader, colSlot = allColNames['columnHeaders'], allColNames['columnSlots']\n",
    "allTrainTS = pkl_loader(dataPath + '//allTrainTS.p')\n",
    "allIDs = pkl_loader(dataPath + '//allIDs.p')\n",
    "allTgts = pkl_loader(dataPath + '//allTgts.p')"
   ]
  },
  {
   "cell_type": "code",
   "execution_count": 8,
   "metadata": {},
   "outputs": [],
   "source": [
    "device = torch.device(\"cuda\" if torch.cuda.is_available() else \"cpu\")"
   ]
  },
  {
   "cell_type": "code",
   "execution_count": 10,
   "metadata": {},
   "outputs": [],
   "source": [
    "newIndex = [i for i, item in enumerate(allTrainTS) if sum(sum(item[:, :9])) != 0.0]\n",
    "allTgts = np.array(allTgts)\n",
    "allTrainTS = np.array(allTrainTS)\n",
    "allTgts = allTgts[newIndex, 3]\n",
    "allTrainTS = allTrainTS[newIndex]\n",
    "allIDs = np.array(allIDs)\n",
    "allIDs = allIDs[newIndex]"
   ]
  },
  {
   "cell_type": "code",
   "execution_count": 19,
   "metadata": {},
   "outputs": [],
   "source": [
    "## Change all train TSs into pairs"
   ]
  },
  {
   "cell_type": "code",
   "execution_count": 11,
   "metadata": {},
   "outputs": [],
   "source": [
    "allPairs = [[item[:9, :], item[9:, :]] for item in allTrainTS.transpose(0, 2, 1)]"
   ]
  },
  {
   "cell_type": "code",
   "execution_count": 18,
   "metadata": {},
   "outputs": [],
   "source": [
    "allPairs, predPairs = allPairs[:int(len(allPairs)*0.8)], allPairs[int(len(allPairs)*0.8):]"
   ]
  },
  {
   "cell_type": "code",
   "execution_count": 37,
   "metadata": {},
   "outputs": [],
   "source": [
    "predPairs = [[torch.tensor(pair[0], dtype=torch.double, device=device), \\\n",
    "               torch.tensor(pair[1], dtype=torch.double, device=device)] for pair in predPairs]"
   ]
  },
  {
   "cell_type": "code",
   "execution_count": 19,
   "metadata": {},
   "outputs": [
    {
     "data": {
      "text/plain": [
       "3948"
      ]
     },
     "execution_count": 19,
     "metadata": {},
     "output_type": "execute_result"
    }
   ],
   "source": [
    "len(allPairs)"
   ]
  },
  {
   "cell_type": "code",
   "execution_count": 20,
   "metadata": {},
   "outputs": [
    {
     "data": {
      "text/plain": [
       "987"
      ]
     },
     "execution_count": 20,
     "metadata": {},
     "output_type": "execute_result"
    }
   ],
   "source": [
    "len(predPairs)"
   ]
  },
  {
   "cell_type": "code",
   "execution_count": 12,
   "metadata": {},
   "outputs": [],
   "source": [
    "class EncoderRNN(nn.Module):\n",
    "    def __init__(self, input_size, hidden_size, num_layer):\n",
    "        super(EncoderRNN, self).__init__()\n",
    "        self.num_layer = num_layer\n",
    "        self.hidden_size = hidden_size\n",
    "        self.linear = nn.Linear(input_size, hidden_size)\n",
    "        self.gru = nn.GRU(hidden_size, hidden_size, num_layer)\n",
    "\n",
    "    def forward(self, input, hidden):\n",
    "        # print('InType:', input.type())\n",
    "        output = self.linear(input).view(1, 1, -1)\n",
    "        output, hidden = self.gru(output, hidden)\n",
    "        return output, hidden\n",
    "\n",
    "    def initHidden(self):\n",
    "        return torch.zeros(self.num_layer, 1, self.hidden_size, device=device)"
   ]
  },
  {
   "cell_type": "code",
   "execution_count": 13,
   "metadata": {},
   "outputs": [],
   "source": [
    "class Attn(nn.Module):\n",
    "    def __init__(self, hidden_size, method='concat'):\n",
    "        super(Attn, self).__init__()\n",
    "        self.method = method\n",
    "        self.hidden_size = hidden_size\n",
    "        self.attn = nn.Linear(self.hidden_size * 2, hidden_size)\n",
    "        self.v = nn.Parameter(torch.rand(hidden_size))\n",
    "        stdv = 1. / math.sqrt(self.v.size(0))\n",
    "        self.v.data.normal_(mean=0, std=stdv)\n",
    "\n",
    "    def forward(self, hidden, encoder_outputs):\n",
    "        '''\n",
    "        :param hidden: \n",
    "            previous hidden state of the decoder, in shape (layers*directions,B,H)\n",
    "        :param encoder_outputs:\n",
    "            encoder outputs from Encoder, in shape (T,B,H)\n",
    "        :return\n",
    "            attention energies in shape (B,T)\n",
    "        '''\n",
    "        max_len = encoder_outputs.size(0)\n",
    "        this_batch_size = encoder_outputs.size(1)\n",
    "        H = hidden.repeat(max_len,1,1).transpose(0,1)\n",
    "        encoder_outputs = encoder_outputs.transpose(0,1) # [B*T*H]\n",
    "        attn_energies = self.score(H,encoder_outputs) # compute attention score\n",
    "        return F.softmax(attn_energies, 2) # normalize with softmax\n",
    "\n",
    "    def score(self, hidden, encoder_outputs):\n",
    "        #print('hl size:{}, eo size:{}'.format(hidden.size(), encoder_outputs.size()))\n",
    "        energy = F.tanh(self.attn(torch.cat([hidden, encoder_outputs.transpose(0,1).unsqueeze(0)], 2))) # [B*T*2H]->[B*T*H]\n",
    "        energy = energy.transpose(2,1) # [B*H*T]\n",
    "        v = self.v.repeat(energy.size()[0],1).unsqueeze(0) #[1*B*H]\n",
    "        #print('v size:{}, eng size:{}'.format(v.size(), energy.size()))\n",
    "        energy = torch.bmm(v,energy) # [B*1*T]\n",
    "        #return energy.squeeze(1) #[B*T]\n",
    "        return energy"
   ]
  },
  {
   "cell_type": "code",
   "execution_count": 13,
   "metadata": {},
   "outputs": [],
   "source": [
    "class BahdanauAttnDecoderRNN(nn.Module):\n",
    "    def __init__(self, hidden_size, output_size, n_layers=1, dropout_p=0.1, max_len = 100):\n",
    "        super(BahdanauAttnDecoderRNN, self).__init__()\n",
    "        \n",
    "        # Define parameters\n",
    "        self.hidden_size = hidden_size\n",
    "        self.output_size = output_size\n",
    "        self.n_layers = n_layers\n",
    "        self.dropout_p = dropout_p\n",
    "        self.max_len = max_len\n",
    "        \n",
    "        # Define layers\n",
    "        self.linear = nn.Linear(output_size, hidden_size)\n",
    "        self.dropout = nn.Dropout(dropout_p)\n",
    "        # self.attn = nn.Linear(hidden_size, self.max_len)\n",
    "        self.attn = Attn(hidden_size)\n",
    "        self.gru = nn.GRU(hidden_size * 2, hidden_size, n_layers, dropout=dropout_p)\n",
    "        self.out = nn.Linear(hidden_size, output_size)\n",
    "    \n",
    "    def forward(self, cur_input, last_hidden, encoder_outputs):\n",
    "        # Note that we will only be running forward for a single decoder time step, but will use all encoder outputs\n",
    "        \n",
    "        # Get the embedding of the current input word (last output word)\n",
    "        # print('ci size:{}'.format(cur_input.size()))\n",
    "        vec_input = self.linear(cur_input).view(1, 1, -1) # S=1 x B x N\n",
    "        vec_input = self.dropout(vec_input)\n",
    "        # print('vi size:{}, lh size:{}, enc_out size:{}'.format(vec_input.size(), last_hidden.size(), encoder_outputs.size()))\n",
    "        attn_weights = self.attn(last_hidden[-1], encoder_outputs )\n",
    "        #print('wt size:{}, eo size:{}'.format(attn_weights.size(), encoder_outputs.size()))\n",
    "        attn_applied = attn_weights.bmm(encoder_outputs.unsqueeze(0))  # (B,1,V)\n",
    "        attn_applied = attn_applied.transpose(0, 1)\n",
    "        #print('we size:{}, lh size:{}, aa size:{}'.format(word_embedded.size(), last_hidden.size(), attn_applied.size()))\n",
    "        rnn_input = torch.cat((vec_input, attn_applied), 2)\n",
    "        \n",
    "        output, hidden = self.gru(rnn_input, last_hidden)\n",
    "        \n",
    "        # Final output layer\n",
    "        output = output.squeeze(0) # B x N\n",
    "        output = F.log_softmax(self.out(output))\n",
    "        \n",
    "        # Return final output, hidden state, and attention weights (for visualization)\n",
    "        return output, hidden, attn_weights"
   ]
  },
  {
   "cell_type": "code",
   "execution_count": 164,
   "metadata": {},
   "outputs": [],
   "source": [
    "ee = torch.tensor([1,2,3], dtype = torch.long)"
   ]
  },
  {
   "cell_type": "code",
   "execution_count": 165,
   "metadata": {},
   "outputs": [
    {
     "data": {
      "text/plain": [
       "tensor([ 1,  2,  3])"
      ]
     },
     "execution_count": 165,
     "metadata": {},
     "output_type": "execute_result"
    }
   ],
   "source": [
    "ee"
   ]
  },
  {
   "cell_type": "code",
   "execution_count": 166,
   "metadata": {},
   "outputs": [
    {
     "data": {
      "text/plain": [
       "'torch.DoubleTensor'"
      ]
     },
     "execution_count": 166,
     "metadata": {},
     "output_type": "execute_result"
    }
   ],
   "source": [
    "ee.unsqueeze(0).double().type()"
   ]
  },
  {
   "cell_type": "code",
   "execution_count": 14,
   "metadata": {},
   "outputs": [],
   "source": [
    "teacher_forcing_ratio = 0.5\n",
    "\n",
    "def train(input_tensor, target_tensor, encoder, decoder, encoder_optimizer, decoder_optimizer, criterion):\n",
    "    encoder_hidden = encoder.initHidden()\n",
    "\n",
    "    encoder_optimizer.zero_grad()\n",
    "    decoder_optimizer.zero_grad()\n",
    "\n",
    "    input_length = input_tensor.size(0)\n",
    "    target_length = target_tensor.size(0)\n",
    "    # print(\"inLen:{},tgtLen:{}\".format(input_length, target_length))\n",
    "\n",
    "    encoder_outputs = torch.zeros(input_length, encoder.hidden_size, device=device)\n",
    "    # print('encOutSize:{}'.format(encoder_outputs.size()))\n",
    "\n",
    "    loss = 0\n",
    "\n",
    "    for ei in range(input_length):\n",
    "        encoder_output, encoder_hidden = encoder(\n",
    "            input_tensor[ei], encoder_hidden)\n",
    "        encoder_outputs[ei] = encoder_output[0, 0]\n",
    "\n",
    "    decoder_input = torch.tensor([[0.0]*len(colHeader)], device=device)\n",
    "\n",
    "    decoder_hidden = encoder_hidden\n",
    "\n",
    "    use_teacher_forcing = True if random.random() < teacher_forcing_ratio else False\n",
    "    # use_teacher_forcing = False\n",
    "    # print(target_tensor.size())\n",
    "\n",
    "    if use_teacher_forcing:\n",
    "        # Teacher forcing: Feed the target as the next input\n",
    "        for di in range(target_length):\n",
    "            decoder_output, decoder_hidden, decoder_attention = decoder(\n",
    "                decoder_input, decoder_hidden, encoder_outputs)\n",
    "            # print(\"typeOrg:{}, typeChanged:{}\".format(target_tensor[di].type(), target_tensor[di].unsqueeze(0).type()))\n",
    "            # print(\"typeDcd:{}\".format(decoder_output.type()))\n",
    "            # print(decoder_output)\n",
    "            # print(target_tensor[di].unsqueeze(0))\n",
    "            loss += criterion(decoder_output.double(), target_tensor[di].unsqueeze(0).double())\n",
    "            decoder_input = target_tensor[di].unsqueeze(0)  # Teacher forcing\n",
    "            # print('forced', decoder_input)\n",
    "\n",
    "    else:\n",
    "        # Without teacher forcing: use its own predictions as the next input\n",
    "        for di in range(target_length):\n",
    "            decoder_output, decoder_hidden, decoder_attention = decoder(\n",
    "                decoder_input, decoder_hidden, encoder_outputs)\n",
    "            # topv, topi = decoder_output.topk(1)\n",
    "            # decoder_input = topi.squeeze().detach()  # detach from history as input\n",
    "            decoder_input = decoder_output\n",
    "            # print(\"typeOrg:{}, typeChanged:{}\".format(target_tensor[di].type(), target_tensor[di].unsqueeze(0).type()))\n",
    "            # print(\"typeDcd:{}\".format(decoder_output.type()))\n",
    "            # print(decoder_output)\n",
    "            # print(target_tensor[di].unsqueeze(0))\n",
    "            loss += criterion(decoder_output.double(), target_tensor[di].unsqueeze(0).double())\n",
    "            # print('Noforced', decoder_input)\n",
    "            # print('Noforced_dout', decoder_output)\n",
    "            \n",
    "\n",
    "    loss.backward()\n",
    "\n",
    "    encoder_optimizer.step()\n",
    "    decoder_optimizer.step()\n",
    "\n",
    "    return loss.item() / target_length"
   ]
  },
  {
   "cell_type": "code",
   "execution_count": 46,
   "metadata": {},
   "outputs": [],
   "source": [
    "def trainIters(encoder, decoder, n_iters, pairs, n_epoches=1, print_every=1000, plot_every=1000, learning_rate=1e-3, marker='NoSM'):\n",
    "    start = time.time()\n",
    "    plot_losses = []\n",
    "    print_loss_total = 0  # Reset every print_every\n",
    "    plot_loss_total = 0  # Reset every plot_every\n",
    "\n",
    "    encoder_optimizer = optim.SGD(encoder.parameters(), lr=learning_rate)\n",
    "    decoder_optimizer = optim.SGD(decoder.parameters(), lr=learning_rate)\n",
    "    trainPairs = copy.deepcopy(pairs)\n",
    "    random.shuffle(trainPairs)\n",
    "    # training_pairs = [tensorsFromPair(random.choice(pairs))\n",
    "    #                   for i in range(n_iters)]\n",
    "    training_pairs = [[torch.tensor(pair[0], dtype=torch.double, device=device), \\\n",
    "                       torch.tensor(pair[1], dtype=torch.double, device=device)] for pair in trainPairs] * n_epoches\n",
    "    # criterion = nn.NLLLoss().double()\n",
    "    criterion = nn.KLDivLoss()\n",
    "    if n_epoches > 1:\n",
    "        n_iters = len(training_pairs)\n",
    "\n",
    "    for iter in range(1, n_iters+1):\n",
    "        training_pair = training_pairs[iter - 1]\n",
    "        input_tensor = training_pair[0]\n",
    "        target_tensor = training_pair[1]\n",
    "\n",
    "        loss = train(input_tensor, target_tensor, encoder,\n",
    "                     decoder, encoder_optimizer, decoder_optimizer, criterion)\n",
    "        print_loss_total += loss\n",
    "        plot_loss_total += loss\n",
    "\n",
    "        if iter % print_every == 0:\n",
    "            print_loss_avg = print_loss_total / print_every\n",
    "            print_loss_total = 0\n",
    "            print('%s (%d %d%%) %.4f' % (timeSince(start, iter / n_iters),\n",
    "                                         iter, iter / n_iters * 100, print_loss_avg))\n",
    "\n",
    "        if iter % plot_every == 0:\n",
    "            plot_loss_avg = plot_loss_total / plot_every\n",
    "            plot_losses.append(plot_loss_avg)\n",
    "            plot_loss_total = 0\n",
    "    pkl_dumper(plot_losses, resSeq2Seq + '//trainS2S1120'+str(hidden_size)+'_'+str(n_layers)+marker+'.p')\n",
    "    showPlot(plot_losses)\n",
    "    "
   ]
  },
  {
   "cell_type": "code",
   "execution_count": 220,
   "metadata": {},
   "outputs": [],
   "source": [
    "eee = nn.KLDivLoss()"
   ]
  },
  {
   "cell_type": "code",
   "execution_count": 235,
   "metadata": {
    "scrolled": true
   },
   "outputs": [
    {
     "name": "stderr",
     "output_type": "stream",
     "text": [
      "/beegfs/fs1520/pytorch_gpu/py3.6.3/lib/python3.6/site-packages/ipykernel_launcher.py:39: UserWarning: Implicit dimension choice for log_softmax has been deprecated. Change the call to include dim=X as an argument.\n"
     ]
    },
    {
     "name": "stdout",
     "output_type": "stream",
     "text": [
      "0m 3s (- 4m 52s) (200 1%) 167.3663\n",
      "0m 7s (- 4m 43s) (400 2%) 170.6233\n",
      "0m 11s (- 4m 37s) (600 4%) 158.4046\n",
      "0m 15s (- 4m 32s) (800 5%) 162.7163\n",
      "0m 19s (- 4m 28s) (1000 6%) 164.1777\n",
      "0m 23s (- 4m 24s) (1200 8%) 161.1171\n",
      "0m 27s (- 4m 20s) (1400 9%) 155.7410\n",
      "0m 31s (- 4m 15s) (1600 10%) 162.3929\n",
      "0m 34s (- 4m 11s) (1800 12%) 165.3195\n",
      "0m 38s (- 4m 7s) (2000 13%) 153.5123\n",
      "0m 42s (- 4m 3s) (2200 14%) 164.0680\n",
      "0m 46s (- 4m 0s) (2400 16%) 155.0777\n",
      "0m 50s (- 3m 56s) (2600 17%) 155.5207\n",
      "0m 54s (- 3m 52s) (2800 18%) 156.8608\n",
      "0m 58s (- 3m 48s) (3000 20%) 162.9927\n",
      "1m 1s (- 3m 44s) (3200 21%) 160.8800\n",
      "1m 5s (- 3m 40s) (3400 22%) 149.0513\n",
      "1m 9s (- 3m 36s) (3600 24%) 158.7441\n",
      "1m 13s (- 3m 32s) (3800 25%) 158.1927\n",
      "1m 17s (- 3m 28s) (4000 27%) 160.5470\n",
      "1m 21s (- 3m 24s) (4200 28%) 156.2641\n",
      "1m 24s (- 3m 20s) (4400 29%) 159.1633\n",
      "1m 28s (- 3m 17s) (4600 31%) 157.0765\n",
      "1m 32s (- 3m 13s) (4800 32%) 150.4833\n",
      "1m 36s (- 3m 9s) (5000 33%) 154.3161\n",
      "1m 40s (- 3m 5s) (5200 35%) 156.7028\n",
      "1m 44s (- 3m 1s) (5400 36%) 156.7895\n",
      "1m 48s (- 2m 57s) (5600 37%) 149.9058\n",
      "1m 52s (- 2m 53s) (5800 39%) 152.1641\n",
      "1m 55s (- 2m 50s) (6000 40%) 153.1485\n",
      "1m 59s (- 2m 46s) (6200 41%) 148.0437\n",
      "2m 3s (- 2m 42s) (6400 43%) 148.0214\n",
      "2m 7s (- 2m 38s) (6600 44%) 153.4087\n",
      "2m 11s (- 2m 34s) (6800 45%) 154.4280\n",
      "2m 15s (- 2m 30s) (7000 47%) 144.8981\n",
      "2m 19s (- 2m 26s) (7200 48%) 151.9839\n",
      "2m 22s (- 2m 22s) (7400 49%) 145.4324\n",
      "2m 26s (- 2m 19s) (7600 51%) 146.9588\n",
      "2m 30s (- 2m 15s) (7800 52%) 149.9138\n",
      "2m 34s (- 2m 11s) (8000 54%) 158.9346\n",
      "2m 38s (- 2m 7s) (8200 55%) 146.7572\n",
      "2m 42s (- 2m 3s) (8400 56%) 143.9634\n",
      "2m 46s (- 1m 59s) (8600 58%) 152.8430\n",
      "2m 49s (- 1m 55s) (8800 59%) 149.5201\n",
      "2m 53s (- 1m 52s) (9000 60%) 152.3981\n",
      "2m 57s (- 1m 48s) (9200 62%) 148.3542\n",
      "3m 1s (- 1m 44s) (9400 63%) 155.0419\n",
      "3m 5s (- 1m 40s) (9600 64%) 146.8345\n",
      "3m 9s (- 1m 36s) (9800 66%) 146.7739\n",
      "3m 13s (- 1m 32s) (10000 67%) 150.4635\n",
      "3m 16s (- 1m 28s) (10200 68%) 155.6315\n",
      "3m 20s (- 1m 25s) (10400 70%) 144.6945\n",
      "3m 24s (- 1m 21s) (10600 71%) 146.2704\n",
      "3m 28s (- 1m 17s) (10800 72%) 148.5462\n",
      "3m 32s (- 1m 13s) (11000 74%) 149.6220\n",
      "3m 36s (- 1m 9s) (11200 75%) 142.7686\n",
      "3m 40s (- 1m 5s) (11400 77%) 143.5924\n",
      "3m 43s (- 1m 1s) (11600 78%) 151.0312\n",
      "3m 47s (- 0m 58s) (11800 79%) 143.5529\n",
      "3m 51s (- 0m 54s) (12000 81%) 148.4784\n",
      "3m 55s (- 0m 50s) (12200 82%) 144.6058\n",
      "3m 59s (- 0m 46s) (12400 83%) 144.7393\n",
      "4m 3s (- 0m 42s) (12600 85%) 143.9232\n",
      "4m 7s (- 0m 38s) (12800 86%) 149.9920\n",
      "4m 10s (- 0m 34s) (13000 87%) 153.3006\n",
      "4m 14s (- 0m 30s) (13200 89%) 140.6485\n",
      "4m 18s (- 0m 27s) (13400 90%) 146.2280\n",
      "4m 22s (- 0m 23s) (13600 91%) 149.4684\n",
      "4m 26s (- 0m 19s) (13800 93%) 149.1472\n",
      "4m 30s (- 0m 15s) (14000 94%) 148.3580\n",
      "4m 34s (- 0m 11s) (14200 95%) 149.5926\n",
      "4m 37s (- 0m 7s) (14400 97%) 149.0385\n",
      "4m 41s (- 0m 3s) (14600 98%) 145.8285\n",
      "4m 45s (- 0m 0s) (14800 99%) 144.3891\n"
     ]
    },
    {
     "data": {
      "text/plain": [
       "<matplotlib.figure.Figure at 0x2ad5d65da550>"
      ]
     },
     "metadata": {},
     "output_type": "display_data"
    },
    {
     "data": {
      "image/png": "[encoded data removed]",
      "text/plain": [
       "<matplotlib.figure.Figure at 0x2ad5d65af550>"
      ]
     },
     "metadata": {
      "needs_background": "light"
     },
     "output_type": "display_data"
    }
   ],
   "source": [
    "###TrainCuda\n",
    "hidden_size = 50\n",
    "in_size = len(colHeader)\n",
    "out_size = len(colHeader)\n",
    "n_layers = 2\n",
    "encoder1 = EncoderRNN(in_size, hidden_size, n_layers).to(device)\n",
    "# attn_decoder1 = AttnDecoderRNN(hidden_size, output_lang.n_words, dropout_p=0.1).to(device)\n",
    "attn_decoder1 = BahdanauAttnDecoderRNN(hidden_size, out_size, n_layers=n_layers, dropout_p=0.1).to(device)\n",
    "\n",
    "trainIters(encoder1, attn_decoder1, 1, allPairs, n_epoches = 3, print_every=200, plot_every = 200, learning_rate=2e-6)\n",
    "\n",
    "# encoder1.load_state_dict(torch.load(\"nmt_models/encoder.pth\", map_location = 'cpu'))\n",
    "# attn_decoder1.load_state_dict(torch.load(\"nmt_models/attn_decoder.pth\", map_location = 'cpu'))"
   ]
  },
  {
   "cell_type": "code",
   "execution_count": 236,
   "metadata": {},
   "outputs": [],
   "source": [
    "torch.save(encoder1.state_dict(), resSeq2Seq + \"//encoder_test1120_\"+str(hidden_size)+\"_\"+str(n_layers)+\".pth\")\n",
    "torch.save(attn_decoder1.state_dict(), resSeq2Seq + \"//attn_decoder_test1120_\"+str(hidden_size)+\"_\"+str(n_layers)+\".pth\")"
   ]
  },
  {
   "cell_type": "code",
   "execution_count": 233,
   "metadata": {
    "scrolled": true
   },
   "outputs": [
    {
     "name": "stderr",
     "output_type": "stream",
     "text": [
      "/beegfs/fs1520/pytorch_gpu/py3.6.3/lib/python3.6/site-packages/ipykernel_launcher.py:39: UserWarning: Implicit dimension choice for log_softmax has been deprecated. Change the call to include dim=X as an argument.\n"
     ]
    },
    {
     "name": "stdout",
     "output_type": "stream",
     "text": [
      "0m 5s (- 6m 16s) (200 1%) 160.2443\n",
      "0m 10s (- 6m 5s) (400 2%) 162.5962\n",
      "0m 15s (- 5m 58s) (600 4%) 160.2581\n",
      "0m 20s (- 5m 52s) (800 5%) 159.0958\n",
      "0m 25s (- 5m 47s) (1000 6%) 159.7226\n",
      "0m 30s (- 5m 41s) (1200 8%) 156.7974\n",
      "0m 35s (- 5m 36s) (1400 9%) 156.3719\n",
      "0m 40s (- 5m 31s) (1600 10%) 159.9873\n",
      "0m 45s (- 5m 26s) (1800 12%) 153.5170\n",
      "0m 50s (- 5m 21s) (2000 13%) 156.9934\n",
      "0m 55s (- 5m 16s) (2200 14%) 161.4935\n",
      "1m 0s (- 5m 10s) (2400 16%) 157.1310\n",
      "1m 5s (- 5m 5s) (2600 17%) 155.9488\n",
      "1m 10s (- 5m 0s) (2800 18%) 152.9204\n",
      "1m 15s (- 4m 55s) (3000 20%) 157.1939\n",
      "1m 20s (- 4m 50s) (3200 21%) 154.9368\n",
      "1m 25s (- 4m 45s) (3400 22%) 152.9008\n",
      "1m 30s (- 4m 40s) (3600 24%) 154.6140\n",
      "1m 35s (- 4m 35s) (3800 25%) 151.2130\n",
      "1m 40s (- 4m 30s) (4000 27%) 149.3396\n",
      "1m 45s (- 4m 25s) (4200 28%) 147.9673\n",
      "1m 50s (- 4m 20s) (4400 29%) 151.2978\n",
      "1m 55s (- 4m 15s) (4600 31%) 151.9252\n",
      "2m 0s (- 4m 10s) (4800 32%) 147.1117\n",
      "2m 5s (- 4m 5s) (5000 33%) 153.3003\n",
      "2m 10s (- 4m 0s) (5200 35%) 144.5060\n",
      "2m 15s (- 3m 55s) (5400 36%) 144.0790\n",
      "2m 20s (- 3m 50s) (5600 37%) 149.6109\n",
      "2m 25s (- 3m 46s) (5800 39%) 147.5853\n",
      "2m 30s (- 3m 41s) (6000 40%) 147.5736\n",
      "2m 35s (- 3m 36s) (6200 41%) 145.5659\n",
      "2m 40s (- 3m 31s) (6400 43%) 145.4698\n",
      "2m 45s (- 3m 26s) (6600 44%) 148.5065\n",
      "2m 50s (- 3m 21s) (6800 45%) 145.9545\n",
      "2m 55s (- 3m 16s) (7000 47%) 147.4746\n",
      "3m 0s (- 3m 11s) (7200 48%) 152.4680\n",
      "3m 6s (- 3m 6s) (7400 49%) 146.2829\n",
      "3m 11s (- 3m 1s) (7600 51%) 152.3085\n",
      "3m 16s (- 2m 56s) (7800 52%) 145.5467\n",
      "3m 21s (- 2m 51s) (8000 54%) 152.8735\n",
      "3m 26s (- 2m 46s) (8200 55%) 145.0004\n",
      "3m 31s (- 2m 41s) (8400 56%) 148.7581\n",
      "3m 36s (- 2m 36s) (8600 58%) 150.6296\n",
      "3m 41s (- 2m 31s) (8800 59%) 143.5997\n",
      "3m 46s (- 2m 26s) (9000 60%) 144.6581\n",
      "3m 51s (- 2m 21s) (9200 62%) 148.1938\n",
      "3m 56s (- 2m 16s) (9400 63%) 142.5139\n",
      "4m 1s (- 2m 11s) (9600 64%) 150.0808\n",
      "4m 6s (- 2m 6s) (9800 66%) 144.7623\n",
      "4m 11s (- 2m 1s) (10000 67%) 149.9091\n",
      "4m 16s (- 1m 55s) (10200 68%) 140.1020\n",
      "4m 21s (- 1m 50s) (10400 70%) 142.7093\n",
      "4m 27s (- 1m 45s) (10600 71%) 149.2706\n",
      "4m 32s (- 1m 40s) (10800 72%) 145.2514\n",
      "4m 37s (- 1m 35s) (11000 74%) 142.2084\n",
      "4m 42s (- 1m 30s) (11200 75%) 144.5684\n",
      "4m 47s (- 1m 25s) (11400 77%) 144.7751\n",
      "4m 52s (- 1m 20s) (11600 78%) 143.0052\n",
      "4m 57s (- 1m 15s) (11800 79%) 148.2624\n",
      "5m 2s (- 1m 10s) (12000 81%) 145.9145\n",
      "5m 7s (- 1m 5s) (12200 82%) 150.8354\n",
      "5m 12s (- 1m 0s) (12400 83%) 145.1236\n",
      "5m 17s (- 0m 55s) (12600 85%) 148.8449\n",
      "5m 22s (- 0m 50s) (12800 86%) 146.8186\n",
      "5m 27s (- 0m 45s) (13000 87%) 152.3117\n",
      "5m 32s (- 0m 40s) (13200 89%) 144.3195\n",
      "5m 37s (- 0m 35s) (13400 90%) 145.3886\n",
      "5m 42s (- 0m 30s) (13600 91%) 148.9617\n",
      "5m 47s (- 0m 25s) (13800 93%) 145.6455\n",
      "5m 53s (- 0m 20s) (14000 94%) 140.6248\n",
      "5m 58s (- 0m 15s) (14200 95%) 147.1946\n",
      "6m 3s (- 0m 10s) (14400 97%) 144.3080\n",
      "6m 8s (- 0m 5s) (14600 98%) 145.6547\n",
      "6m 13s (- 0m 0s) (14800 99%) 147.6322\n"
     ]
    },
    {
     "data": {
      "text/plain": [
       "<matplotlib.figure.Figure at 0x2ad5d66d10b8>"
      ]
     },
     "metadata": {},
     "output_type": "display_data"
    },
    {
     "data": {
      "image/png": "[encoded data removed]",
      "text/plain": [
       "<matplotlib.figure.Figure at 0x2ad5d66d1240>"
      ]
     },
     "metadata": {
      "needs_background": "light"
     },
     "output_type": "display_data"
    }
   ],
   "source": [
    "###TrainCuda\n",
    "hidden_size = 100\n",
    "in_size = len(colHeader)\n",
    "out_size = len(colHeader)\n",
    "n_layers = 2\n",
    "encoder1 = EncoderRNN(in_size, hidden_size, n_layers).to(device)\n",
    "# attn_decoder1 = AttnDecoderRNN(hidden_size, output_lang.n_words, dropout_p=0.1).to(device)\n",
    "attn_decoder1 = BahdanauAttnDecoderRNN(hidden_size, out_size, n_layers=n_layers, dropout_p=0.1).to(device)\n",
    "\n",
    "##UNCOMMENT TO TRAIN THE MODEL\n",
    "trainIters(encoder1, attn_decoder1, 1, allPairs, n_epoches = 3, print_every=200, plot_every = 200, learning_rate=2e-6)\n",
    "\n",
    "# encoder1.load_state_dict(torch.load(\"nmt_models/encoder.pth\", map_location = 'cpu'))\n",
    "# attn_decoder1.load_state_dict(torch.load(\"nmt_models/attn_decoder.pth\", map_location = 'cpu'))"
   ]
  },
  {
   "cell_type": "code",
   "execution_count": 234,
   "metadata": {},
   "outputs": [],
   "source": [
    "torch.save(encoder1.state_dict(), resSeq2Seq + \"//encoder_test1120_\"+str(hidden_size)+\"_\"+str(n_layers)+\".pth\")\n",
    "torch.save(attn_decoder1.state_dict(), resSeq2Seq + \"//attn_decoder_test1120_\"+str(hidden_size)+\"_\"+str(n_layers)+\".pth\")"
   ]
  },
  {
   "cell_type": "code",
   "execution_count": 237,
   "metadata": {
    "scrolled": true
   },
   "outputs": [
    {
     "name": "stderr",
     "output_type": "stream",
     "text": [
      "/beegfs/fs1520/pytorch_gpu/py3.6.3/lib/python3.6/site-packages/ipykernel_launcher.py:39: UserWarning: Implicit dimension choice for log_softmax has been deprecated. Change the call to include dim=X as an argument.\n"
     ]
    },
    {
     "name": "stdout",
     "output_type": "stream",
     "text": [
      "0m 14s (- 17m 26s) (200 1%) 163.7365\n",
      "0m 28s (- 17m 4s) (400 2%) 166.4515\n",
      "0m 42s (- 16m 47s) (600 4%) 161.3159\n",
      "0m 56s (- 16m 33s) (800 5%) 161.4817\n",
      "1m 10s (- 16m 18s) (1000 6%) 159.0965\n",
      "1m 25s (- 16m 3s) (1200 8%) 161.8376\n",
      "1m 39s (- 15m 49s) (1400 9%) 160.8603\n",
      "1m 53s (- 15m 34s) (1600 10%) 158.3037\n",
      "2m 7s (- 15m 20s) (1800 12%) 164.2043\n",
      "2m 21s (- 15m 5s) (2000 13%) 158.6209\n",
      "2m 35s (- 14m 51s) (2200 14%) 163.9146\n",
      "2m 49s (- 14m 37s) (2400 16%) 159.0677\n",
      "3m 4s (- 14m 24s) (2600 17%) 158.1019\n",
      "3m 18s (- 14m 9s) (2800 18%) 149.8159\n",
      "3m 32s (- 13m 55s) (3000 20%) 156.4584\n",
      "3m 46s (- 13m 41s) (3200 21%) 159.8444\n",
      "4m 0s (- 13m 27s) (3400 22%) 147.0287\n",
      "4m 14s (- 13m 12s) (3600 24%) 158.7054\n",
      "4m 28s (- 12m 58s) (3800 25%) 148.1676\n",
      "4m 42s (- 12m 44s) (4000 27%) 153.2171\n",
      "4m 57s (- 12m 30s) (4200 28%) 147.2654\n",
      "5m 11s (- 12m 16s) (4400 29%) 158.1818\n",
      "5m 25s (- 12m 1s) (4600 31%) 148.6187\n",
      "5m 39s (- 11m 47s) (4800 32%) 144.9748\n",
      "5m 53s (- 11m 33s) (5000 33%) 147.6039\n",
      "6m 7s (- 11m 19s) (5200 35%) 149.4179\n",
      "6m 21s (- 11m 5s) (5400 36%) 150.8924\n",
      "6m 36s (- 10m 50s) (5600 37%) 148.3344\n",
      "6m 50s (- 10m 36s) (5800 39%) 148.5670\n",
      "7m 4s (- 10m 22s) (6000 40%) 145.5705\n",
      "7m 18s (- 10m 8s) (6200 41%) 150.8621\n",
      "7m 32s (- 9m 54s) (6400 43%) 147.5312\n",
      "7m 46s (- 9m 40s) (6600 44%) 150.1334\n",
      "8m 0s (- 9m 26s) (6800 45%) 150.8984\n",
      "8m 15s (- 9m 12s) (7000 47%) 146.9900\n",
      "8m 29s (- 8m 57s) (7200 48%) 148.6895\n",
      "8m 43s (- 8m 43s) (7400 49%) 149.1101\n",
      "8m 57s (- 8m 29s) (7600 51%) 147.4894\n",
      "9m 11s (- 8m 15s) (7800 52%) 142.1746\n",
      "9m 25s (- 8m 1s) (8000 54%) 149.5759\n",
      "9m 40s (- 7m 47s) (8200 55%) 146.8418\n",
      "9m 54s (- 7m 33s) (8400 56%) 143.0260\n",
      "10m 8s (- 7m 18s) (8600 58%) 150.4308\n",
      "10m 22s (- 7m 4s) (8800 59%) 141.7817\n",
      "10m 36s (- 6m 50s) (9000 60%) 146.4588\n",
      "10m 50s (- 6m 36s) (9200 62%) 149.1087\n",
      "11m 4s (- 6m 22s) (9400 63%) 147.2785\n",
      "11m 19s (- 6m 8s) (9600 64%) 141.9872\n",
      "11m 33s (- 5m 54s) (9800 66%) 142.7081\n",
      "11m 47s (- 5m 39s) (10000 67%) 145.0020\n",
      "12m 1s (- 5m 25s) (10200 68%) 146.0588\n",
      "12m 15s (- 5m 11s) (10400 70%) 146.1191\n",
      "12m 29s (- 4m 57s) (10600 71%) 147.4416\n",
      "12m 43s (- 4m 43s) (10800 72%) 144.5702\n",
      "12m 58s (- 4m 29s) (11000 74%) 144.5186\n",
      "13m 12s (- 4m 15s) (11200 75%) 146.6847\n",
      "13m 26s (- 4m 0s) (11400 77%) 145.6847\n",
      "13m 40s (- 3m 46s) (11600 78%) 151.2063\n",
      "13m 54s (- 3m 32s) (11800 79%) 145.1073\n",
      "14m 8s (- 3m 18s) (12000 81%) 147.4382\n",
      "14m 22s (- 3m 4s) (12200 82%) 147.6072\n",
      "14m 37s (- 2m 50s) (12400 83%) 146.9552\n",
      "14m 51s (- 2m 35s) (12600 85%) 143.0195\n",
      "15m 5s (- 2m 21s) (12800 86%) 143.6471\n",
      "15m 19s (- 2m 7s) (13000 87%) 149.0432\n",
      "15m 33s (- 1m 53s) (13200 89%) 143.2007\n",
      "15m 47s (- 1m 39s) (13400 90%) 144.1318\n",
      "16m 1s (- 1m 25s) (13600 91%) 146.9250\n",
      "16m 16s (- 1m 11s) (13800 93%) 147.1894\n",
      "16m 30s (- 0m 56s) (14000 94%) 138.8725\n",
      "16m 44s (- 0m 42s) (14200 95%) 151.5242\n",
      "16m 58s (- 0m 28s) (14400 97%) 144.2758\n",
      "17m 12s (- 0m 14s) (14600 98%) 140.8739\n",
      "17m 26s (- 0m 0s) (14800 99%) 141.3693\n"
     ]
    },
    {
     "data": {
      "text/plain": [
       "<matplotlib.figure.Figure at 0x2ad5d892d908>"
      ]
     },
     "metadata": {},
     "output_type": "display_data"
    },
    {
     "data": {
      "image/png": "[encoded data removed]",
      "text/plain": [
       "<matplotlib.figure.Figure at 0x2ad5d892d5f8>"
      ]
     },
     "metadata": {
      "needs_background": "light"
     },
     "output_type": "display_data"
    }
   ],
   "source": [
    "###TrainCuda\n",
    "hidden_size = 200\n",
    "in_size = len(colHeader)\n",
    "out_size = len(colHeader)\n",
    "n_layers = 3\n",
    "encoder1 = EncoderRNN(in_size, hidden_size, n_layers).to(device)\n",
    "# attn_decoder1 = AttnDecoderRNN(hidden_size, output_lang.n_words, dropout_p=0.1).to(device)\n",
    "attn_decoder1 = BahdanauAttnDecoderRNN(hidden_size, out_size, n_layers=n_layers, dropout_p=0.1).to(device)\n",
    "\n",
    "##UNCOMMENT TO TRAIN THE MODEL\n",
    "trainIters(encoder1, attn_decoder1, 1, allPairs, n_epoches = 3, print_every=200, plot_every = 200, learning_rate=2e-6)\n",
    "\n",
    "# encoder1.load_state_dict(torch.load(\"nmt_models/encoder.pth\", map_location = 'cpu'))\n",
    "# attn_decoder1.load_state_dict(torch.load(\"nmt_models/attn_decoder.pth\", map_location = 'cpu'))"
   ]
  },
  {
   "cell_type": "code",
   "execution_count": 238,
   "metadata": {},
   "outputs": [],
   "source": [
    "torch.save(encoder1.state_dict(), resSeq2Seq + \"//encoder_test1120_\"+str(hidden_size)+\"_\"+str(n_layers)+\".pth\")\n",
    "torch.save(attn_decoder1.state_dict(), resSeq2Seq + \"//attn_decoder_test1120_\"+str(hidden_size)+\"_\"+str(n_layers)+\".pth\")"
   ]
  },
  {
   "cell_type": "code",
   "execution_count": null,
   "metadata": {},
   "outputs": [],
   "source": [
    "theBestRnnModel.load_state_dict(torch.load(resPath + '/model_400_sub0.00020.model'))"
   ]
  },
  {
   "cell_type": "code",
   "execution_count": 16,
   "metadata": {},
   "outputs": [],
   "source": [
    "hidden_size = 200\n",
    "in_size = len(colHeader)\n",
    "out_size = len(colHeader)\n",
    "n_layers = 3"
   ]
  },
  {
   "cell_type": "code",
   "execution_count": 17,
   "metadata": {},
   "outputs": [],
   "source": [
    "encoder1 = EncoderRNN(in_size, hidden_size, n_layers).to(device)\n",
    "attn_decoder1 = BahdanauAttnDecoderRNN(hidden_size, out_size, n_layers=n_layers, dropout_p=0.1).to(device)"
   ]
  },
  {
   "cell_type": "code",
   "execution_count": 18,
   "metadata": {},
   "outputs": [],
   "source": [
    "encoder1.load_state_dict(torch.load(resSeq2Seq + \"//encoder_test1120_\"+str(hidden_size)+\"_\"+str(n_layers)+\".pth\"))\n",
    "attn_decoder1.load_state_dict(torch.load(resSeq2Seq + \"//attn_decoder_test1120_\"+str(hidden_size)+\"_\"+str(n_layers)+\".pth\"))"
   ]
  },
  {
   "cell_type": "code",
   "execution_count": 42,
   "metadata": {},
   "outputs": [],
   "source": [
    "def predictor(input_tensor, target_tensor, encoder, decoder, criterion):\n",
    "    encoder_hidden = encoder.initHidden()\n",
    "    \n",
    "    # print(input_tensor.size)\n",
    "    input_length = input_tensor.size(0)\n",
    "    target_length = target_tensor.size(0)\n",
    "    # print(input_length, target_length)\n",
    "\n",
    "    encoder_outputs = torch.zeros(input_length, encoder.hidden_size, device=device)\n",
    "    # print('encOutSize:{}'.format(encoder_outputs.size()))\n",
    "\n",
    "    loss = 0\n",
    "\n",
    "    for ei in range(input_length):\n",
    "        encoder_output, encoder_hidden = encoder(\n",
    "            input_tensor[ei], encoder_hidden)\n",
    "        encoder_outputs[ei] = encoder_output[0, 0]\n",
    "        # print(encoder_output[0, 0])\n",
    "\n",
    "    # decoder_input = torch.tensor([[0.0]*len(colHeader)], device=device)\n",
    "    decoder_input = input_tensor[input_length-1]\n",
    "\n",
    "    decoder_hidden = encoder_hidden\n",
    "    decoder_outputs = torch.zeros(target_length, len(colHeader) , device=device)\n",
    "\n",
    "    for di in range(target_length):\n",
    "        decoder_output, decoder_hidden, decoder_attention = decoder(\n",
    "            decoder_input, decoder_hidden, encoder_outputs)\n",
    "        decoder_input = decoder_output\n",
    "        # print(decoder_outputs.size(), decoder_output.size())\n",
    "        decoder_outputs[di] = decoder_output[0]\n",
    "        \n",
    "        loss += criterion(decoder_output.double(), target_tensor[di].unsqueeze(0).double())\n",
    "\n",
    "    return (decoder_outputs, target_tensor, loss.item() / target_length)"
   ]
  },
  {
   "cell_type": "code",
   "execution_count": 23,
   "metadata": {},
   "outputs": [],
   "source": [
    "allTgtsObesity = [(i, item) for (i, item) in enumerate(allTgts) if item == 1]"
   ]
  },
  {
   "cell_type": "code",
   "execution_count": 27,
   "metadata": {},
   "outputs": [],
   "source": [
    "i = 9"
   ]
  },
  {
   "cell_type": "code",
   "execution_count": 43,
   "metadata": {},
   "outputs": [
    {
     "name": "stdout",
     "output_type": "stream",
     "text": [
      "9 6\n",
      "torch.Size([6, 23]) torch.Size([1, 23])\n",
      "torch.Size([6, 23]) torch.Size([1, 23])\n",
      "torch.Size([6, 23]) torch.Size([1, 23])\n",
      "torch.Size([6, 23]) torch.Size([1, 23])\n",
      "torch.Size([6, 23]) torch.Size([1, 23])\n",
      "torch.Size([6, 23]) torch.Size([1, 23])\n"
     ]
    },
    {
     "name": "stderr",
     "output_type": "stream",
     "text": [
      "/beegfs/fs1520/pytorch_gpu/py3.6.3/lib/python3.6/site-packages/ipykernel_launcher.py:39: UserWarning: Implicit dimension choice for log_softmax has been deprecated. Change the call to include dim=X as an argument.\n"
     ]
    }
   ],
   "source": [
    "predPairs = [[torch.tensor(pair[0], dtype=torch.double, device=device), \\\n",
    "               torch.tensor(pair[1], dtype=torch.double, device=device)] for pair in allPairs]\n",
    "predicted, target, loss = predictor(predPairs[i][0], predPairs[i][1], encoder1, attn_decoder1, nn.KLDivLoss())"
   ]
  },
  {
   "cell_type": "code",
   "execution_count": 44,
   "metadata": {},
   "outputs": [
    {
     "data": {
      "text/plain": [
       "tensor([[-2.7202, -2.5493, -3.9636, -3.9467, -4.0362, -3.2221, -2.7002,\n",
       "         -2.2469, -4.0279, -2.2288, -3.9778, -4.0162, -3.8507, -3.7924,\n",
       "         -2.5765, -3.9923, -3.2170, -2.4992, -2.5307, -3.9319, -3.9287,\n",
       "         -3.5740, -4.0415],\n",
       "        [-2.4226, -2.3883, -4.6738, -4.6500, -4.7801, -3.4033, -2.5944,\n",
       "         -2.0385, -4.6219, -2.0147, -4.7075, -4.7322, -4.4924, -4.4049,\n",
       "         -2.3565, -4.7123, -3.3099, -2.3662, -2.3999, -4.6004, -4.6142,\n",
       "         -4.1142, -4.7696],\n",
       "        [-2.2115, -2.4753, -5.1318, -5.1735, -5.3437, -3.6006, -2.5446,\n",
       "         -1.9176, -5.0426, -1.9297, -5.2708, -5.2930, -5.0331, -4.8651,\n",
       "         -2.1998, -5.2652, -3.4635, -2.3259, -2.4267, -5.1410, -5.1010,\n",
       "         -4.5371, -5.2629],\n",
       "        [-2.1269, -2.4582, -5.6912, -5.7762, -5.9455, -3.8054, -2.5124,\n",
       "         -1.8845, -5.4653, -1.8587, -5.8438, -5.9030, -5.5158, -5.2850,\n",
       "         -2.1297, -5.8403, -3.6542, -2.2995, -2.3970, -5.6071, -5.6013,\n",
       "         -4.9909, -5.8375],\n",
       "        [-2.0767, -2.4333, -6.0201, -6.1052, -6.2911, -3.9253, -2.4792,\n",
       "         -1.8595, -5.7677, -1.8525, -6.2435, -6.2819, -5.8213, -5.5599,\n",
       "         -2.0977, -6.1923, -3.7793, -2.3110, -2.3961, -5.8964, -5.9571,\n",
       "         -5.2493, -6.1713],\n",
       "        [-2.0512, -2.4184, -6.2240, -6.2863, -6.5060, -3.9851, -2.4673,\n",
       "         -1.8549, -5.9293, -1.8641, -6.4095, -6.4585, -6.0196, -5.6953,\n",
       "         -2.0400, -6.3852, -3.8168, -2.3323, -2.4180, -6.0562, -6.1318,\n",
       "         -5.4455, -6.3542]])"
      ]
     },
     "execution_count": 44,
     "metadata": {},
     "output_type": "execute_result"
    }
   ],
   "source": [
    "predicted"
   ]
  },
  {
   "cell_type": "code",
   "execution_count": 45,
   "metadata": {},
   "outputs": [
    {
     "data": {
      "text/plain": [
       "tensor([[  70.0000,   50.0000,    0.6531,    0.0000,    0.0000,   16.2700,\n",
       "            0.0000,   91.4400,    0.0000,   97.0000,    0.0000,    0.0000,\n",
       "            0.0000,   18.0000,   88.0000,    0.0000,   13.6078,   49.5500,\n",
       "            0.0000,    0.0000,    0.0000,    0.0000,    0.0000],\n",
       "        [  70.0000,   75.0000,    0.6887,    0.0000,    0.0000,   16.5000,\n",
       "            0.0000,   95.2500,    0.0000,   97.4000,    0.0000,    0.0000,\n",
       "            0.0000,   16.0000,   78.0000,    0.0000,   14.6662,   61.7500,\n",
       "            0.0000,    0.0000,    0.0000,    0.0000,    0.0000],\n",
       "        [  98.0000,   90.0000,    1.5885,    0.0000,    0.0000,   17.4800,\n",
       "            0.0000,   97.9932,    0.0000,   98.2000,    0.0000,    0.0000,\n",
       "            0.0000,   26.0000,  115.0000,    0.0000,   16.7829,   89.6500,\n",
       "            0.0000,    0.0000,    0.0000,    0.0000,    0.0000],\n",
       "        [ 109.0000,   97.5000,    2.4990,    0.0000,    0.0000,   18.8433,\n",
       "            0.0000,  105.7465,    0.0000,   97.4200,    0.0000,    0.0000,\n",
       "            0.0000,    0.0000,    0.0000,    0.0000,   21.3923,   97.1733,\n",
       "            0.0000,    0.0000,    0.0000,    0.0000,    0.0000],\n",
       "        [   0.0000,   99.5625,    0.0000,    0.0000,    0.0000,   21.3737,\n",
       "           82.4167,  112.4490,    0.0000,   98.0889,    0.0000,    0.0000,\n",
       "           11.0000,    0.0000,    0.0000,    0.0000,   26.7620,   99.1200,\n",
       "           98.5800,    0.0000,    0.0000,    0.0000,    0.0000],\n",
       "        [ 100.0000,   99.0000,    0.0000,    0.0000,    0.0000,   21.0833,\n",
       "           88.5733,  120.3367,    0.0000,   99.4500,    0.0000,    0.0000,\n",
       "            2.0000,    0.0000,   93.0000,    0.0000,   30.5419,   98.5233,\n",
       "           98.5533,    0.0000,    0.0000,    0.0000,    0.0000]])"
      ]
     },
     "execution_count": 45,
     "metadata": {},
     "output_type": "execute_result"
    }
   ],
   "source": [
    "target"
   ]
  },
  {
   "cell_type": "markdown",
   "metadata": {},
   "source": [
    "### Try No Softmax"
   ]
  },
  {
   "cell_type": "code",
   "execution_count": 14,
   "metadata": {},
   "outputs": [],
   "source": [
    "class BahdanauAttnDecoderRNN_NoSM(nn.Module):\n",
    "    def __init__(self, hidden_size, output_size, n_layers=1, dropout_p=0.1, max_len = 100):\n",
    "        super(BahdanauAttnDecoderRNN_NoSM, self).__init__()\n",
    "        \n",
    "        # Define parameters\n",
    "        self.hidden_size = hidden_size\n",
    "        self.output_size = output_size\n",
    "        self.n_layers = n_layers\n",
    "        self.dropout_p = dropout_p\n",
    "        self.max_len = max_len\n",
    "        \n",
    "        # Define layers\n",
    "        self.linear = nn.Linear(output_size, hidden_size)\n",
    "        self.dropout = nn.Dropout(dropout_p)\n",
    "        # self.attn = nn.Linear(hidden_size, self.max_len)\n",
    "        self.attn = Attn(hidden_size)\n",
    "        self.gru = nn.GRU(hidden_size * 2, hidden_size, n_layers, dropout=dropout_p)\n",
    "        self.out = nn.Linear(hidden_size, output_size)\n",
    "    \n",
    "    def forward(self, cur_input, last_hidden, encoder_outputs):\n",
    "        # Note that we will only be running forward for a single decoder time step, but will use all encoder outputs\n",
    "        \n",
    "        # Get the embedding of the current input word (last output word)\n",
    "        # print('ci size:{}'.format(cur_input.size()))\n",
    "        vec_input = self.linear(cur_input).view(1, 1, -1) # S=1 x B x N\n",
    "        vec_input = self.dropout(vec_input)\n",
    "        # print('vi size:{}, lh size:{}, enc_out size:{}'.format(vec_input.size(), last_hidden.size(), encoder_outputs.size()))\n",
    "        attn_weights = self.attn(last_hidden[-1], encoder_outputs )\n",
    "        #print('wt size:{}, eo size:{}'.format(attn_weights.size(), encoder_outputs.size()))\n",
    "        attn_applied = attn_weights.bmm(encoder_outputs.unsqueeze(0))  # (B,1,V)\n",
    "        attn_applied = attn_applied.transpose(0, 1)\n",
    "        #print('we size:{}, lh size:{}, aa size:{}'.format(word_embedded.size(), last_hidden.size(), attn_applied.size()))\n",
    "        rnn_input = torch.cat((vec_input, attn_applied), 2)\n",
    "        \n",
    "        output, hidden = self.gru(rnn_input, last_hidden)\n",
    "        \n",
    "        # Final output layer\n",
    "        output = output.squeeze(0) # B x N\n",
    "        output = self.out(output)\n",
    "        #print(output.size())\n",
    "        \n",
    "        # Return final output, hidden state, and attention weights (for visualization)\n",
    "        return output, hidden, attn_weights"
   ]
  },
  {
   "cell_type": "code",
   "execution_count": 15,
   "metadata": {},
   "outputs": [],
   "source": [
    "teacher_forcing_ratio = 0.5\n",
    "\n",
    "def train_NoSM(input_tensor, target_tensor, encoder, decoder, encoder_optimizer, decoder_optimizer, criterion):\n",
    "    encoder_hidden = encoder.initHidden()\n",
    "\n",
    "    encoder_optimizer.zero_grad()\n",
    "    decoder_optimizer.zero_grad()\n",
    "\n",
    "    input_length = input_tensor.size(0)\n",
    "    target_length = target_tensor.size(0)\n",
    "    # print(\"inLen:{},tgtLen:{}\".format(input_length, target_length))\n",
    "\n",
    "    encoder_outputs = torch.zeros(input_length, encoder.hidden_size, device=device)\n",
    "    # print('encOutSize:{}'.format(encoder_outputs.size()))\n",
    "\n",
    "    loss = 0\n",
    "\n",
    "    for ei in range(input_length):\n",
    "        encoder_output, encoder_hidden = encoder(\n",
    "            input_tensor[ei], encoder_hidden)\n",
    "        encoder_outputs[ei] = encoder_output[0, 0]\n",
    "\n",
    "    # decoder_input = torch.tensor([[0.0]*len(colHeader)], device=device)\n",
    "    decoder_input = input_tensor[input_length-1]\n",
    "\n",
    "    decoder_hidden = encoder_hidden\n",
    "\n",
    "    use_teacher_forcing = True if random.random() < teacher_forcing_ratio else False\n",
    "    # use_teacher_forcing = False\n",
    "    # print(target_tensor.size())\n",
    "\n",
    "    if use_teacher_forcing:\n",
    "        # Teacher forcing: Feed the target as the next input\n",
    "        for di in range(target_length):\n",
    "            decoder_output, decoder_hidden, decoder_attention = decoder(\n",
    "                decoder_input, decoder_hidden, encoder_outputs)\n",
    "            # print(\"typeOrg:{}, typeChanged:{}\".format(target_tensor[di].type(), target_tensor[di].unsqueeze(0).type()))\n",
    "            # print(\"typeDcd:{}\".format(decoder_output.type()))\n",
    "            # print(decoder_output)\n",
    "            # print(target_tensor[di].unsqueeze(0))\n",
    "            loss += criterion(decoder_output.double(), target_tensor[di].unsqueeze(0).double())\n",
    "            decoder_input = target_tensor[di].unsqueeze(0)  # Teacher forcing\n",
    "            # print('forced', decoder_input)\n",
    "\n",
    "    else:\n",
    "        # Without teacher forcing: use its own predictions as the next input\n",
    "        for di in range(target_length):\n",
    "            decoder_output, decoder_hidden, decoder_attention = decoder(\n",
    "                decoder_input, decoder_hidden, encoder_outputs)\n",
    "            # topv, topi = decoder_output.topk(1)\n",
    "            # decoder_input = topi.squeeze().detach()  # detach from history as input\n",
    "            decoder_input = decoder_output\n",
    "            # print(\"typeOrg:{}, typeChanged:{}\".format(target_tensor[di].type(), target_tensor[di].unsqueeze(0).type()))\n",
    "            # print(\"typeDcd:{}\".format(decoder_output.type()))\n",
    "            # print(decoder_output)\n",
    "            # print(target_tensor[di].unsqueeze(0))\n",
    "            loss += criterion(decoder_output.double(), target_tensor[di].unsqueeze(0).double())\n",
    "            # print('Noforced', decoder_input)\n",
    "            # print('Noforced_dout', decoder_output)\n",
    "            \n",
    "\n",
    "    loss.backward()\n",
    "\n",
    "    encoder_optimizer.step()\n",
    "    decoder_optimizer.step()\n",
    "\n",
    "    return loss.item() / target_length"
   ]
  },
  {
   "cell_type": "code",
   "execution_count": 46,
   "metadata": {},
   "outputs": [],
   "source": [
    "def trainIters_NoSM(encoder, decoder, n_iters, pairs, n_epoches=1, print_every=1000, plot_every=1000, learning_rate=1e-3, \\\n",
    "                    criterion = nn.MSELoss(), marker='NoSM'):\n",
    "    start = time.time()\n",
    "    plot_losses = []\n",
    "    val_losses = []\n",
    "    print_loss_total = 0  # Reset every print_every\n",
    "    plot_loss_total = 0  # Reset every plot_every\n",
    "    val_loss_total = 0\n",
    "\n",
    "    encoder_optimizer = optim.SGD(encoder.parameters(), lr=learning_rate)\n",
    "    decoder_optimizer = optim.SGD(decoder.parameters(), lr=learning_rate)\n",
    "    trainPairs = copy.deepcopy(pairs)\n",
    "    random.shuffle(trainPairs)\n",
    "    # training_pairs = [tensorsFromPair(random.choice(pairs))\n",
    "    #                   for i in range(n_iters)]\n",
    "    training_pairs = [[torch.tensor(pair[0], dtype=torch.double, device=device), \\\n",
    "                       torch.tensor(pair[1], dtype=torch.double, device=device)] for pair in trainPairs] * n_epoches\n",
    "    # criterion = nn.NLLLoss().double()\n",
    "    # criterion = nn.KLDivLoss()\n",
    "    criterion = criterion\n",
    "    if n_epoches > 1:\n",
    "        n_iters = len(training_pairs)\n",
    "\n",
    "    for iter in range(1, n_iters+1):\n",
    "        training_pair = training_pairs[iter - 1]\n",
    "        input_tensor = training_pair[0]\n",
    "        target_tensor = training_pair[1]\n",
    "\n",
    "        loss = train_NoSM(input_tensor, target_tensor, encoder,\n",
    "                     decoder, encoder_optimizer, decoder_optimizer, criterion)\n",
    "        print_loss_total += loss\n",
    "        plot_loss_total += loss\n",
    "\n",
    "        if iter % print_every == 0:\n",
    "            print_loss_avg = print_loss_total / print_every\n",
    "            print_loss_total = 0\n",
    "            \n",
    "            this_pred_loss = 0\n",
    "            for i in range(len(predPairs)):\n",
    "                _, _, loss3 = predictor(predPairs[i][0], predPairs[i][1], encoder, decoder, nn.MSELoss())\n",
    "                this_pred_loss += loss3\n",
    "            this_pred_loss /= print_every\n",
    "            val_losses.append(this_pred_loss)\n",
    "            print('%s (%d %d%%) %.4f %.4f' % (timeSince(start, iter / n_iters),\n",
    "                                         iter, iter / n_iters * 100, print_loss_avg, this_pred_loss))\n",
    "\n",
    "        if iter % plot_every == 0:\n",
    "            plot_loss_avg = plot_loss_total / plot_every\n",
    "            plot_losses.append(plot_loss_avg)\n",
    "            plot_loss_total = 0\n",
    "    pkl_dumper(plot_losses, resSeq2Seq + '//trainS2S1215'+str(hidden_size)+'_'+str(n_layers)+'_'+str(n_epoches)+marker+'.p')\n",
    "    pkl_dumper(val_losses, resSeq2Seq + '//trainS2S1215_val'+str(hidden_size)+'_'+str(n_layers)+'_'+str(n_epoches)+marker+'.p')\n",
    "    showPlot(plot_losses, 'train_loss')\n",
    "    showPlot(val_losses, 'val_loss')\n",
    "    return(plot_losses, val_losses)\n",
    "    "
   ]
  },
  {
   "cell_type": "code",
   "execution_count": 61,
   "metadata": {
    "scrolled": true
   },
   "outputs": [
    {
     "name": "stdout",
     "output_type": "stream",
     "text": [
      "0m 16s (- 20m 28s) (200 1%) 95.2264\n",
      "0m 33s (- 20m 7s) (400 2%) 91.7499\n",
      "0m 50s (- 19m 48s) (600 4%) 94.8018\n",
      "1m 6s (- 19m 30s) (800 5%) 91.9626\n",
      "1m 23s (- 19m 13s) (1000 6%) 89.1519\n",
      "1m 40s (- 18m 58s) (1200 8%) 89.3633\n",
      "1m 57s (- 18m 42s) (1400 9%) 91.1984\n",
      "2m 13s (- 18m 25s) (1600 10%) 88.5093\n",
      "2m 30s (- 18m 8s) (1800 12%) 82.2186\n",
      "2m 47s (- 17m 52s) (2000 13%) 82.6931\n",
      "3m 4s (- 17m 35s) (2200 14%) 76.8564\n",
      "3m 21s (- 17m 19s) (2400 16%) 81.1611\n",
      "3m 37s (- 17m 2s) (2600 17%) 79.5382\n",
      "3m 54s (- 16m 45s) (2800 18%) 72.8502\n",
      "4m 11s (- 16m 28s) (3000 20%) 69.0142\n",
      "4m 27s (- 16m 11s) (3200 21%) 62.6276\n",
      "4m 44s (- 15m 54s) (3400 22%) 54.4415\n",
      "5m 1s (- 15m 38s) (3600 24%) 46.8976\n",
      "5m 18s (- 15m 21s) (3800 25%) 36.2465\n",
      "5m 34s (- 15m 4s) (4000 27%) 23.7884\n",
      "5m 51s (- 14m 48s) (4200 28%) 12.1856\n",
      "6m 8s (- 14m 31s) (4400 29%) -1.9402\n",
      "6m 25s (- 14m 14s) (4600 31%) -18.8181\n",
      "6m 41s (- 13m 57s) (4800 32%) -36.2828\n",
      "6m 58s (- 13m 40s) (5000 33%) -51.0773\n",
      "7m 15s (- 13m 24s) (5200 35%) -70.2523\n",
      "7m 32s (- 13m 7s) (5400 36%) -88.1873\n",
      "7m 49s (- 12m 50s) (5600 37%) -106.9505\n",
      "8m 5s (- 12m 34s) (5800 39%) -131.2073\n",
      "8m 22s (- 12m 17s) (6000 40%) -150.4772\n",
      "8m 39s (- 12m 0s) (6200 41%) -174.5951\n",
      "8m 56s (- 11m 43s) (6400 43%) -194.9724\n",
      "9m 12s (- 11m 27s) (6600 44%) -220.6994\n",
      "9m 29s (- 11m 10s) (6800 45%) -234.8258\n",
      "9m 46s (- 10m 53s) (7000 47%) -257.8361\n",
      "10m 3s (- 10m 37s) (7200 48%) -269.1564\n",
      "10m 19s (- 10m 20s) (7400 49%) -317.4392\n",
      "10m 36s (- 10m 3s) (7600 51%) -342.6528\n",
      "10m 53s (- 9m 46s) (7800 52%) -360.6503\n",
      "11m 9s (- 9m 29s) (8000 54%) -390.6147\n",
      "11m 26s (- 9m 12s) (8200 55%) -415.5172\n",
      "11m 43s (- 8m 56s) (8400 56%) -443.9727\n",
      "12m 0s (- 8m 39s) (8600 58%) -477.5806\n",
      "12m 16s (- 8m 22s) (8800 59%) -475.6868\n",
      "12m 33s (- 8m 5s) (9000 60%) -521.1546\n",
      "12m 50s (- 7m 49s) (9200 62%) -563.0372\n",
      "13m 6s (- 7m 32s) (9400 63%) -569.2581\n",
      "13m 23s (- 7m 15s) (9600 64%) -618.7870\n",
      "13m 40s (- 6m 58s) (9800 66%) -623.6987\n",
      "13m 56s (- 6m 42s) (10000 67%) -651.2056\n",
      "14m 13s (- 6m 25s) (10200 68%) -682.6626\n",
      "14m 30s (- 6m 8s) (10400 70%) -708.8116\n",
      "14m 47s (- 5m 51s) (10600 71%) -725.9124\n",
      "15m 3s (- 5m 35s) (10800 72%) -769.2031\n",
      "15m 20s (- 5m 18s) (11000 74%) -777.0233\n",
      "15m 37s (- 5m 1s) (11200 75%) -815.3804\n",
      "15m 54s (- 4m 44s) (11400 77%) -846.7930\n",
      "16m 10s (- 4m 28s) (11600 78%) -853.1543\n",
      "16m 27s (- 4m 11s) (11800 79%) -880.6407\n",
      "16m 44s (- 3m 54s) (12000 81%) -872.0592\n",
      "17m 0s (- 3m 38s) (12200 82%) -906.0620\n",
      "17m 17s (- 3m 21s) (12400 83%) -988.9362\n",
      "17m 34s (- 3m 4s) (12600 85%) -1012.5115\n",
      "17m 51s (- 2m 47s) (12800 86%) -1008.5728\n",
      "18m 8s (- 2m 31s) (13000 87%) -1047.9302\n",
      "18m 25s (- 2m 14s) (13200 89%) -1074.4219\n",
      "18m 41s (- 1m 57s) (13400 90%) -1107.5403\n",
      "18m 58s (- 1m 40s) (13600 91%) -1147.8228\n",
      "19m 15s (- 1m 24s) (13800 93%) -1123.4719\n",
      "19m 32s (- 1m 7s) (14000 94%) -1198.1283\n",
      "19m 49s (- 0m 50s) (14200 95%) -1213.2964\n",
      "20m 6s (- 0m 33s) (14400 97%) -1242.0137\n",
      "20m 23s (- 0m 17s) (14600 98%) -1305.3681\n",
      "20m 40s (- 0m 0s) (14800 99%) -1276.5232\n",
      "Error in callback <function install_repl_displayhook.<locals>.post_execute at 0x2b113aaed2f0> (for post_execute):\n"
     ]
    },
    {
     "ename": "RuntimeError",
     "evalue": "Locator attempting to generate 7705 ticks from -1375.4 to 165.4: exceeds Locator.MAXTICKS",
     "output_type": "error",
     "traceback": [
      "\u001b[0;31m---------------------------------------------------------------------------\u001b[0m",
      "\u001b[0;31mRuntimeError\u001b[0m                              Traceback (most recent call last)",
      "\u001b[0;32m/share/apps/python3/3.6.3/intel/lib/python3.6/site-packages/matplotlib-2.1.0-py3.6-linux-x86_64.egg/matplotlib/pyplot.py\u001b[0m in \u001b[0;36mpost_execute\u001b[0;34m()\u001b[0m\n\u001b[1;32m    145\u001b[0m             \u001b[0;32mdef\u001b[0m \u001b[0mpost_execute\u001b[0m\u001b[0;34m(\u001b[0m\u001b[0;34m)\u001b[0m\u001b[0;34m:\u001b[0m\u001b[0;34m\u001b[0m\u001b[0m\n\u001b[1;32m    146\u001b[0m                 \u001b[0;32mif\u001b[0m \u001b[0mmatplotlib\u001b[0m\u001b[0;34m.\u001b[0m\u001b[0mis_interactive\u001b[0m\u001b[0;34m(\u001b[0m\u001b[0;34m)\u001b[0m\u001b[0;34m:\u001b[0m\u001b[0;34m\u001b[0m\u001b[0m\n\u001b[0;32m--> 147\u001b[0;31m                     \u001b[0mdraw_all\u001b[0m\u001b[0;34m(\u001b[0m\u001b[0;34m)\u001b[0m\u001b[0;34m\u001b[0m\u001b[0m\n\u001b[0m\u001b[1;32m    148\u001b[0m \u001b[0;34m\u001b[0m\u001b[0m\n\u001b[1;32m    149\u001b[0m             \u001b[0;31m# IPython >= 2\u001b[0m\u001b[0;34m\u001b[0m\u001b[0;34m\u001b[0m\u001b[0m\n",
      "\u001b[0;32m/share/apps/python3/3.6.3/intel/lib/python3.6/site-packages/matplotlib-2.1.0-py3.6-linux-x86_64.egg/matplotlib/_pylab_helpers.py\u001b[0m in \u001b[0;36mdraw_all\u001b[0;34m(cls, force)\u001b[0m\n\u001b[1;32m    148\u001b[0m         \u001b[0;32mfor\u001b[0m \u001b[0mf_mgr\u001b[0m \u001b[0;32min\u001b[0m \u001b[0mcls\u001b[0m\u001b[0;34m.\u001b[0m\u001b[0mget_all_fig_managers\u001b[0m\u001b[0;34m(\u001b[0m\u001b[0;34m)\u001b[0m\u001b[0;34m:\u001b[0m\u001b[0;34m\u001b[0m\u001b[0m\n\u001b[1;32m    149\u001b[0m             \u001b[0;32mif\u001b[0m \u001b[0mforce\u001b[0m \u001b[0;32mor\u001b[0m \u001b[0mf_mgr\u001b[0m\u001b[0;34m.\u001b[0m\u001b[0mcanvas\u001b[0m\u001b[0;34m.\u001b[0m\u001b[0mfigure\u001b[0m\u001b[0;34m.\u001b[0m\u001b[0mstale\u001b[0m\u001b[0;34m:\u001b[0m\u001b[0;34m\u001b[0m\u001b[0m\n\u001b[0;32m--> 150\u001b[0;31m                 \u001b[0mf_mgr\u001b[0m\u001b[0;34m.\u001b[0m\u001b[0mcanvas\u001b[0m\u001b[0;34m.\u001b[0m\u001b[0mdraw_idle\u001b[0m\u001b[0;34m(\u001b[0m\u001b[0;34m)\u001b[0m\u001b[0;34m\u001b[0m\u001b[0m\n\u001b[0m\u001b[1;32m    151\u001b[0m \u001b[0;34m\u001b[0m\u001b[0m\n\u001b[1;32m    152\u001b[0m \u001b[0matexit\u001b[0m\u001b[0;34m.\u001b[0m\u001b[0mregister\u001b[0m\u001b[0;34m(\u001b[0m\u001b[0mGcf\u001b[0m\u001b[0;34m.\u001b[0m\u001b[0mdestroy_all\u001b[0m\u001b[0;34m)\u001b[0m\u001b[0;34m\u001b[0m\u001b[0m\n",
      "\u001b[0;32m/share/apps/python3/3.6.3/intel/lib/python3.6/site-packages/matplotlib-2.1.0-py3.6-linux-x86_64.egg/matplotlib/backend_bases.py\u001b[0m in \u001b[0;36mdraw_idle\u001b[0;34m(self, *args, **kwargs)\u001b[0m\n\u001b[1;32m   2051\u001b[0m         \u001b[0;32mif\u001b[0m \u001b[0;32mnot\u001b[0m \u001b[0mself\u001b[0m\u001b[0;34m.\u001b[0m\u001b[0m_is_idle_drawing\u001b[0m\u001b[0;34m:\u001b[0m\u001b[0;34m\u001b[0m\u001b[0m\n\u001b[1;32m   2052\u001b[0m             \u001b[0;32mwith\u001b[0m \u001b[0mself\u001b[0m\u001b[0;34m.\u001b[0m\u001b[0m_idle_draw_cntx\u001b[0m\u001b[0;34m(\u001b[0m\u001b[0;34m)\u001b[0m\u001b[0;34m:\u001b[0m\u001b[0;34m\u001b[0m\u001b[0m\n\u001b[0;32m-> 2053\u001b[0;31m                 \u001b[0mself\u001b[0m\u001b[0;34m.\u001b[0m\u001b[0mdraw\u001b[0m\u001b[0;34m(\u001b[0m\u001b[0;34m*\u001b[0m\u001b[0margs\u001b[0m\u001b[0;34m,\u001b[0m \u001b[0;34m**\u001b[0m\u001b[0mkwargs\u001b[0m\u001b[0;34m)\u001b[0m\u001b[0;34m\u001b[0m\u001b[0m\n\u001b[0m\u001b[1;32m   2054\u001b[0m \u001b[0;34m\u001b[0m\u001b[0m\n\u001b[1;32m   2055\u001b[0m     \u001b[0;32mdef\u001b[0m \u001b[0mdraw_cursor\u001b[0m\u001b[0;34m(\u001b[0m\u001b[0mself\u001b[0m\u001b[0;34m,\u001b[0m \u001b[0mevent\u001b[0m\u001b[0;34m)\u001b[0m\u001b[0;34m:\u001b[0m\u001b[0;34m\u001b[0m\u001b[0m\n",
      "\u001b[0;32m/share/apps/python3/3.6.3/intel/lib/python3.6/site-packages/matplotlib-2.1.0-py3.6-linux-x86_64.egg/matplotlib/backends/backend_agg.py\u001b[0m in \u001b[0;36mdraw\u001b[0;34m(self)\u001b[0m\n\u001b[1;32m    428\u001b[0m             \u001b[0;32mif\u001b[0m \u001b[0mtoolbar\u001b[0m\u001b[0;34m:\u001b[0m\u001b[0;34m\u001b[0m\u001b[0m\n\u001b[1;32m    429\u001b[0m                 \u001b[0mtoolbar\u001b[0m\u001b[0;34m.\u001b[0m\u001b[0mset_cursor\u001b[0m\u001b[0;34m(\u001b[0m\u001b[0mcursors\u001b[0m\u001b[0;34m.\u001b[0m\u001b[0mWAIT\u001b[0m\u001b[0;34m)\u001b[0m\u001b[0;34m\u001b[0m\u001b[0m\n\u001b[0;32m--> 430\u001b[0;31m             \u001b[0mself\u001b[0m\u001b[0;34m.\u001b[0m\u001b[0mfigure\u001b[0m\u001b[0;34m.\u001b[0m\u001b[0mdraw\u001b[0m\u001b[0;34m(\u001b[0m\u001b[0mself\u001b[0m\u001b[0;34m.\u001b[0m\u001b[0mrenderer\u001b[0m\u001b[0;34m)\u001b[0m\u001b[0;34m\u001b[0m\u001b[0m\n\u001b[0m\u001b[1;32m    431\u001b[0m         \u001b[0;32mfinally\u001b[0m\u001b[0;34m:\u001b[0m\u001b[0;34m\u001b[0m\u001b[0m\n\u001b[1;32m    432\u001b[0m             \u001b[0;32mif\u001b[0m \u001b[0mtoolbar\u001b[0m\u001b[0;34m:\u001b[0m\u001b[0;34m\u001b[0m\u001b[0m\n",
      "\u001b[0;32m/share/apps/python3/3.6.3/intel/lib/python3.6/site-packages/matplotlib-2.1.0-py3.6-linux-x86_64.egg/matplotlib/artist.py\u001b[0m in \u001b[0;36mdraw_wrapper\u001b[0;34m(artist, renderer, *args, **kwargs)\u001b[0m\n\u001b[1;32m     53\u001b[0m                 \u001b[0mrenderer\u001b[0m\u001b[0;34m.\u001b[0m\u001b[0mstart_filter\u001b[0m\u001b[0;34m(\u001b[0m\u001b[0;34m)\u001b[0m\u001b[0;34m\u001b[0m\u001b[0m\n\u001b[1;32m     54\u001b[0m \u001b[0;34m\u001b[0m\u001b[0m\n\u001b[0;32m---> 55\u001b[0;31m             \u001b[0;32mreturn\u001b[0m \u001b[0mdraw\u001b[0m\u001b[0;34m(\u001b[0m\u001b[0martist\u001b[0m\u001b[0;34m,\u001b[0m \u001b[0mrenderer\u001b[0m\u001b[0;34m,\u001b[0m \u001b[0;34m*\u001b[0m\u001b[0margs\u001b[0m\u001b[0;34m,\u001b[0m \u001b[0;34m**\u001b[0m\u001b[0mkwargs\u001b[0m\u001b[0;34m)\u001b[0m\u001b[0;34m\u001b[0m\u001b[0m\n\u001b[0m\u001b[1;32m     56\u001b[0m         \u001b[0;32mfinally\u001b[0m\u001b[0;34m:\u001b[0m\u001b[0;34m\u001b[0m\u001b[0m\n\u001b[1;32m     57\u001b[0m             \u001b[0;32mif\u001b[0m \u001b[0martist\u001b[0m\u001b[0;34m.\u001b[0m\u001b[0mget_agg_filter\u001b[0m\u001b[0;34m(\u001b[0m\u001b[0;34m)\u001b[0m \u001b[0;32mis\u001b[0m \u001b[0;32mnot\u001b[0m \u001b[0;32mNone\u001b[0m\u001b[0;34m:\u001b[0m\u001b[0;34m\u001b[0m\u001b[0m\n",
      "\u001b[0;32m/share/apps/python3/3.6.3/intel/lib/python3.6/site-packages/matplotlib-2.1.0-py3.6-linux-x86_64.egg/matplotlib/figure.py\u001b[0m in \u001b[0;36mdraw\u001b[0;34m(self, renderer)\u001b[0m\n\u001b[1;32m   1293\u001b[0m \u001b[0;34m\u001b[0m\u001b[0m\n\u001b[1;32m   1294\u001b[0m             mimage._draw_list_compositing_images(\n\u001b[0;32m-> 1295\u001b[0;31m                 renderer, self, artists, self.suppressComposite)\n\u001b[0m\u001b[1;32m   1296\u001b[0m \u001b[0;34m\u001b[0m\u001b[0m\n\u001b[1;32m   1297\u001b[0m             \u001b[0mrenderer\u001b[0m\u001b[0;34m.\u001b[0m\u001b[0mclose_group\u001b[0m\u001b[0;34m(\u001b[0m\u001b[0;34m'figure'\u001b[0m\u001b[0;34m)\u001b[0m\u001b[0;34m\u001b[0m\u001b[0m\n",
      "\u001b[0;32m/share/apps/python3/3.6.3/intel/lib/python3.6/site-packages/matplotlib-2.1.0-py3.6-linux-x86_64.egg/matplotlib/image.py\u001b[0m in \u001b[0;36m_draw_list_compositing_images\u001b[0;34m(renderer, parent, artists, suppress_composite)\u001b[0m\n\u001b[1;32m    136\u001b[0m     \u001b[0;32mif\u001b[0m \u001b[0mnot_composite\u001b[0m \u001b[0;32mor\u001b[0m \u001b[0;32mnot\u001b[0m \u001b[0mhas_images\u001b[0m\u001b[0;34m:\u001b[0m\u001b[0;34m\u001b[0m\u001b[0m\n\u001b[1;32m    137\u001b[0m         \u001b[0;32mfor\u001b[0m \u001b[0ma\u001b[0m \u001b[0;32min\u001b[0m \u001b[0martists\u001b[0m\u001b[0;34m:\u001b[0m\u001b[0;34m\u001b[0m\u001b[0m\n\u001b[0;32m--> 138\u001b[0;31m             \u001b[0ma\u001b[0m\u001b[0;34m.\u001b[0m\u001b[0mdraw\u001b[0m\u001b[0;34m(\u001b[0m\u001b[0mrenderer\u001b[0m\u001b[0;34m)\u001b[0m\u001b[0;34m\u001b[0m\u001b[0m\n\u001b[0m\u001b[1;32m    139\u001b[0m     \u001b[0;32melse\u001b[0m\u001b[0;34m:\u001b[0m\u001b[0;34m\u001b[0m\u001b[0m\n\u001b[1;32m    140\u001b[0m         \u001b[0;31m# Composite any adjacent images together\u001b[0m\u001b[0;34m\u001b[0m\u001b[0;34m\u001b[0m\u001b[0m\n",
      "\u001b[0;32m/share/apps/python3/3.6.3/intel/lib/python3.6/site-packages/matplotlib-2.1.0-py3.6-linux-x86_64.egg/matplotlib/artist.py\u001b[0m in \u001b[0;36mdraw_wrapper\u001b[0;34m(artist, renderer, *args, **kwargs)\u001b[0m\n\u001b[1;32m     53\u001b[0m                 \u001b[0mrenderer\u001b[0m\u001b[0;34m.\u001b[0m\u001b[0mstart_filter\u001b[0m\u001b[0;34m(\u001b[0m\u001b[0;34m)\u001b[0m\u001b[0;34m\u001b[0m\u001b[0m\n\u001b[1;32m     54\u001b[0m \u001b[0;34m\u001b[0m\u001b[0m\n\u001b[0;32m---> 55\u001b[0;31m             \u001b[0;32mreturn\u001b[0m \u001b[0mdraw\u001b[0m\u001b[0;34m(\u001b[0m\u001b[0martist\u001b[0m\u001b[0;34m,\u001b[0m \u001b[0mrenderer\u001b[0m\u001b[0;34m,\u001b[0m \u001b[0;34m*\u001b[0m\u001b[0margs\u001b[0m\u001b[0;34m,\u001b[0m \u001b[0;34m**\u001b[0m\u001b[0mkwargs\u001b[0m\u001b[0;34m)\u001b[0m\u001b[0;34m\u001b[0m\u001b[0m\n\u001b[0m\u001b[1;32m     56\u001b[0m         \u001b[0;32mfinally\u001b[0m\u001b[0;34m:\u001b[0m\u001b[0;34m\u001b[0m\u001b[0m\n\u001b[1;32m     57\u001b[0m             \u001b[0;32mif\u001b[0m \u001b[0martist\u001b[0m\u001b[0;34m.\u001b[0m\u001b[0mget_agg_filter\u001b[0m\u001b[0;34m(\u001b[0m\u001b[0;34m)\u001b[0m \u001b[0;32mis\u001b[0m \u001b[0;32mnot\u001b[0m \u001b[0;32mNone\u001b[0m\u001b[0;34m:\u001b[0m\u001b[0;34m\u001b[0m\u001b[0m\n",
      "\u001b[0;32m/share/apps/python3/3.6.3/intel/lib/python3.6/site-packages/matplotlib-2.1.0-py3.6-linux-x86_64.egg/matplotlib/axes/_base.py\u001b[0m in \u001b[0;36mdraw\u001b[0;34m(self, renderer, inframe)\u001b[0m\n\u001b[1;32m   2397\u001b[0m             \u001b[0mrenderer\u001b[0m\u001b[0;34m.\u001b[0m\u001b[0mstop_rasterizing\u001b[0m\u001b[0;34m(\u001b[0m\u001b[0;34m)\u001b[0m\u001b[0;34m\u001b[0m\u001b[0m\n\u001b[1;32m   2398\u001b[0m \u001b[0;34m\u001b[0m\u001b[0m\n\u001b[0;32m-> 2399\u001b[0;31m         \u001b[0mmimage\u001b[0m\u001b[0;34m.\u001b[0m\u001b[0m_draw_list_compositing_images\u001b[0m\u001b[0;34m(\u001b[0m\u001b[0mrenderer\u001b[0m\u001b[0;34m,\u001b[0m \u001b[0mself\u001b[0m\u001b[0;34m,\u001b[0m \u001b[0martists\u001b[0m\u001b[0;34m)\u001b[0m\u001b[0;34m\u001b[0m\u001b[0m\n\u001b[0m\u001b[1;32m   2400\u001b[0m \u001b[0;34m\u001b[0m\u001b[0m\n\u001b[1;32m   2401\u001b[0m         \u001b[0mrenderer\u001b[0m\u001b[0;34m.\u001b[0m\u001b[0mclose_group\u001b[0m\u001b[0;34m(\u001b[0m\u001b[0;34m'axes'\u001b[0m\u001b[0;34m)\u001b[0m\u001b[0;34m\u001b[0m\u001b[0m\n",
      "\u001b[0;32m/share/apps/python3/3.6.3/intel/lib/python3.6/site-packages/matplotlib-2.1.0-py3.6-linux-x86_64.egg/matplotlib/image.py\u001b[0m in \u001b[0;36m_draw_list_compositing_images\u001b[0;34m(renderer, parent, artists, suppress_composite)\u001b[0m\n\u001b[1;32m    136\u001b[0m     \u001b[0;32mif\u001b[0m \u001b[0mnot_composite\u001b[0m \u001b[0;32mor\u001b[0m \u001b[0;32mnot\u001b[0m \u001b[0mhas_images\u001b[0m\u001b[0;34m:\u001b[0m\u001b[0;34m\u001b[0m\u001b[0m\n\u001b[1;32m    137\u001b[0m         \u001b[0;32mfor\u001b[0m \u001b[0ma\u001b[0m \u001b[0;32min\u001b[0m \u001b[0martists\u001b[0m\u001b[0;34m:\u001b[0m\u001b[0;34m\u001b[0m\u001b[0m\n\u001b[0;32m--> 138\u001b[0;31m             \u001b[0ma\u001b[0m\u001b[0;34m.\u001b[0m\u001b[0mdraw\u001b[0m\u001b[0;34m(\u001b[0m\u001b[0mrenderer\u001b[0m\u001b[0;34m)\u001b[0m\u001b[0;34m\u001b[0m\u001b[0m\n\u001b[0m\u001b[1;32m    139\u001b[0m     \u001b[0;32melse\u001b[0m\u001b[0;34m:\u001b[0m\u001b[0;34m\u001b[0m\u001b[0m\n\u001b[1;32m    140\u001b[0m         \u001b[0;31m# Composite any adjacent images together\u001b[0m\u001b[0;34m\u001b[0m\u001b[0;34m\u001b[0m\u001b[0m\n",
      "\u001b[0;32m/share/apps/python3/3.6.3/intel/lib/python3.6/site-packages/matplotlib-2.1.0-py3.6-linux-x86_64.egg/matplotlib/artist.py\u001b[0m in \u001b[0;36mdraw_wrapper\u001b[0;34m(artist, renderer, *args, **kwargs)\u001b[0m\n\u001b[1;32m     53\u001b[0m                 \u001b[0mrenderer\u001b[0m\u001b[0;34m.\u001b[0m\u001b[0mstart_filter\u001b[0m\u001b[0;34m(\u001b[0m\u001b[0;34m)\u001b[0m\u001b[0;34m\u001b[0m\u001b[0m\n\u001b[1;32m     54\u001b[0m \u001b[0;34m\u001b[0m\u001b[0m\n\u001b[0;32m---> 55\u001b[0;31m             \u001b[0;32mreturn\u001b[0m \u001b[0mdraw\u001b[0m\u001b[0;34m(\u001b[0m\u001b[0martist\u001b[0m\u001b[0;34m,\u001b[0m \u001b[0mrenderer\u001b[0m\u001b[0;34m,\u001b[0m \u001b[0;34m*\u001b[0m\u001b[0margs\u001b[0m\u001b[0;34m,\u001b[0m \u001b[0;34m**\u001b[0m\u001b[0mkwargs\u001b[0m\u001b[0;34m)\u001b[0m\u001b[0;34m\u001b[0m\u001b[0m\n\u001b[0m\u001b[1;32m     56\u001b[0m         \u001b[0;32mfinally\u001b[0m\u001b[0;34m:\u001b[0m\u001b[0;34m\u001b[0m\u001b[0m\n\u001b[1;32m     57\u001b[0m             \u001b[0;32mif\u001b[0m \u001b[0martist\u001b[0m\u001b[0;34m.\u001b[0m\u001b[0mget_agg_filter\u001b[0m\u001b[0;34m(\u001b[0m\u001b[0;34m)\u001b[0m \u001b[0;32mis\u001b[0m \u001b[0;32mnot\u001b[0m \u001b[0;32mNone\u001b[0m\u001b[0;34m:\u001b[0m\u001b[0;34m\u001b[0m\u001b[0m\n",
      "\u001b[0;32m/share/apps/python3/3.6.3/intel/lib/python3.6/site-packages/matplotlib-2.1.0-py3.6-linux-x86_64.egg/matplotlib/axis.py\u001b[0m in \u001b[0;36mdraw\u001b[0;34m(self, renderer, *args, **kwargs)\u001b[0m\n\u001b[1;32m   1131\u001b[0m         \u001b[0mrenderer\u001b[0m\u001b[0;34m.\u001b[0m\u001b[0mopen_group\u001b[0m\u001b[0;34m(\u001b[0m\u001b[0m__name__\u001b[0m\u001b[0;34m)\u001b[0m\u001b[0;34m\u001b[0m\u001b[0m\n\u001b[1;32m   1132\u001b[0m \u001b[0;34m\u001b[0m\u001b[0m\n\u001b[0;32m-> 1133\u001b[0;31m         \u001b[0mticks_to_draw\u001b[0m \u001b[0;34m=\u001b[0m \u001b[0mself\u001b[0m\u001b[0;34m.\u001b[0m\u001b[0m_update_ticks\u001b[0m\u001b[0;34m(\u001b[0m\u001b[0mrenderer\u001b[0m\u001b[0;34m)\u001b[0m\u001b[0;34m\u001b[0m\u001b[0m\n\u001b[0m\u001b[1;32m   1134\u001b[0m         ticklabelBoxes, ticklabelBoxes2 = self._get_tick_bboxes(ticks_to_draw,\n\u001b[1;32m   1135\u001b[0m                                                                 renderer)\n",
      "\u001b[0;32m/share/apps/python3/3.6.3/intel/lib/python3.6/site-packages/matplotlib-2.1.0-py3.6-linux-x86_64.egg/matplotlib/axis.py\u001b[0m in \u001b[0;36m_update_ticks\u001b[0;34m(self, renderer)\u001b[0m\n\u001b[1;32m    972\u001b[0m \u001b[0;34m\u001b[0m\u001b[0m\n\u001b[1;32m    973\u001b[0m         \u001b[0minterval\u001b[0m \u001b[0;34m=\u001b[0m \u001b[0mself\u001b[0m\u001b[0;34m.\u001b[0m\u001b[0mget_view_interval\u001b[0m\u001b[0;34m(\u001b[0m\u001b[0;34m)\u001b[0m\u001b[0;34m\u001b[0m\u001b[0m\n\u001b[0;32m--> 974\u001b[0;31m         \u001b[0mtick_tups\u001b[0m \u001b[0;34m=\u001b[0m \u001b[0mlist\u001b[0m\u001b[0;34m(\u001b[0m\u001b[0mself\u001b[0m\u001b[0;34m.\u001b[0m\u001b[0miter_ticks\u001b[0m\u001b[0;34m(\u001b[0m\u001b[0;34m)\u001b[0m\u001b[0;34m)\u001b[0m\u001b[0;34m\u001b[0m\u001b[0m\n\u001b[0m\u001b[1;32m    975\u001b[0m         \u001b[0;32mif\u001b[0m \u001b[0mself\u001b[0m\u001b[0;34m.\u001b[0m\u001b[0m_smart_bounds\u001b[0m \u001b[0;32mand\u001b[0m \u001b[0mtick_tups\u001b[0m\u001b[0;34m:\u001b[0m\u001b[0;34m\u001b[0m\u001b[0m\n\u001b[1;32m    976\u001b[0m             \u001b[0;31m# handle inverted limits\u001b[0m\u001b[0;34m\u001b[0m\u001b[0;34m\u001b[0m\u001b[0m\n",
      "\u001b[0;32m/share/apps/python3/3.6.3/intel/lib/python3.6/site-packages/matplotlib-2.1.0-py3.6-linux-x86_64.egg/matplotlib/axis.py\u001b[0m in \u001b[0;36miter_ticks\u001b[0;34m(self)\u001b[0m\n\u001b[1;32m    915\u001b[0m         \u001b[0mIterate\u001b[0m \u001b[0mthrough\u001b[0m \u001b[0mall\u001b[0m \u001b[0mof\u001b[0m \u001b[0mthe\u001b[0m \u001b[0mmajor\u001b[0m \u001b[0;32mand\u001b[0m \u001b[0mminor\u001b[0m \u001b[0mticks\u001b[0m\u001b[0;34m.\u001b[0m\u001b[0;34m\u001b[0m\u001b[0m\n\u001b[1;32m    916\u001b[0m         \"\"\"\n\u001b[0;32m--> 917\u001b[0;31m         \u001b[0mmajorLocs\u001b[0m \u001b[0;34m=\u001b[0m \u001b[0mself\u001b[0m\u001b[0;34m.\u001b[0m\u001b[0mmajor\u001b[0m\u001b[0;34m.\u001b[0m\u001b[0mlocator\u001b[0m\u001b[0;34m(\u001b[0m\u001b[0;34m)\u001b[0m\u001b[0;34m\u001b[0m\u001b[0m\n\u001b[0m\u001b[1;32m    918\u001b[0m         \u001b[0mmajorTicks\u001b[0m \u001b[0;34m=\u001b[0m \u001b[0mself\u001b[0m\u001b[0;34m.\u001b[0m\u001b[0mget_major_ticks\u001b[0m\u001b[0;34m(\u001b[0m\u001b[0mlen\u001b[0m\u001b[0;34m(\u001b[0m\u001b[0mmajorLocs\u001b[0m\u001b[0;34m)\u001b[0m\u001b[0;34m)\u001b[0m\u001b[0;34m\u001b[0m\u001b[0m\n\u001b[1;32m    919\u001b[0m         \u001b[0mself\u001b[0m\u001b[0;34m.\u001b[0m\u001b[0mmajor\u001b[0m\u001b[0;34m.\u001b[0m\u001b[0mformatter\u001b[0m\u001b[0;34m.\u001b[0m\u001b[0mset_locs\u001b[0m\u001b[0;34m(\u001b[0m\u001b[0mmajorLocs\u001b[0m\u001b[0;34m)\u001b[0m\u001b[0;34m\u001b[0m\u001b[0m\n",
      "\u001b[0;32m/share/apps/python3/3.6.3/intel/lib/python3.6/site-packages/matplotlib-2.1.0-py3.6-linux-x86_64.egg/matplotlib/ticker.py\u001b[0m in \u001b[0;36m__call__\u001b[0;34m(self)\u001b[0m\n\u001b[1;32m   1748\u001b[0m         \u001b[0;34m'Return the locations of the ticks'\u001b[0m\u001b[0;34m\u001b[0m\u001b[0m\n\u001b[1;32m   1749\u001b[0m         \u001b[0mvmin\u001b[0m\u001b[0;34m,\u001b[0m \u001b[0mvmax\u001b[0m \u001b[0;34m=\u001b[0m \u001b[0mself\u001b[0m\u001b[0;34m.\u001b[0m\u001b[0maxis\u001b[0m\u001b[0;34m.\u001b[0m\u001b[0mget_view_interval\u001b[0m\u001b[0;34m(\u001b[0m\u001b[0;34m)\u001b[0m\u001b[0;34m\u001b[0m\u001b[0m\n\u001b[0;32m-> 1750\u001b[0;31m         \u001b[0;32mreturn\u001b[0m \u001b[0mself\u001b[0m\u001b[0;34m.\u001b[0m\u001b[0mtick_values\u001b[0m\u001b[0;34m(\u001b[0m\u001b[0mvmin\u001b[0m\u001b[0;34m,\u001b[0m \u001b[0mvmax\u001b[0m\u001b[0;34m)\u001b[0m\u001b[0;34m\u001b[0m\u001b[0m\n\u001b[0m\u001b[1;32m   1751\u001b[0m \u001b[0;34m\u001b[0m\u001b[0m\n\u001b[1;32m   1752\u001b[0m     \u001b[0;32mdef\u001b[0m \u001b[0mtick_values\u001b[0m\u001b[0;34m(\u001b[0m\u001b[0mself\u001b[0m\u001b[0;34m,\u001b[0m \u001b[0mvmin\u001b[0m\u001b[0;34m,\u001b[0m \u001b[0mvmax\u001b[0m\u001b[0;34m)\u001b[0m\u001b[0;34m:\u001b[0m\u001b[0;34m\u001b[0m\u001b[0m\n",
      "\u001b[0;32m/share/apps/python3/3.6.3/intel/lib/python3.6/site-packages/matplotlib-2.1.0-py3.6-linux-x86_64.egg/matplotlib/ticker.py\u001b[0m in \u001b[0;36mtick_values\u001b[0;34m(self, vmin, vmax)\u001b[0m\n\u001b[1;32m   1757\u001b[0m         \u001b[0mn\u001b[0m \u001b[0;34m=\u001b[0m \u001b[0;34m(\u001b[0m\u001b[0mvmax\u001b[0m \u001b[0;34m-\u001b[0m \u001b[0mvmin\u001b[0m \u001b[0;34m+\u001b[0m \u001b[0;36m0.001\u001b[0m \u001b[0;34m*\u001b[0m \u001b[0mbase\u001b[0m\u001b[0;34m)\u001b[0m \u001b[0;34m//\u001b[0m \u001b[0mbase\u001b[0m\u001b[0;34m\u001b[0m\u001b[0m\n\u001b[1;32m   1758\u001b[0m         \u001b[0mlocs\u001b[0m \u001b[0;34m=\u001b[0m \u001b[0mvmin\u001b[0m \u001b[0;34m-\u001b[0m \u001b[0mbase\u001b[0m \u001b[0;34m+\u001b[0m \u001b[0mnp\u001b[0m\u001b[0;34m.\u001b[0m\u001b[0marange\u001b[0m\u001b[0;34m(\u001b[0m\u001b[0mn\u001b[0m \u001b[0;34m+\u001b[0m \u001b[0;36m3\u001b[0m\u001b[0;34m)\u001b[0m \u001b[0;34m*\u001b[0m \u001b[0mbase\u001b[0m\u001b[0;34m\u001b[0m\u001b[0m\n\u001b[0;32m-> 1759\u001b[0;31m         \u001b[0;32mreturn\u001b[0m \u001b[0mself\u001b[0m\u001b[0;34m.\u001b[0m\u001b[0mraise_if_exceeds\u001b[0m\u001b[0;34m(\u001b[0m\u001b[0mlocs\u001b[0m\u001b[0;34m)\u001b[0m\u001b[0;34m\u001b[0m\u001b[0m\n\u001b[0m\u001b[1;32m   1760\u001b[0m \u001b[0;34m\u001b[0m\u001b[0m\n\u001b[1;32m   1761\u001b[0m     \u001b[0;32mdef\u001b[0m \u001b[0mview_limits\u001b[0m\u001b[0;34m(\u001b[0m\u001b[0mself\u001b[0m\u001b[0;34m,\u001b[0m \u001b[0mdmin\u001b[0m\u001b[0;34m,\u001b[0m \u001b[0mdmax\u001b[0m\u001b[0;34m)\u001b[0m\u001b[0;34m:\u001b[0m\u001b[0;34m\u001b[0m\u001b[0m\n",
      "\u001b[0;32m/share/apps/python3/3.6.3/intel/lib/python3.6/site-packages/matplotlib-2.1.0-py3.6-linux-x86_64.egg/matplotlib/ticker.py\u001b[0m in \u001b[0;36mraise_if_exceeds\u001b[0;34m(self, locs)\u001b[0m\n\u001b[1;32m   1467\u001b[0m             msg = ('Locator attempting to generate %d ticks from %s to %s: ' +\n\u001b[1;32m   1468\u001b[0m                    'exceeds Locator.MAXTICKS') % (len(locs), locs[0], locs[-1])\n\u001b[0;32m-> 1469\u001b[0;31m             \u001b[0;32mraise\u001b[0m \u001b[0mRuntimeError\u001b[0m\u001b[0;34m(\u001b[0m\u001b[0mmsg\u001b[0m\u001b[0;34m)\u001b[0m\u001b[0;34m\u001b[0m\u001b[0m\n\u001b[0m\u001b[1;32m   1470\u001b[0m \u001b[0;34m\u001b[0m\u001b[0m\n\u001b[1;32m   1471\u001b[0m         \u001b[0;32mreturn\u001b[0m \u001b[0mlocs\u001b[0m\u001b[0;34m\u001b[0m\u001b[0m\n",
      "\u001b[0;31mRuntimeError\u001b[0m: Locator attempting to generate 7705 ticks from -1375.4 to 165.4: exceeds Locator.MAXTICKS"
     ]
    },
    {
     "data": {
      "text/plain": [
       "<matplotlib.figure.Figure at 0x2b113aea92e8>"
      ]
     },
     "metadata": {},
     "output_type": "display_data"
    },
    {
     "ename": "RuntimeError",
     "evalue": "Locator attempting to generate 7705 ticks from -1375.4 to 165.4: exceeds Locator.MAXTICKS",
     "output_type": "error",
     "traceback": [
      "\u001b[0;31m---------------------------------------------------------------------------\u001b[0m",
      "\u001b[0;31mRuntimeError\u001b[0m                              Traceback (most recent call last)",
      "\u001b[0;32m/beegfs/fs1520/pytorch_gpu/py3.6.3/lib/python3.6/site-packages/ipykernel/pylab/backend_inline.py\u001b[0m in \u001b[0;36mshow\u001b[0;34m(close, block)\u001b[0m\n\u001b[1;32m     37\u001b[0m             display(\n\u001b[1;32m     38\u001b[0m                 \u001b[0mfigure_manager\u001b[0m\u001b[0;34m.\u001b[0m\u001b[0mcanvas\u001b[0m\u001b[0;34m.\u001b[0m\u001b[0mfigure\u001b[0m\u001b[0;34m,\u001b[0m\u001b[0;34m\u001b[0m\u001b[0m\n\u001b[0;32m---> 39\u001b[0;31m                 \u001b[0mmetadata\u001b[0m\u001b[0;34m=\u001b[0m\u001b[0m_fetch_figure_metadata\u001b[0m\u001b[0;34m(\u001b[0m\u001b[0mfigure_manager\u001b[0m\u001b[0;34m.\u001b[0m\u001b[0mcanvas\u001b[0m\u001b[0;34m.\u001b[0m\u001b[0mfigure\u001b[0m\u001b[0;34m)\u001b[0m\u001b[0;34m\u001b[0m\u001b[0m\n\u001b[0m\u001b[1;32m     40\u001b[0m             )\n\u001b[1;32m     41\u001b[0m     \u001b[0;32mfinally\u001b[0m\u001b[0;34m:\u001b[0m\u001b[0;34m\u001b[0m\u001b[0m\n",
      "\u001b[0;32m/beegfs/fs1520/pytorch_gpu/py3.6.3/lib/python3.6/site-packages/ipykernel/pylab/backend_inline.py\u001b[0m in \u001b[0;36m_fetch_figure_metadata\u001b[0;34m(fig)\u001b[0m\n\u001b[1;32m    175\u001b[0m         \u001b[0;31m# the background is transparent\u001b[0m\u001b[0;34m\u001b[0m\u001b[0;34m\u001b[0m\u001b[0m\n\u001b[1;32m    176\u001b[0m         ticksLight = _is_light([label.get_color()\n\u001b[0;32m--> 177\u001b[0;31m                                 \u001b[0;32mfor\u001b[0m \u001b[0maxes\u001b[0m \u001b[0;32min\u001b[0m \u001b[0mfig\u001b[0m\u001b[0;34m.\u001b[0m\u001b[0maxes\u001b[0m\u001b[0;34m\u001b[0m\u001b[0m\n\u001b[0m\u001b[1;32m    178\u001b[0m                                 \u001b[0;32mfor\u001b[0m \u001b[0maxis\u001b[0m \u001b[0;32min\u001b[0m \u001b[0;34m(\u001b[0m\u001b[0maxes\u001b[0m\u001b[0;34m.\u001b[0m\u001b[0mxaxis\u001b[0m\u001b[0;34m,\u001b[0m \u001b[0maxes\u001b[0m\u001b[0;34m.\u001b[0m\u001b[0myaxis\u001b[0m\u001b[0;34m)\u001b[0m\u001b[0;34m\u001b[0m\u001b[0m\n\u001b[1;32m    179\u001b[0m                                 for label in axis.get_ticklabels()])\n",
      "\u001b[0;32m/beegfs/fs1520/pytorch_gpu/py3.6.3/lib/python3.6/site-packages/ipykernel/pylab/backend_inline.py\u001b[0m in \u001b[0;36m<listcomp>\u001b[0;34m(.0)\u001b[0m\n\u001b[1;32m    177\u001b[0m                                 \u001b[0;32mfor\u001b[0m \u001b[0maxes\u001b[0m \u001b[0;32min\u001b[0m \u001b[0mfig\u001b[0m\u001b[0;34m.\u001b[0m\u001b[0maxes\u001b[0m\u001b[0;34m\u001b[0m\u001b[0m\n\u001b[1;32m    178\u001b[0m                                 \u001b[0;32mfor\u001b[0m \u001b[0maxis\u001b[0m \u001b[0;32min\u001b[0m \u001b[0;34m(\u001b[0m\u001b[0maxes\u001b[0m\u001b[0;34m.\u001b[0m\u001b[0mxaxis\u001b[0m\u001b[0;34m,\u001b[0m \u001b[0maxes\u001b[0m\u001b[0;34m.\u001b[0m\u001b[0myaxis\u001b[0m\u001b[0;34m)\u001b[0m\u001b[0;34m\u001b[0m\u001b[0m\n\u001b[0;32m--> 179\u001b[0;31m                                 for label in axis.get_ticklabels()])\n\u001b[0m\u001b[1;32m    180\u001b[0m         \u001b[0;32mif\u001b[0m \u001b[0mticksLight\u001b[0m\u001b[0;34m.\u001b[0m\u001b[0msize\u001b[0m \u001b[0;32mand\u001b[0m \u001b[0;34m(\u001b[0m\u001b[0mticksLight\u001b[0m \u001b[0;34m==\u001b[0m \u001b[0mticksLight\u001b[0m\u001b[0;34m[\u001b[0m\u001b[0;36m0\u001b[0m\u001b[0;34m]\u001b[0m\u001b[0;34m)\u001b[0m\u001b[0;34m.\u001b[0m\u001b[0mall\u001b[0m\u001b[0;34m(\u001b[0m\u001b[0;34m)\u001b[0m\u001b[0;34m:\u001b[0m\u001b[0;34m\u001b[0m\u001b[0m\n\u001b[1;32m    181\u001b[0m             \u001b[0;31m# there are one or more tick labels, all with the same lightness\u001b[0m\u001b[0;34m\u001b[0m\u001b[0;34m\u001b[0m\u001b[0m\n",
      "\u001b[0;32m/share/apps/python3/3.6.3/intel/lib/python3.6/site-packages/matplotlib-2.1.0-py3.6-linux-x86_64.egg/matplotlib/axis.py\u001b[0m in \u001b[0;36mget_ticklabels\u001b[0;34m(self, minor, which)\u001b[0m\n\u001b[1;32m   1232\u001b[0m         \u001b[0;32mif\u001b[0m \u001b[0mminor\u001b[0m\u001b[0;34m:\u001b[0m\u001b[0;34m\u001b[0m\u001b[0m\n\u001b[1;32m   1233\u001b[0m             \u001b[0;32mreturn\u001b[0m \u001b[0mself\u001b[0m\u001b[0;34m.\u001b[0m\u001b[0mget_minorticklabels\u001b[0m\u001b[0;34m(\u001b[0m\u001b[0;34m)\u001b[0m\u001b[0;34m\u001b[0m\u001b[0m\n\u001b[0;32m-> 1234\u001b[0;31m         \u001b[0;32mreturn\u001b[0m \u001b[0mself\u001b[0m\u001b[0;34m.\u001b[0m\u001b[0mget_majorticklabels\u001b[0m\u001b[0;34m(\u001b[0m\u001b[0;34m)\u001b[0m\u001b[0;34m\u001b[0m\u001b[0m\n\u001b[0m\u001b[1;32m   1235\u001b[0m \u001b[0;34m\u001b[0m\u001b[0m\n\u001b[1;32m   1236\u001b[0m     \u001b[0;32mdef\u001b[0m \u001b[0mget_majorticklines\u001b[0m\u001b[0;34m(\u001b[0m\u001b[0mself\u001b[0m\u001b[0;34m)\u001b[0m\u001b[0;34m:\u001b[0m\u001b[0;34m\u001b[0m\u001b[0m\n",
      "\u001b[0;32m/share/apps/python3/3.6.3/intel/lib/python3.6/site-packages/matplotlib-2.1.0-py3.6-linux-x86_64.egg/matplotlib/axis.py\u001b[0m in \u001b[0;36mget_majorticklabels\u001b[0;34m(self)\u001b[0m\n\u001b[1;32m   1186\u001b[0m     \u001b[0;32mdef\u001b[0m \u001b[0mget_majorticklabels\u001b[0m\u001b[0;34m(\u001b[0m\u001b[0mself\u001b[0m\u001b[0;34m)\u001b[0m\u001b[0;34m:\u001b[0m\u001b[0;34m\u001b[0m\u001b[0m\n\u001b[1;32m   1187\u001b[0m         \u001b[0;34m'Return a list of Text instances for the major ticklabels'\u001b[0m\u001b[0;34m\u001b[0m\u001b[0m\n\u001b[0;32m-> 1188\u001b[0;31m         \u001b[0mticks\u001b[0m \u001b[0;34m=\u001b[0m \u001b[0mself\u001b[0m\u001b[0;34m.\u001b[0m\u001b[0mget_major_ticks\u001b[0m\u001b[0;34m(\u001b[0m\u001b[0;34m)\u001b[0m\u001b[0;34m\u001b[0m\u001b[0m\n\u001b[0m\u001b[1;32m   1189\u001b[0m         \u001b[0mlabels1\u001b[0m \u001b[0;34m=\u001b[0m \u001b[0;34m[\u001b[0m\u001b[0mtick\u001b[0m\u001b[0;34m.\u001b[0m\u001b[0mlabel1\u001b[0m \u001b[0;32mfor\u001b[0m \u001b[0mtick\u001b[0m \u001b[0;32min\u001b[0m \u001b[0mticks\u001b[0m \u001b[0;32mif\u001b[0m \u001b[0mtick\u001b[0m\u001b[0;34m.\u001b[0m\u001b[0mlabel1On\u001b[0m\u001b[0;34m]\u001b[0m\u001b[0;34m\u001b[0m\u001b[0m\n\u001b[1;32m   1190\u001b[0m         \u001b[0mlabels2\u001b[0m \u001b[0;34m=\u001b[0m \u001b[0;34m[\u001b[0m\u001b[0mtick\u001b[0m\u001b[0;34m.\u001b[0m\u001b[0mlabel2\u001b[0m \u001b[0;32mfor\u001b[0m \u001b[0mtick\u001b[0m \u001b[0;32min\u001b[0m \u001b[0mticks\u001b[0m \u001b[0;32mif\u001b[0m \u001b[0mtick\u001b[0m\u001b[0;34m.\u001b[0m\u001b[0mlabel2On\u001b[0m\u001b[0;34m]\u001b[0m\u001b[0;34m\u001b[0m\u001b[0m\n",
      "\u001b[0;32m/share/apps/python3/3.6.3/intel/lib/python3.6/site-packages/matplotlib-2.1.0-py3.6-linux-x86_64.egg/matplotlib/axis.py\u001b[0m in \u001b[0;36mget_major_ticks\u001b[0;34m(self, numticks)\u001b[0m\n\u001b[1;32m   1337\u001b[0m         \u001b[0;34m'get the tick instances; grow as necessary'\u001b[0m\u001b[0;34m\u001b[0m\u001b[0m\n\u001b[1;32m   1338\u001b[0m         \u001b[0;32mif\u001b[0m \u001b[0mnumticks\u001b[0m \u001b[0;32mis\u001b[0m \u001b[0;32mNone\u001b[0m\u001b[0;34m:\u001b[0m\u001b[0;34m\u001b[0m\u001b[0m\n\u001b[0;32m-> 1339\u001b[0;31m             \u001b[0mnumticks\u001b[0m \u001b[0;34m=\u001b[0m \u001b[0mlen\u001b[0m\u001b[0;34m(\u001b[0m\u001b[0mself\u001b[0m\u001b[0;34m.\u001b[0m\u001b[0mget_major_locator\u001b[0m\u001b[0;34m(\u001b[0m\u001b[0;34m)\u001b[0m\u001b[0;34m(\u001b[0m\u001b[0;34m)\u001b[0m\u001b[0;34m)\u001b[0m\u001b[0;34m\u001b[0m\u001b[0m\n\u001b[0m\u001b[1;32m   1340\u001b[0m         \u001b[0;32mif\u001b[0m \u001b[0mlen\u001b[0m\u001b[0;34m(\u001b[0m\u001b[0mself\u001b[0m\u001b[0;34m.\u001b[0m\u001b[0mmajorTicks\u001b[0m\u001b[0;34m)\u001b[0m \u001b[0;34m<\u001b[0m \u001b[0mnumticks\u001b[0m\u001b[0;34m:\u001b[0m\u001b[0;34m\u001b[0m\u001b[0m\n\u001b[1;32m   1341\u001b[0m             \u001b[0;31m# update the new tick label properties from the old\u001b[0m\u001b[0;34m\u001b[0m\u001b[0;34m\u001b[0m\u001b[0m\n",
      "\u001b[0;32m/share/apps/python3/3.6.3/intel/lib/python3.6/site-packages/matplotlib-2.1.0-py3.6-linux-x86_64.egg/matplotlib/ticker.py\u001b[0m in \u001b[0;36m__call__\u001b[0;34m(self)\u001b[0m\n\u001b[1;32m   1748\u001b[0m         \u001b[0;34m'Return the locations of the ticks'\u001b[0m\u001b[0;34m\u001b[0m\u001b[0m\n\u001b[1;32m   1749\u001b[0m         \u001b[0mvmin\u001b[0m\u001b[0;34m,\u001b[0m \u001b[0mvmax\u001b[0m \u001b[0;34m=\u001b[0m \u001b[0mself\u001b[0m\u001b[0;34m.\u001b[0m\u001b[0maxis\u001b[0m\u001b[0;34m.\u001b[0m\u001b[0mget_view_interval\u001b[0m\u001b[0;34m(\u001b[0m\u001b[0;34m)\u001b[0m\u001b[0;34m\u001b[0m\u001b[0m\n\u001b[0;32m-> 1750\u001b[0;31m         \u001b[0;32mreturn\u001b[0m \u001b[0mself\u001b[0m\u001b[0;34m.\u001b[0m\u001b[0mtick_values\u001b[0m\u001b[0;34m(\u001b[0m\u001b[0mvmin\u001b[0m\u001b[0;34m,\u001b[0m \u001b[0mvmax\u001b[0m\u001b[0;34m)\u001b[0m\u001b[0;34m\u001b[0m\u001b[0m\n\u001b[0m\u001b[1;32m   1751\u001b[0m \u001b[0;34m\u001b[0m\u001b[0m\n\u001b[1;32m   1752\u001b[0m     \u001b[0;32mdef\u001b[0m \u001b[0mtick_values\u001b[0m\u001b[0;34m(\u001b[0m\u001b[0mself\u001b[0m\u001b[0;34m,\u001b[0m \u001b[0mvmin\u001b[0m\u001b[0;34m,\u001b[0m \u001b[0mvmax\u001b[0m\u001b[0;34m)\u001b[0m\u001b[0;34m:\u001b[0m\u001b[0;34m\u001b[0m\u001b[0m\n",
      "\u001b[0;32m/share/apps/python3/3.6.3/intel/lib/python3.6/site-packages/matplotlib-2.1.0-py3.6-linux-x86_64.egg/matplotlib/ticker.py\u001b[0m in \u001b[0;36mtick_values\u001b[0;34m(self, vmin, vmax)\u001b[0m\n\u001b[1;32m   1757\u001b[0m         \u001b[0mn\u001b[0m \u001b[0;34m=\u001b[0m \u001b[0;34m(\u001b[0m\u001b[0mvmax\u001b[0m \u001b[0;34m-\u001b[0m \u001b[0mvmin\u001b[0m \u001b[0;34m+\u001b[0m \u001b[0;36m0.001\u001b[0m \u001b[0;34m*\u001b[0m \u001b[0mbase\u001b[0m\u001b[0;34m)\u001b[0m \u001b[0;34m//\u001b[0m \u001b[0mbase\u001b[0m\u001b[0;34m\u001b[0m\u001b[0m\n\u001b[1;32m   1758\u001b[0m         \u001b[0mlocs\u001b[0m \u001b[0;34m=\u001b[0m \u001b[0mvmin\u001b[0m \u001b[0;34m-\u001b[0m \u001b[0mbase\u001b[0m \u001b[0;34m+\u001b[0m \u001b[0mnp\u001b[0m\u001b[0;34m.\u001b[0m\u001b[0marange\u001b[0m\u001b[0;34m(\u001b[0m\u001b[0mn\u001b[0m \u001b[0;34m+\u001b[0m \u001b[0;36m3\u001b[0m\u001b[0;34m)\u001b[0m \u001b[0;34m*\u001b[0m \u001b[0mbase\u001b[0m\u001b[0;34m\u001b[0m\u001b[0m\n\u001b[0;32m-> 1759\u001b[0;31m         \u001b[0;32mreturn\u001b[0m \u001b[0mself\u001b[0m\u001b[0;34m.\u001b[0m\u001b[0mraise_if_exceeds\u001b[0m\u001b[0;34m(\u001b[0m\u001b[0mlocs\u001b[0m\u001b[0;34m)\u001b[0m\u001b[0;34m\u001b[0m\u001b[0m\n\u001b[0m\u001b[1;32m   1760\u001b[0m \u001b[0;34m\u001b[0m\u001b[0m\n\u001b[1;32m   1761\u001b[0m     \u001b[0;32mdef\u001b[0m \u001b[0mview_limits\u001b[0m\u001b[0;34m(\u001b[0m\u001b[0mself\u001b[0m\u001b[0;34m,\u001b[0m \u001b[0mdmin\u001b[0m\u001b[0;34m,\u001b[0m \u001b[0mdmax\u001b[0m\u001b[0;34m)\u001b[0m\u001b[0;34m:\u001b[0m\u001b[0;34m\u001b[0m\u001b[0m\n",
      "\u001b[0;32m/share/apps/python3/3.6.3/intel/lib/python3.6/site-packages/matplotlib-2.1.0-py3.6-linux-x86_64.egg/matplotlib/ticker.py\u001b[0m in \u001b[0;36mraise_if_exceeds\u001b[0;34m(self, locs)\u001b[0m\n\u001b[1;32m   1467\u001b[0m             msg = ('Locator attempting to generate %d ticks from %s to %s: ' +\n\u001b[1;32m   1468\u001b[0m                    'exceeds Locator.MAXTICKS') % (len(locs), locs[0], locs[-1])\n\u001b[0;32m-> 1469\u001b[0;31m             \u001b[0;32mraise\u001b[0m \u001b[0mRuntimeError\u001b[0m\u001b[0;34m(\u001b[0m\u001b[0mmsg\u001b[0m\u001b[0;34m)\u001b[0m\u001b[0;34m\u001b[0m\u001b[0m\n\u001b[0m\u001b[1;32m   1470\u001b[0m \u001b[0;34m\u001b[0m\u001b[0m\n\u001b[1;32m   1471\u001b[0m         \u001b[0;32mreturn\u001b[0m \u001b[0mlocs\u001b[0m\u001b[0;34m\u001b[0m\u001b[0m\n",
      "\u001b[0;31mRuntimeError\u001b[0m: Locator attempting to generate 7705 ticks from -1375.4 to 165.4: exceeds Locator.MAXTICKS"
     ]
    }
   ],
   "source": [
    "###TrainCuda\n",
    "hidden_size = 200\n",
    "in_size = len(colHeader)\n",
    "out_size = len(colHeader)\n",
    "n_layers = 3\n",
    "encoder2 = EncoderRNN(in_size, hidden_size, n_layers).to(device)\n",
    "attn_decoder2 = BahdanauAttnDecoderRNN_NoSM(hidden_size, out_size, n_layers=n_layers, dropout_p=0.1).to(device)\n",
    "\n",
    "##UNCOMMENT TO TRAIN THE MODEL\n",
    "trainIters_NoSM(encoder2, attn_decoder2, 1, allPairs, n_epoches = 3, print_every=200, plot_every = 200, learning_rate=2e-6)"
   ]
  },
  {
   "cell_type": "code",
   "execution_count": 48,
   "metadata": {
    "scrolled": true
   },
   "outputs": [
    {
     "name": "stdout",
     "output_type": "stream",
     "text": [
      "1m 1s (- 39m 10s) (500 2%) 1640.1367 1570.8803\n",
      "1m 48s (- 34m 1s) (1000 5%) 686.7603 1231.0002\n",
      "2m 36s (- 31m 39s) (1500 7%) 1880.1436 1229.6963\n",
      "3m 29s (- 30m 58s) (2000 10%) 635.0884 1377.6869\n",
      "4m 19s (- 29m 46s) (2500 12%) 513.8594 1279.1073\n",
      "5m 7s (- 28m 34s) (3000 15%) 884.5451 1297.4507\n",
      "5m 54s (- 27m 25s) (3500 17%) 562.3222 1303.7399\n",
      "6m 45s (- 26m 36s) (4000 20%) 924.9472 1310.6420\n",
      "7m 36s (- 25m 45s) (4500 22%) 684.4157 1308.6841\n",
      "8m 23s (- 24m 45s) (5000 25%) 473.9476 1297.4982\n",
      "9m 17s (- 24m 3s) (5500 27%) 1796.8052 1299.7667\n",
      "10m 4s (- 23m 5s) (6000 30%) 564.1545 1292.7342\n",
      "10m 53s (- 22m 11s) (6500 32%) 458.6340 1278.3426\n",
      "11m 38s (- 21m 11s) (7000 35%) 832.1192 1310.1568\n",
      "12m 24s (- 20m 15s) (7500 37%) 923.8876 1297.3819\n",
      "13m 17s (- 19m 30s) (8000 40%) 478.6539 1274.3576\n",
      "14m 7s (- 18m 40s) (8500 43%) 641.0372 1275.5275\n",
      "14m 52s (- 17m 45s) (9000 45%) 434.3866 1251.4800\n",
      "15m 44s (- 16m 57s) (9500 48%) 1772.4160 1332.5181\n",
      "16m 35s (- 16m 9s) (10000 50%) 553.6394 1356.2624\n",
      "17m 31s (- 15m 25s) (10500 53%) 467.4240 1320.9281\n",
      "18m 27s (- 14m 40s) (11000 55%) 834.2071 1368.8092\n",
      "19m 14s (- 13m 47s) (11500 58%) 944.3754 1331.2616\n",
      "20m 4s (- 12m 57s) (12000 60%) 484.1627 1310.7088\n",
      "20m 59s (- 12m 9s) (12500 63%) 655.6750 1291.0156\n",
      "21m 45s (- 11m 16s) (13000 65%) 462.2127 1276.7558\n",
      "22m 30s (- 10m 24s) (13500 68%) 1765.0205 1300.5852\n",
      "23m 18s (- 9m 33s) (14000 70%) 534.8091 1272.6494\n",
      "24m 5s (- 8m 42s) (14500 73%) 444.5712 1291.3239\n",
      "24m 53s (- 7m 51s) (15000 75%) 821.6937 1278.6494\n",
      "25m 39s (- 7m 1s) (15500 78%) 912.3378 1299.6307\n",
      "26m 23s (- 6m 10s) (16000 81%) 484.8067 1293.3580\n",
      "27m 6s (- 5m 19s) (16500 83%) 638.1116 1273.1747\n",
      "27m 48s (- 4m 28s) (17000 86%) 439.3651 1270.1948\n",
      "28m 30s (- 3m 38s) (17500 88%) 1774.1069 1292.6261\n",
      "29m 12s (- 2m 49s) (18000 91%) 516.4521 1265.2254\n",
      "29m 54s (- 2m 0s) (18500 93%) 440.1867 1284.1735\n",
      "30m 37s (- 1m 11s) (19000 96%) 820.0191 1281.2536\n",
      "31m 19s (- 0m 23s) (19500 98%) 895.1358 1276.1855\n"
     ]
    },
    {
     "data": {
      "image/png": "[encoded data removed]",
      "text/plain": [
       "<matplotlib.figure.Figure at 0x2aca3dac1ac8>"
      ]
     },
     "metadata": {
      "needs_background": "light"
     },
     "output_type": "display_data"
    },
    {
     "data": {
      "image/png": "[encoded data removed]",
      "text/plain": [
       "<matplotlib.figure.Figure at 0x2aca51a34898>"
      ]
     },
     "metadata": {
      "needs_background": "light"
     },
     "output_type": "display_data"
    }
   ],
   "source": [
    "###TrainCuda\n",
    "hidden_size = 185\n",
    "in_size = len(colHeader)\n",
    "out_size = len(colHeader)\n",
    "n_layers = 2\n",
    "encoder88 = EncoderRNN(in_size, hidden_size, n_layers).to(device)\n",
    "attn_decoder88 = BahdanauAttnDecoderRNN_NoSM(hidden_size, out_size, n_layers=n_layers, dropout_p=0.4).to(device)\n",
    "\n",
    "train88, val88 = trainIters_NoSM(encoder88, attn_decoder88, 1, allPairs, n_epoches = 5, print_every=500, plot_every = 500, learning_rate=2e-6)"
   ]
  },
  {
   "cell_type": "code",
   "execution_count": 49,
   "metadata": {
    "scrolled": true
   },
   "outputs": [
    {
     "name": "stdout",
     "output_type": "stream",
     "text": [
      "0m 37s (- 24m 9s) (500 2%) 95.2291 3230.6463\n",
      "1m 15s (- 23m 28s) (1000 5%) 90.4984 3211.5997\n",
      "1m 50s (- 22m 28s) (1500 7%) 81.5139 3176.8638\n",
      "2m 26s (- 21m 41s) (2000 10%) 64.8759 3116.5687\n",
      "3m 3s (- 21m 3s) (2500 12%) 45.0172 3026.9352\n",
      "3m 38s (- 20m 21s) (3000 15%) 15.1201 2914.7897\n",
      "4m 14s (- 19m 43s) (3500 17%) -22.9711 2787.7301\n",
      "4m 51s (- 19m 5s) (4000 20%) -65.2439 2651.9420\n",
      "5m 28s (- 18m 33s) (4500 22%) -114.6205 2508.9847\n",
      "6m 28s (- 19m 6s) (5000 25%) -165.8432 2364.2318\n",
      "7m 24s (- 19m 11s) (5500 27%) -225.2188 2220.8796\n",
      "8m 15s (- 18m 54s) (6000 30%) -269.0916 2088.6644\n",
      "9m 9s (- 18m 39s) (6500 32%) -341.0175 1957.9429\n",
      "10m 1s (- 18m 14s) (7000 35%) -402.6246 1836.4916\n",
      "10m 58s (- 17m 55s) (7500 37%) -462.7829 1725.4852\n",
      "11m 52s (- 17m 25s) (8000 40%) -523.8147 1625.8049\n",
      "12m 46s (- 16m 53s) (8500 43%) -593.1012 1536.1518\n",
      "13m 38s (- 16m 16s) (9000 45%) -645.3379 1459.0194\n",
      "14m 39s (- 15m 48s) (9500 48%) -718.5715 1392.6897\n",
      "15m 34s (- 15m 10s) (10000 50%) -745.6567 1340.5289\n",
      "16m 26s (- 14m 28s) (10500 53%) -843.6312 1297.4160\n",
      "17m 17s (- 13m 44s) (11000 55%) -904.5466 1266.2514\n",
      "18m 13s (- 13m 3s) (11500 58%) -964.0587 1247.0503\n",
      "19m 5s (- 12m 19s) (12000 60%) -1027.7850 1239.8050\n",
      "19m 55s (- 11m 32s) (12500 63%) -1104.8437 1244.5688\n",
      "20m 45s (- 10m 45s) (13000 65%) -1145.1757 1260.9674\n",
      "21m 34s (- 9m 58s) (13500 68%) -1217.4071 1289.4164\n",
      "22m 24s (- 9m 11s) (14000 70%) -1241.6698 1327.9079\n",
      "23m 20s (- 8m 26s) (14500 73%) -1346.4317 1380.2951\n",
      "24m 12s (- 7m 38s) (15000 75%) -1413.4283 1444.1626\n",
      "25m 5s (- 6m 51s) (15500 78%) -1475.9744 1519.8726\n",
      "26m 2s (- 6m 5s) (16000 81%) -1529.2684 1607.1450\n",
      "26m 53s (- 5m 16s) (16500 83%) -1605.0545 1706.1523\n",
      "27m 48s (- 4m 28s) (17000 86%) -1656.1263 1817.1379\n",
      "28m 32s (- 3m 39s) (17500 88%) -1708.9727 1939.5265\n",
      "29m 18s (- 2m 49s) (18000 91%) -1738.6712 2070.3672\n",
      "30m 13s (- 2m 1s) (18500 93%) -1853.2837 2217.0610\n",
      "31m 5s (- 1m 12s) (19000 96%) -1933.5560 2376.9791\n",
      "32m 2s (- 0m 23s) (19500 98%) -1983.4546 2547.1778\n"
     ]
    },
    {
     "data": {
      "image/png": "[encoded data removed]",
      "text/plain": [
       "<matplotlib.figure.Figure at 0x2aca3ca73ba8>"
      ]
     },
     "metadata": {
      "needs_background": "light"
     },
     "output_type": "display_data"
    },
    {
     "data": {
      "image/png": "[encoded data removed]",
      "text/plain": [
       "<matplotlib.figure.Figure at 0x2aca3cb63f60>"
      ]
     },
     "metadata": {
      "needs_background": "light"
     },
     "output_type": "display_data"
    }
   ],
   "source": [
    "###TrainCuda\n",
    "hidden_size = 180\n",
    "in_size = len(colHeader)\n",
    "out_size = len(colHeader)\n",
    "n_layers = 2\n",
    "encoder89 = EncoderRNN(in_size, hidden_size, n_layers).to(device)\n",
    "attn_decoder89 = BahdanauAttnDecoderRNN_NoSM(hidden_size, out_size, n_layers=n_layers, dropout_p=0.4).to(device)\n",
    "\n",
    "train89, val89 = trainIters_NoSM(encoder89, attn_decoder89, 1, allPairs, n_epoches = 5, print_every=500, plot_every = 500, learning_rate=2e-6, criterion = nn.KLDivLoss())"
   ]
  },
  {
   "cell_type": "code",
   "execution_count": 50,
   "metadata": {
    "scrolled": true
   },
   "outputs": [
    {
     "name": "stdout",
     "output_type": "stream",
     "text": [
      "0m 50s (- 32m 29s) (500 2%) 1880.4360 3206.7760\n",
      "1m 40s (- 31m 31s) (1000 5%) 1857.1912 3099.1411\n",
      "2m 31s (- 30m 37s) (1500 7%) 3499.3795 2890.7125\n",
      "3m 20s (- 29m 36s) (2000 10%) 1655.6248 2650.7977\n",
      "4m 11s (- 28m 51s) (2500 12%) 1523.9475 2416.3014\n",
      "5m 1s (- 28m 2s) (3000 15%) 1397.6788 2201.4072\n",
      "5m 52s (- 27m 15s) (3500 17%) 1744.3579 2007.7687\n",
      "6m 42s (- 26m 25s) (4000 20%) 1293.3517 1847.9588\n",
      "7m 35s (- 25m 42s) (4500 22%) 1034.6856 1717.0276\n",
      "8m 27s (- 24m 55s) (5000 25%) 937.2575 1609.5859\n",
      "9m 18s (- 24m 5s) (5500 27%) 2587.8242 1521.1716\n",
      "10m 6s (- 23m 8s) (6000 30%) 833.0964 1450.2070\n",
      "10m 55s (- 22m 15s) (6500 32%) 810.9375 1396.6887\n",
      "11m 40s (- 21m 15s) (7000 35%) 786.0181 1353.9304\n",
      "12m 25s (- 20m 15s) (7500 37%) 1203.6857 1318.6732\n",
      "13m 10s (- 19m 19s) (8000 40%) 867.4991 1292.7393\n",
      "13m 54s (- 18m 23s) (8500 43%) 661.0139 1273.3456\n",
      "14m 39s (- 17m 29s) (9000 45%) 633.1765 1257.8874\n",
      "15m 23s (- 16m 35s) (9500 48%) 2327.7971 1246.6668\n",
      "16m 7s (- 15m 42s) (10000 50%) 614.7245 1237.8702\n",
      "16m 52s (- 14m 50s) (10500 53%) 651.8505 1231.6084\n",
      "17m 36s (- 13m 59s) (11000 55%) 632.4473 1227.0356\n",
      "18m 20s (- 13m 8s) (11500 58%) 1067.3891 1224.7467\n",
      "19m 5s (- 12m 18s) (12000 60%) 766.8266 1222.7900\n",
      "19m 49s (- 11m 28s) (12500 63%) 567.6238 1222.2874\n",
      "20m 34s (- 10m 39s) (13000 65%) 558.2325 1221.8536\n",
      "21m 18s (- 9m 50s) (13500 68%) 2261.5317 1222.7921\n",
      "22m 3s (- 9m 2s) (14000 70%) 548.3813 1223.5454\n",
      "22m 47s (- 8m 14s) (14500 73%) 604.7287 1224.1109\n",
      "23m 32s (- 7m 26s) (15000 75%) 588.3547 1225.4127\n",
      "24m 16s (- 6m 38s) (15500 78%) 1023.8910 1228.0809\n",
      "25m 1s (- 5m 50s) (16000 81%) 732.8797 1229.0147\n",
      "25m 45s (- 5m 3s) (16500 83%) 538.2917 1230.4049\n",
      "26m 29s (- 4m 16s) (17000 86%) 1851.8345 1232.1927\n",
      "27m 14s (- 3m 29s) (17500 88%) 916.3279 1233.6544\n",
      "27m 58s (- 2m 42s) (18000 91%) 520.3986 1236.6741\n",
      "28m 43s (- 1m 55s) (18500 93%) 595.0259 1258.5003\n",
      "29m 28s (- 1m 8s) (19000 96%) 632.5020 1246.6527\n",
      "30m 12s (- 0m 22s) (19500 98%) 953.4269 1247.7749\n"
     ]
    },
    {
     "data": {
      "image/png": "[encoded data removed]",
      "text/plain": [
       "<matplotlib.figure.Figure at 0x2aca3da18a20>"
      ]
     },
     "metadata": {
      "needs_background": "light"
     },
     "output_type": "display_data"
    },
    {
     "data": {
      "image/png": "[encoded data removed]",
      "text/plain": [
       "<matplotlib.figure.Figure at 0x2aca3da303c8>"
      ]
     },
     "metadata": {
      "needs_background": "light"
     },
     "output_type": "display_data"
    }
   ],
   "source": [
    "###TrainCuda\n",
    "hidden_size = 185\n",
    "in_size = len(colHeader)\n",
    "out_size = len(colHeader)\n",
    "n_layers = 2\n",
    "encoder90 = EncoderRNN(in_size, hidden_size, n_layers).to(device)\n",
    "attn_decoder90 = BahdanauAttnDecoderRNN_NoSM(hidden_size, out_size, n_layers=n_layers, dropout_p=0.4).to(device)\n",
    "\n",
    "train90, val90 = trainIters_NoSM(encoder90, attn_decoder90, 1, allPairs, n_epoches = 5, print_every=500, plot_every = 500, learning_rate=2e-6)"
   ]
  },
  {
   "cell_type": "code",
   "execution_count": 62,
   "metadata": {},
   "outputs": [],
   "source": [
    "torch.save(encoder1.state_dict(), resSeq2Seq + \"//encoder_test1120_\"+str(hidden_size)+\"_\"+str(n_layers)+'NoSM'+\".pth\")\n",
    "torch.save(attn_decoder1.state_dict(), resSeq2Seq + \"//attn_decoder_test1120_\"+str(hidden_size)+\"_\"+str(n_layers)+'NoSM'+\".pth\")"
   ]
  },
  {
   "cell_type": "code",
   "execution_count": 78,
   "metadata": {},
   "outputs": [
    {
     "data": {
      "image/png": "[encoded data removed]",
      "text/plain": [
       "<matplotlib.figure.Figure at 0x2b113aefe710>"
      ]
     },
     "metadata": {
      "needs_background": "light"
     },
     "output_type": "display_data"
    }
   ],
   "source": [
    "trainPltNoSM = pkl_loader(resSeq2Seq+'//trainS2S1120200_3NoSM.p')\n",
    "showPlot(trainPltNoSM, 'Train loss with KLD Loss')"
   ]
  },
  {
   "cell_type": "code",
   "execution_count": 63,
   "metadata": {},
   "outputs": [
    {
     "name": "stdout",
     "output_type": "stream",
     "text": [
      "9 6\n",
      "torch.Size([6, 23]) torch.Size([1, 23])\n",
      "torch.Size([6, 23]) torch.Size([1, 23])\n",
      "torch.Size([6, 23]) torch.Size([1, 23])\n",
      "torch.Size([6, 23]) torch.Size([1, 23])\n",
      "torch.Size([6, 23]) torch.Size([1, 23])\n",
      "torch.Size([6, 23]) torch.Size([1, 23])\n"
     ]
    }
   ],
   "source": [
    "i=9\n",
    "predPairs = [[torch.tensor(pair[0], dtype=torch.double, device=device), \\\n",
    "               torch.tensor(pair[1], dtype=torch.double, device=device)] for pair in allPairs]\n",
    "predicted, target, loss = predictor(predPairs[i][0], predPairs[i][1], encoder2, attn_decoder2, nn.KLDivLoss())"
   ]
  },
  {
   "cell_type": "code",
   "execution_count": 64,
   "metadata": {},
   "outputs": [
    {
     "data": {
      "text/plain": [
       "tensor([[ 52.0003,  52.6809,   0.6909,   0.7177,  -0.1692,  14.8363,\n",
       "          40.6231,  84.6083,  -0.5119,  86.7177,   0.5263,   0.2546,\n",
       "           1.4771,   3.4274,  56.7788,  -0.1753,  14.8764,  56.2412,\n",
       "          47.8275,   0.8216,  -0.3619,   5.6314,  -0.4138],\n",
       "        [ 55.0163,  55.7179,   0.7341,   0.7595,  -0.1831,  15.6769,\n",
       "          42.9664,  89.5123,  -0.5449,  91.7331,   0.5708,   0.2603,\n",
       "           1.5624,   3.6418,  60.0666,  -0.1780,  15.7387,  59.4919,\n",
       "          50.6120,   0.8567,  -0.3710,   5.9429,  -0.4453],\n",
       "        [ 55.6449,  56.3622,   0.7490,   0.7677,  -0.1850,  15.8599,\n",
       "          43.4581,  90.5479,  -0.5515,  92.7998,   0.5719,   0.2711,\n",
       "           1.5795,   3.6845,  60.7573,  -0.1728,  15.9224,  60.1755,\n",
       "          51.1951,   0.8703,  -0.3684,   6.0148,  -0.4499],\n",
       "        [ 55.7937,  56.5190,   0.7540,   0.7676,  -0.1858,  15.9054,\n",
       "          43.5739,  90.7982,  -0.5522,  93.0580,   0.5692,   0.2760,\n",
       "           1.5841,   3.6928,  60.9218,  -0.1709,  15.9672,  60.3411,\n",
       "          51.3344,   0.8746,  -0.3673,   6.0337,  -0.4510],\n",
       "        [ 55.8413,  56.5694,   0.7557,   0.7676,  -0.1861,  15.9195,\n",
       "          43.6114,  90.8782,  -0.5525,  93.1420,   0.5685,   0.2770,\n",
       "           1.5849,   3.6954,  60.9744,  -0.1709,  15.9812,  60.3934,\n",
       "          51.3799,   0.8768,  -0.3675,   6.0392,  -0.4520],\n",
       "        [ 55.8530,  56.5840,   0.7564,   0.7677,  -0.1865,  15.9241,\n",
       "          43.6207,  90.8984,  -0.5521,  93.1649,   0.5660,   0.2787,\n",
       "           1.5840,   3.6951,  60.9860,  -0.1696,  15.9844,  60.4063,\n",
       "          51.3921,   0.8791,  -0.3668,   6.0415,  -0.4537]])"
      ]
     },
     "execution_count": 64,
     "metadata": {},
     "output_type": "execute_result"
    }
   ],
   "source": [
    "predicted"
   ]
  },
  {
   "cell_type": "code",
   "execution_count": 65,
   "metadata": {},
   "outputs": [
    {
     "data": {
      "text/plain": [
       "tensor([[  70.0000,   50.0000,    0.6531,    0.0000,    0.0000,   16.2700,\n",
       "            0.0000,   91.4400,    0.0000,   97.0000,    0.0000,    0.0000,\n",
       "            0.0000,   18.0000,   88.0000,    0.0000,   13.6078,   49.5500,\n",
       "            0.0000,    0.0000,    0.0000,    0.0000,    0.0000],\n",
       "        [  70.0000,   75.0000,    0.6887,    0.0000,    0.0000,   16.5000,\n",
       "            0.0000,   95.2500,    0.0000,   97.4000,    0.0000,    0.0000,\n",
       "            0.0000,   16.0000,   78.0000,    0.0000,   14.6662,   61.7500,\n",
       "            0.0000,    0.0000,    0.0000,    0.0000,    0.0000],\n",
       "        [  98.0000,   90.0000,    1.5885,    0.0000,    0.0000,   17.4800,\n",
       "            0.0000,   97.9932,    0.0000,   98.2000,    0.0000,    0.0000,\n",
       "            0.0000,   26.0000,  115.0000,    0.0000,   16.7829,   89.6500,\n",
       "            0.0000,    0.0000,    0.0000,    0.0000,    0.0000],\n",
       "        [ 109.0000,   97.5000,    2.4990,    0.0000,    0.0000,   18.8433,\n",
       "            0.0000,  105.7465,    0.0000,   97.4200,    0.0000,    0.0000,\n",
       "            0.0000,    0.0000,    0.0000,    0.0000,   21.3923,   97.1733,\n",
       "            0.0000,    0.0000,    0.0000,    0.0000,    0.0000],\n",
       "        [   0.0000,   99.5625,    0.0000,    0.0000,    0.0000,   21.3737,\n",
       "           82.4167,  112.4490,    0.0000,   98.0889,    0.0000,    0.0000,\n",
       "           11.0000,    0.0000,    0.0000,    0.0000,   26.7620,   99.1200,\n",
       "           98.5800,    0.0000,    0.0000,    0.0000,    0.0000],\n",
       "        [ 100.0000,   99.0000,    0.0000,    0.0000,    0.0000,   21.0833,\n",
       "           88.5733,  120.3367,    0.0000,   99.4500,    0.0000,    0.0000,\n",
       "            2.0000,    0.0000,   93.0000,    0.0000,   30.5419,   98.5233,\n",
       "           98.5533,    0.0000,    0.0000,    0.0000,    0.0000]])"
      ]
     },
     "execution_count": 65,
     "metadata": {},
     "output_type": "execute_result"
    }
   ],
   "source": [
    "target"
   ]
  },
  {
   "cell_type": "code",
   "execution_count": 68,
   "metadata": {
    "scrolled": true
   },
   "outputs": [
    {
     "name": "stdout",
     "output_type": "stream",
     "text": [
      "0m 15s (- 18m 57s) (200 1%) 1530.0017\n",
      "0m 31s (- 18m 37s) (400 2%) 650.0027\n",
      "0m 46s (- 18m 20s) (600 4%) 669.5119\n",
      "1m 1s (- 18m 4s) (800 5%) 664.5804\n",
      "1m 17s (- 17m 48s) (1000 6%) 605.6238\n",
      "1m 32s (- 17m 33s) (1200 8%) 596.6952\n",
      "1m 48s (- 17m 17s) (1400 9%) 588.5593\n",
      "2m 3s (- 17m 2s) (1600 10%) 3867.8733\n",
      "2m 19s (- 16m 46s) (1800 12%) 599.6359\n",
      "2m 34s (- 16m 30s) (2000 13%) 591.1577\n",
      "2m 50s (- 16m 14s) (2200 14%) 582.2102\n",
      "3m 5s (- 15m 59s) (2400 16%) 605.4794\n",
      "3m 21s (- 15m 43s) (2600 17%) 600.6460\n",
      "3m 36s (- 15m 28s) (2800 18%) 999.9477\n",
      "3m 52s (- 15m 13s) (3000 20%) 581.4780\n",
      "4m 7s (- 14m 57s) (3200 21%) 566.7406\n",
      "4m 23s (- 14m 42s) (3400 22%) 572.1035\n",
      "4m 38s (- 14m 27s) (3600 24%) 561.8290\n",
      "4m 54s (- 14m 11s) (3800 25%) 576.1914\n",
      "5m 9s (- 13m 56s) (4000 27%) 1559.3339\n",
      "5m 25s (- 13m 40s) (4200 28%) 705.7698\n",
      "5m 40s (- 13m 25s) (4400 29%) 594.7343\n",
      "5m 56s (- 13m 9s) (4600 31%) 715.9430\n",
      "6m 11s (- 12m 54s) (4800 32%) 598.1907\n",
      "6m 27s (- 12m 38s) (5000 33%) 529.1394\n",
      "6m 42s (- 12m 23s) (5200 35%) 1474.3704\n",
      "6m 57s (- 12m 7s) (5400 36%) 619.9349\n",
      "7m 13s (- 11m 52s) (5600 37%) 623.8636\n",
      "7m 28s (- 11m 37s) (5800 39%) 541.6972\n",
      "7m 44s (- 11m 21s) (6000 40%) 549.8467\n",
      "8m 0s (- 11m 6s) (6200 41%) 538.7585\n",
      "8m 15s (- 10m 50s) (6400 43%) 3822.9949\n",
      "8m 31s (- 10m 35s) (6600 44%) 538.4919\n",
      "8m 46s (- 10m 19s) (6800 45%) 541.4016\n",
      "9m 1s (- 10m 4s) (7000 47%) 527.5257\n",
      "9m 17s (- 9m 48s) (7200 48%) 586.1226\n",
      "9m 33s (- 9m 33s) (7400 49%) 570.9987\n",
      "9m 48s (- 9m 17s) (7600 51%) 536.3138\n",
      "10m 4s (- 9m 2s) (7800 52%) 966.1191\n",
      "10m 19s (- 8m 46s) (8000 54%) 546.7237\n",
      "10m 35s (- 8m 31s) (8200 55%) 528.8441\n",
      "10m 50s (- 8m 16s) (8400 56%) 538.2236\n",
      "11m 5s (- 8m 0s) (8600 58%) 573.0306\n",
      "11m 21s (- 7m 44s) (8800 59%) 545.7634\n",
      "11m 36s (- 7m 29s) (9000 60%) 1538.2272\n",
      "11m 52s (- 7m 14s) (9200 62%) 746.5529\n",
      "12m 7s (- 6m 58s) (9400 63%) 527.0415\n",
      "12m 23s (- 6m 43s) (9600 64%) 742.6747\n",
      "12m 38s (- 6m 27s) (9800 66%) 539.1221\n",
      "12m 54s (- 6m 12s) (10000 67%) 1467.3063\n",
      "13m 9s (- 5m 56s) (10200 68%) 571.7118\n",
      "13m 25s (- 5m 41s) (10400 70%) 612.6015\n",
      "13m 40s (- 5m 25s) (10600 71%) 575.6601\n",
      "13m 56s (- 5m 10s) (10800 72%) 528.7345\n",
      "14m 11s (- 4m 54s) (11000 74%) 553.1070\n",
      "14m 27s (- 4m 39s) (11200 75%) 521.9353\n",
      "14m 42s (- 4m 23s) (11400 77%) 3821.7254\n",
      "14m 58s (- 4m 8s) (11600 78%) 530.3869\n",
      "15m 13s (- 3m 52s) (11800 79%) 523.4142\n",
      "15m 29s (- 3m 37s) (12000 81%) 507.1831\n",
      "15m 45s (- 3m 21s) (12200 82%) 592.2195\n",
      "16m 0s (- 3m 6s) (12400 83%) 538.4089\n",
      "16m 16s (- 2m 50s) (12600 85%) 958.4175\n",
      "16m 31s (- 2m 35s) (12800 86%) 547.5008\n",
      "16m 46s (- 2m 19s) (13000 87%) 533.3789\n",
      "17m 2s (- 2m 4s) (13200 89%) 525.4619\n",
      "17m 17s (- 1m 48s) (13400 90%) 520.9936\n",
      "17m 33s (- 1m 33s) (13600 91%) 542.1669\n",
      "17m 49s (- 1m 17s) (13800 93%) 1541.9919\n",
      "18m 4s (- 1m 2s) (14000 94%) 529.4005\n",
      "18m 19s (- 0m 46s) (14200 95%) 698.1128\n",
      "18m 35s (- 0m 31s) (14400 97%) 509.9952\n",
      "18m 50s (- 0m 15s) (14600 98%) 749.6456\n",
      "19m 6s (- 0m 0s) (14800 99%) 526.9485\n",
      "Error in callback <function install_repl_displayhook.<locals>.post_execute at 0x2b113aaed2f0> (for post_execute):\n"
     ]
    },
    {
     "ename": "RuntimeError",
     "evalue": "Locator attempting to generate 18486 ticks from 339.0 to 4036.0: exceeds Locator.MAXTICKS",
     "output_type": "error",
     "traceback": [
      "\u001b[0;31m---------------------------------------------------------------------------\u001b[0m",
      "\u001b[0;31mRuntimeError\u001b[0m                              Traceback (most recent call last)",
      "\u001b[0;32m/share/apps/python3/3.6.3/intel/lib/python3.6/site-packages/matplotlib-2.1.0-py3.6-linux-x86_64.egg/matplotlib/pyplot.py\u001b[0m in \u001b[0;36mpost_execute\u001b[0;34m()\u001b[0m\n\u001b[1;32m    145\u001b[0m             \u001b[0;32mdef\u001b[0m \u001b[0mpost_execute\u001b[0m\u001b[0;34m(\u001b[0m\u001b[0;34m)\u001b[0m\u001b[0;34m:\u001b[0m\u001b[0;34m\u001b[0m\u001b[0m\n\u001b[1;32m    146\u001b[0m                 \u001b[0;32mif\u001b[0m \u001b[0mmatplotlib\u001b[0m\u001b[0;34m.\u001b[0m\u001b[0mis_interactive\u001b[0m\u001b[0;34m(\u001b[0m\u001b[0;34m)\u001b[0m\u001b[0;34m:\u001b[0m\u001b[0;34m\u001b[0m\u001b[0m\n\u001b[0;32m--> 147\u001b[0;31m                     \u001b[0mdraw_all\u001b[0m\u001b[0;34m(\u001b[0m\u001b[0;34m)\u001b[0m\u001b[0;34m\u001b[0m\u001b[0m\n\u001b[0m\u001b[1;32m    148\u001b[0m \u001b[0;34m\u001b[0m\u001b[0m\n\u001b[1;32m    149\u001b[0m             \u001b[0;31m# IPython >= 2\u001b[0m\u001b[0;34m\u001b[0m\u001b[0;34m\u001b[0m\u001b[0m\n",
      "\u001b[0;32m/share/apps/python3/3.6.3/intel/lib/python3.6/site-packages/matplotlib-2.1.0-py3.6-linux-x86_64.egg/matplotlib/_pylab_helpers.py\u001b[0m in \u001b[0;36mdraw_all\u001b[0;34m(cls, force)\u001b[0m\n\u001b[1;32m    148\u001b[0m         \u001b[0;32mfor\u001b[0m \u001b[0mf_mgr\u001b[0m \u001b[0;32min\u001b[0m \u001b[0mcls\u001b[0m\u001b[0;34m.\u001b[0m\u001b[0mget_all_fig_managers\u001b[0m\u001b[0;34m(\u001b[0m\u001b[0;34m)\u001b[0m\u001b[0;34m:\u001b[0m\u001b[0;34m\u001b[0m\u001b[0m\n\u001b[1;32m    149\u001b[0m             \u001b[0;32mif\u001b[0m \u001b[0mforce\u001b[0m \u001b[0;32mor\u001b[0m \u001b[0mf_mgr\u001b[0m\u001b[0;34m.\u001b[0m\u001b[0mcanvas\u001b[0m\u001b[0;34m.\u001b[0m\u001b[0mfigure\u001b[0m\u001b[0;34m.\u001b[0m\u001b[0mstale\u001b[0m\u001b[0;34m:\u001b[0m\u001b[0;34m\u001b[0m\u001b[0m\n\u001b[0;32m--> 150\u001b[0;31m                 \u001b[0mf_mgr\u001b[0m\u001b[0;34m.\u001b[0m\u001b[0mcanvas\u001b[0m\u001b[0;34m.\u001b[0m\u001b[0mdraw_idle\u001b[0m\u001b[0;34m(\u001b[0m\u001b[0;34m)\u001b[0m\u001b[0;34m\u001b[0m\u001b[0m\n\u001b[0m\u001b[1;32m    151\u001b[0m \u001b[0;34m\u001b[0m\u001b[0m\n\u001b[1;32m    152\u001b[0m \u001b[0matexit\u001b[0m\u001b[0;34m.\u001b[0m\u001b[0mregister\u001b[0m\u001b[0;34m(\u001b[0m\u001b[0mGcf\u001b[0m\u001b[0;34m.\u001b[0m\u001b[0mdestroy_all\u001b[0m\u001b[0;34m)\u001b[0m\u001b[0;34m\u001b[0m\u001b[0m\n",
      "\u001b[0;32m/share/apps/python3/3.6.3/intel/lib/python3.6/site-packages/matplotlib-2.1.0-py3.6-linux-x86_64.egg/matplotlib/backend_bases.py\u001b[0m in \u001b[0;36mdraw_idle\u001b[0;34m(self, *args, **kwargs)\u001b[0m\n\u001b[1;32m   2051\u001b[0m         \u001b[0;32mif\u001b[0m \u001b[0;32mnot\u001b[0m \u001b[0mself\u001b[0m\u001b[0;34m.\u001b[0m\u001b[0m_is_idle_drawing\u001b[0m\u001b[0;34m:\u001b[0m\u001b[0;34m\u001b[0m\u001b[0m\n\u001b[1;32m   2052\u001b[0m             \u001b[0;32mwith\u001b[0m \u001b[0mself\u001b[0m\u001b[0;34m.\u001b[0m\u001b[0m_idle_draw_cntx\u001b[0m\u001b[0;34m(\u001b[0m\u001b[0;34m)\u001b[0m\u001b[0;34m:\u001b[0m\u001b[0;34m\u001b[0m\u001b[0m\n\u001b[0;32m-> 2053\u001b[0;31m                 \u001b[0mself\u001b[0m\u001b[0;34m.\u001b[0m\u001b[0mdraw\u001b[0m\u001b[0;34m(\u001b[0m\u001b[0;34m*\u001b[0m\u001b[0margs\u001b[0m\u001b[0;34m,\u001b[0m \u001b[0;34m**\u001b[0m\u001b[0mkwargs\u001b[0m\u001b[0;34m)\u001b[0m\u001b[0;34m\u001b[0m\u001b[0m\n\u001b[0m\u001b[1;32m   2054\u001b[0m \u001b[0;34m\u001b[0m\u001b[0m\n\u001b[1;32m   2055\u001b[0m     \u001b[0;32mdef\u001b[0m \u001b[0mdraw_cursor\u001b[0m\u001b[0;34m(\u001b[0m\u001b[0mself\u001b[0m\u001b[0;34m,\u001b[0m \u001b[0mevent\u001b[0m\u001b[0;34m)\u001b[0m\u001b[0;34m:\u001b[0m\u001b[0;34m\u001b[0m\u001b[0m\n",
      "\u001b[0;32m/share/apps/python3/3.6.3/intel/lib/python3.6/site-packages/matplotlib-2.1.0-py3.6-linux-x86_64.egg/matplotlib/backends/backend_agg.py\u001b[0m in \u001b[0;36mdraw\u001b[0;34m(self)\u001b[0m\n\u001b[1;32m    428\u001b[0m             \u001b[0;32mif\u001b[0m \u001b[0mtoolbar\u001b[0m\u001b[0;34m:\u001b[0m\u001b[0;34m\u001b[0m\u001b[0m\n\u001b[1;32m    429\u001b[0m                 \u001b[0mtoolbar\u001b[0m\u001b[0;34m.\u001b[0m\u001b[0mset_cursor\u001b[0m\u001b[0;34m(\u001b[0m\u001b[0mcursors\u001b[0m\u001b[0;34m.\u001b[0m\u001b[0mWAIT\u001b[0m\u001b[0;34m)\u001b[0m\u001b[0;34m\u001b[0m\u001b[0m\n\u001b[0;32m--> 430\u001b[0;31m             \u001b[0mself\u001b[0m\u001b[0;34m.\u001b[0m\u001b[0mfigure\u001b[0m\u001b[0;34m.\u001b[0m\u001b[0mdraw\u001b[0m\u001b[0;34m(\u001b[0m\u001b[0mself\u001b[0m\u001b[0;34m.\u001b[0m\u001b[0mrenderer\u001b[0m\u001b[0;34m)\u001b[0m\u001b[0;34m\u001b[0m\u001b[0m\n\u001b[0m\u001b[1;32m    431\u001b[0m         \u001b[0;32mfinally\u001b[0m\u001b[0;34m:\u001b[0m\u001b[0;34m\u001b[0m\u001b[0m\n\u001b[1;32m    432\u001b[0m             \u001b[0;32mif\u001b[0m \u001b[0mtoolbar\u001b[0m\u001b[0;34m:\u001b[0m\u001b[0;34m\u001b[0m\u001b[0m\n",
      "\u001b[0;32m/share/apps/python3/3.6.3/intel/lib/python3.6/site-packages/matplotlib-2.1.0-py3.6-linux-x86_64.egg/matplotlib/artist.py\u001b[0m in \u001b[0;36mdraw_wrapper\u001b[0;34m(artist, renderer, *args, **kwargs)\u001b[0m\n\u001b[1;32m     53\u001b[0m                 \u001b[0mrenderer\u001b[0m\u001b[0;34m.\u001b[0m\u001b[0mstart_filter\u001b[0m\u001b[0;34m(\u001b[0m\u001b[0;34m)\u001b[0m\u001b[0;34m\u001b[0m\u001b[0m\n\u001b[1;32m     54\u001b[0m \u001b[0;34m\u001b[0m\u001b[0m\n\u001b[0;32m---> 55\u001b[0;31m             \u001b[0;32mreturn\u001b[0m \u001b[0mdraw\u001b[0m\u001b[0;34m(\u001b[0m\u001b[0martist\u001b[0m\u001b[0;34m,\u001b[0m \u001b[0mrenderer\u001b[0m\u001b[0;34m,\u001b[0m \u001b[0;34m*\u001b[0m\u001b[0margs\u001b[0m\u001b[0;34m,\u001b[0m \u001b[0;34m**\u001b[0m\u001b[0mkwargs\u001b[0m\u001b[0;34m)\u001b[0m\u001b[0;34m\u001b[0m\u001b[0m\n\u001b[0m\u001b[1;32m     56\u001b[0m         \u001b[0;32mfinally\u001b[0m\u001b[0;34m:\u001b[0m\u001b[0;34m\u001b[0m\u001b[0m\n\u001b[1;32m     57\u001b[0m             \u001b[0;32mif\u001b[0m \u001b[0martist\u001b[0m\u001b[0;34m.\u001b[0m\u001b[0mget_agg_filter\u001b[0m\u001b[0;34m(\u001b[0m\u001b[0;34m)\u001b[0m \u001b[0;32mis\u001b[0m \u001b[0;32mnot\u001b[0m \u001b[0;32mNone\u001b[0m\u001b[0;34m:\u001b[0m\u001b[0;34m\u001b[0m\u001b[0m\n",
      "\u001b[0;32m/share/apps/python3/3.6.3/intel/lib/python3.6/site-packages/matplotlib-2.1.0-py3.6-linux-x86_64.egg/matplotlib/figure.py\u001b[0m in \u001b[0;36mdraw\u001b[0;34m(self, renderer)\u001b[0m\n\u001b[1;32m   1293\u001b[0m \u001b[0;34m\u001b[0m\u001b[0m\n\u001b[1;32m   1294\u001b[0m             mimage._draw_list_compositing_images(\n\u001b[0;32m-> 1295\u001b[0;31m                 renderer, self, artists, self.suppressComposite)\n\u001b[0m\u001b[1;32m   1296\u001b[0m \u001b[0;34m\u001b[0m\u001b[0m\n\u001b[1;32m   1297\u001b[0m             \u001b[0mrenderer\u001b[0m\u001b[0;34m.\u001b[0m\u001b[0mclose_group\u001b[0m\u001b[0;34m(\u001b[0m\u001b[0;34m'figure'\u001b[0m\u001b[0;34m)\u001b[0m\u001b[0;34m\u001b[0m\u001b[0m\n",
      "\u001b[0;32m/share/apps/python3/3.6.3/intel/lib/python3.6/site-packages/matplotlib-2.1.0-py3.6-linux-x86_64.egg/matplotlib/image.py\u001b[0m in \u001b[0;36m_draw_list_compositing_images\u001b[0;34m(renderer, parent, artists, suppress_composite)\u001b[0m\n\u001b[1;32m    136\u001b[0m     \u001b[0;32mif\u001b[0m \u001b[0mnot_composite\u001b[0m \u001b[0;32mor\u001b[0m \u001b[0;32mnot\u001b[0m \u001b[0mhas_images\u001b[0m\u001b[0;34m:\u001b[0m\u001b[0;34m\u001b[0m\u001b[0m\n\u001b[1;32m    137\u001b[0m         \u001b[0;32mfor\u001b[0m \u001b[0ma\u001b[0m \u001b[0;32min\u001b[0m \u001b[0martists\u001b[0m\u001b[0;34m:\u001b[0m\u001b[0;34m\u001b[0m\u001b[0m\n\u001b[0;32m--> 138\u001b[0;31m             \u001b[0ma\u001b[0m\u001b[0;34m.\u001b[0m\u001b[0mdraw\u001b[0m\u001b[0;34m(\u001b[0m\u001b[0mrenderer\u001b[0m\u001b[0;34m)\u001b[0m\u001b[0;34m\u001b[0m\u001b[0m\n\u001b[0m\u001b[1;32m    139\u001b[0m     \u001b[0;32melse\u001b[0m\u001b[0;34m:\u001b[0m\u001b[0;34m\u001b[0m\u001b[0m\n\u001b[1;32m    140\u001b[0m         \u001b[0;31m# Composite any adjacent images together\u001b[0m\u001b[0;34m\u001b[0m\u001b[0;34m\u001b[0m\u001b[0m\n",
      "\u001b[0;32m/share/apps/python3/3.6.3/intel/lib/python3.6/site-packages/matplotlib-2.1.0-py3.6-linux-x86_64.egg/matplotlib/artist.py\u001b[0m in \u001b[0;36mdraw_wrapper\u001b[0;34m(artist, renderer, *args, **kwargs)\u001b[0m\n\u001b[1;32m     53\u001b[0m                 \u001b[0mrenderer\u001b[0m\u001b[0;34m.\u001b[0m\u001b[0mstart_filter\u001b[0m\u001b[0;34m(\u001b[0m\u001b[0;34m)\u001b[0m\u001b[0;34m\u001b[0m\u001b[0m\n\u001b[1;32m     54\u001b[0m \u001b[0;34m\u001b[0m\u001b[0m\n\u001b[0;32m---> 55\u001b[0;31m             \u001b[0;32mreturn\u001b[0m \u001b[0mdraw\u001b[0m\u001b[0;34m(\u001b[0m\u001b[0martist\u001b[0m\u001b[0;34m,\u001b[0m \u001b[0mrenderer\u001b[0m\u001b[0;34m,\u001b[0m \u001b[0;34m*\u001b[0m\u001b[0margs\u001b[0m\u001b[0;34m,\u001b[0m \u001b[0;34m**\u001b[0m\u001b[0mkwargs\u001b[0m\u001b[0;34m)\u001b[0m\u001b[0;34m\u001b[0m\u001b[0m\n\u001b[0m\u001b[1;32m     56\u001b[0m         \u001b[0;32mfinally\u001b[0m\u001b[0;34m:\u001b[0m\u001b[0;34m\u001b[0m\u001b[0m\n\u001b[1;32m     57\u001b[0m             \u001b[0;32mif\u001b[0m \u001b[0martist\u001b[0m\u001b[0;34m.\u001b[0m\u001b[0mget_agg_filter\u001b[0m\u001b[0;34m(\u001b[0m\u001b[0;34m)\u001b[0m \u001b[0;32mis\u001b[0m \u001b[0;32mnot\u001b[0m \u001b[0;32mNone\u001b[0m\u001b[0;34m:\u001b[0m\u001b[0;34m\u001b[0m\u001b[0m\n",
      "\u001b[0;32m/share/apps/python3/3.6.3/intel/lib/python3.6/site-packages/matplotlib-2.1.0-py3.6-linux-x86_64.egg/matplotlib/axes/_base.py\u001b[0m in \u001b[0;36mdraw\u001b[0;34m(self, renderer, inframe)\u001b[0m\n\u001b[1;32m   2397\u001b[0m             \u001b[0mrenderer\u001b[0m\u001b[0;34m.\u001b[0m\u001b[0mstop_rasterizing\u001b[0m\u001b[0;34m(\u001b[0m\u001b[0;34m)\u001b[0m\u001b[0;34m\u001b[0m\u001b[0m\n\u001b[1;32m   2398\u001b[0m \u001b[0;34m\u001b[0m\u001b[0m\n\u001b[0;32m-> 2399\u001b[0;31m         \u001b[0mmimage\u001b[0m\u001b[0;34m.\u001b[0m\u001b[0m_draw_list_compositing_images\u001b[0m\u001b[0;34m(\u001b[0m\u001b[0mrenderer\u001b[0m\u001b[0;34m,\u001b[0m \u001b[0mself\u001b[0m\u001b[0;34m,\u001b[0m \u001b[0martists\u001b[0m\u001b[0;34m)\u001b[0m\u001b[0;34m\u001b[0m\u001b[0m\n\u001b[0m\u001b[1;32m   2400\u001b[0m \u001b[0;34m\u001b[0m\u001b[0m\n\u001b[1;32m   2401\u001b[0m         \u001b[0mrenderer\u001b[0m\u001b[0;34m.\u001b[0m\u001b[0mclose_group\u001b[0m\u001b[0;34m(\u001b[0m\u001b[0;34m'axes'\u001b[0m\u001b[0;34m)\u001b[0m\u001b[0;34m\u001b[0m\u001b[0m\n",
      "\u001b[0;32m/share/apps/python3/3.6.3/intel/lib/python3.6/site-packages/matplotlib-2.1.0-py3.6-linux-x86_64.egg/matplotlib/image.py\u001b[0m in \u001b[0;36m_draw_list_compositing_images\u001b[0;34m(renderer, parent, artists, suppress_composite)\u001b[0m\n\u001b[1;32m    136\u001b[0m     \u001b[0;32mif\u001b[0m \u001b[0mnot_composite\u001b[0m \u001b[0;32mor\u001b[0m \u001b[0;32mnot\u001b[0m \u001b[0mhas_images\u001b[0m\u001b[0;34m:\u001b[0m\u001b[0;34m\u001b[0m\u001b[0m\n\u001b[1;32m    137\u001b[0m         \u001b[0;32mfor\u001b[0m \u001b[0ma\u001b[0m \u001b[0;32min\u001b[0m \u001b[0martists\u001b[0m\u001b[0;34m:\u001b[0m\u001b[0;34m\u001b[0m\u001b[0m\n\u001b[0;32m--> 138\u001b[0;31m             \u001b[0ma\u001b[0m\u001b[0;34m.\u001b[0m\u001b[0mdraw\u001b[0m\u001b[0;34m(\u001b[0m\u001b[0mrenderer\u001b[0m\u001b[0;34m)\u001b[0m\u001b[0;34m\u001b[0m\u001b[0m\n\u001b[0m\u001b[1;32m    139\u001b[0m     \u001b[0;32melse\u001b[0m\u001b[0;34m:\u001b[0m\u001b[0;34m\u001b[0m\u001b[0m\n\u001b[1;32m    140\u001b[0m         \u001b[0;31m# Composite any adjacent images together\u001b[0m\u001b[0;34m\u001b[0m\u001b[0;34m\u001b[0m\u001b[0m\n",
      "\u001b[0;32m/share/apps/python3/3.6.3/intel/lib/python3.6/site-packages/matplotlib-2.1.0-py3.6-linux-x86_64.egg/matplotlib/artist.py\u001b[0m in \u001b[0;36mdraw_wrapper\u001b[0;34m(artist, renderer, *args, **kwargs)\u001b[0m\n\u001b[1;32m     53\u001b[0m                 \u001b[0mrenderer\u001b[0m\u001b[0;34m.\u001b[0m\u001b[0mstart_filter\u001b[0m\u001b[0;34m(\u001b[0m\u001b[0;34m)\u001b[0m\u001b[0;34m\u001b[0m\u001b[0m\n\u001b[1;32m     54\u001b[0m \u001b[0;34m\u001b[0m\u001b[0m\n\u001b[0;32m---> 55\u001b[0;31m             \u001b[0;32mreturn\u001b[0m \u001b[0mdraw\u001b[0m\u001b[0;34m(\u001b[0m\u001b[0martist\u001b[0m\u001b[0;34m,\u001b[0m \u001b[0mrenderer\u001b[0m\u001b[0;34m,\u001b[0m \u001b[0;34m*\u001b[0m\u001b[0margs\u001b[0m\u001b[0;34m,\u001b[0m \u001b[0;34m**\u001b[0m\u001b[0mkwargs\u001b[0m\u001b[0;34m)\u001b[0m\u001b[0;34m\u001b[0m\u001b[0m\n\u001b[0m\u001b[1;32m     56\u001b[0m         \u001b[0;32mfinally\u001b[0m\u001b[0;34m:\u001b[0m\u001b[0;34m\u001b[0m\u001b[0m\n\u001b[1;32m     57\u001b[0m             \u001b[0;32mif\u001b[0m \u001b[0martist\u001b[0m\u001b[0;34m.\u001b[0m\u001b[0mget_agg_filter\u001b[0m\u001b[0;34m(\u001b[0m\u001b[0;34m)\u001b[0m \u001b[0;32mis\u001b[0m \u001b[0;32mnot\u001b[0m \u001b[0;32mNone\u001b[0m\u001b[0;34m:\u001b[0m\u001b[0;34m\u001b[0m\u001b[0m\n",
      "\u001b[0;32m/share/apps/python3/3.6.3/intel/lib/python3.6/site-packages/matplotlib-2.1.0-py3.6-linux-x86_64.egg/matplotlib/axis.py\u001b[0m in \u001b[0;36mdraw\u001b[0;34m(self, renderer, *args, **kwargs)\u001b[0m\n\u001b[1;32m   1131\u001b[0m         \u001b[0mrenderer\u001b[0m\u001b[0;34m.\u001b[0m\u001b[0mopen_group\u001b[0m\u001b[0;34m(\u001b[0m\u001b[0m__name__\u001b[0m\u001b[0;34m)\u001b[0m\u001b[0;34m\u001b[0m\u001b[0m\n\u001b[1;32m   1132\u001b[0m \u001b[0;34m\u001b[0m\u001b[0m\n\u001b[0;32m-> 1133\u001b[0;31m         \u001b[0mticks_to_draw\u001b[0m \u001b[0;34m=\u001b[0m \u001b[0mself\u001b[0m\u001b[0;34m.\u001b[0m\u001b[0m_update_ticks\u001b[0m\u001b[0;34m(\u001b[0m\u001b[0mrenderer\u001b[0m\u001b[0;34m)\u001b[0m\u001b[0;34m\u001b[0m\u001b[0m\n\u001b[0m\u001b[1;32m   1134\u001b[0m         ticklabelBoxes, ticklabelBoxes2 = self._get_tick_bboxes(ticks_to_draw,\n\u001b[1;32m   1135\u001b[0m                                                                 renderer)\n",
      "\u001b[0;32m/share/apps/python3/3.6.3/intel/lib/python3.6/site-packages/matplotlib-2.1.0-py3.6-linux-x86_64.egg/matplotlib/axis.py\u001b[0m in \u001b[0;36m_update_ticks\u001b[0;34m(self, renderer)\u001b[0m\n\u001b[1;32m    972\u001b[0m \u001b[0;34m\u001b[0m\u001b[0m\n\u001b[1;32m    973\u001b[0m         \u001b[0minterval\u001b[0m \u001b[0;34m=\u001b[0m \u001b[0mself\u001b[0m\u001b[0;34m.\u001b[0m\u001b[0mget_view_interval\u001b[0m\u001b[0;34m(\u001b[0m\u001b[0;34m)\u001b[0m\u001b[0;34m\u001b[0m\u001b[0m\n\u001b[0;32m--> 974\u001b[0;31m         \u001b[0mtick_tups\u001b[0m \u001b[0;34m=\u001b[0m \u001b[0mlist\u001b[0m\u001b[0;34m(\u001b[0m\u001b[0mself\u001b[0m\u001b[0;34m.\u001b[0m\u001b[0miter_ticks\u001b[0m\u001b[0;34m(\u001b[0m\u001b[0;34m)\u001b[0m\u001b[0;34m)\u001b[0m\u001b[0;34m\u001b[0m\u001b[0m\n\u001b[0m\u001b[1;32m    975\u001b[0m         \u001b[0;32mif\u001b[0m \u001b[0mself\u001b[0m\u001b[0;34m.\u001b[0m\u001b[0m_smart_bounds\u001b[0m \u001b[0;32mand\u001b[0m \u001b[0mtick_tups\u001b[0m\u001b[0;34m:\u001b[0m\u001b[0;34m\u001b[0m\u001b[0m\n\u001b[1;32m    976\u001b[0m             \u001b[0;31m# handle inverted limits\u001b[0m\u001b[0;34m\u001b[0m\u001b[0;34m\u001b[0m\u001b[0m\n",
      "\u001b[0;32m/share/apps/python3/3.6.3/intel/lib/python3.6/site-packages/matplotlib-2.1.0-py3.6-linux-x86_64.egg/matplotlib/axis.py\u001b[0m in \u001b[0;36miter_ticks\u001b[0;34m(self)\u001b[0m\n\u001b[1;32m    915\u001b[0m         \u001b[0mIterate\u001b[0m \u001b[0mthrough\u001b[0m \u001b[0mall\u001b[0m \u001b[0mof\u001b[0m \u001b[0mthe\u001b[0m \u001b[0mmajor\u001b[0m \u001b[0;32mand\u001b[0m \u001b[0mminor\u001b[0m \u001b[0mticks\u001b[0m\u001b[0;34m.\u001b[0m\u001b[0;34m\u001b[0m\u001b[0m\n\u001b[1;32m    916\u001b[0m         \"\"\"\n\u001b[0;32m--> 917\u001b[0;31m         \u001b[0mmajorLocs\u001b[0m \u001b[0;34m=\u001b[0m \u001b[0mself\u001b[0m\u001b[0;34m.\u001b[0m\u001b[0mmajor\u001b[0m\u001b[0;34m.\u001b[0m\u001b[0mlocator\u001b[0m\u001b[0;34m(\u001b[0m\u001b[0;34m)\u001b[0m\u001b[0;34m\u001b[0m\u001b[0m\n\u001b[0m\u001b[1;32m    918\u001b[0m         \u001b[0mmajorTicks\u001b[0m \u001b[0;34m=\u001b[0m \u001b[0mself\u001b[0m\u001b[0;34m.\u001b[0m\u001b[0mget_major_ticks\u001b[0m\u001b[0;34m(\u001b[0m\u001b[0mlen\u001b[0m\u001b[0;34m(\u001b[0m\u001b[0mmajorLocs\u001b[0m\u001b[0;34m)\u001b[0m\u001b[0;34m)\u001b[0m\u001b[0;34m\u001b[0m\u001b[0m\n\u001b[1;32m    919\u001b[0m         \u001b[0mself\u001b[0m\u001b[0;34m.\u001b[0m\u001b[0mmajor\u001b[0m\u001b[0;34m.\u001b[0m\u001b[0mformatter\u001b[0m\u001b[0;34m.\u001b[0m\u001b[0mset_locs\u001b[0m\u001b[0;34m(\u001b[0m\u001b[0mmajorLocs\u001b[0m\u001b[0;34m)\u001b[0m\u001b[0;34m\u001b[0m\u001b[0m\n",
      "\u001b[0;32m/share/apps/python3/3.6.3/intel/lib/python3.6/site-packages/matplotlib-2.1.0-py3.6-linux-x86_64.egg/matplotlib/ticker.py\u001b[0m in \u001b[0;36m__call__\u001b[0;34m(self)\u001b[0m\n\u001b[1;32m   1748\u001b[0m         \u001b[0;34m'Return the locations of the ticks'\u001b[0m\u001b[0;34m\u001b[0m\u001b[0m\n\u001b[1;32m   1749\u001b[0m         \u001b[0mvmin\u001b[0m\u001b[0;34m,\u001b[0m \u001b[0mvmax\u001b[0m \u001b[0;34m=\u001b[0m \u001b[0mself\u001b[0m\u001b[0;34m.\u001b[0m\u001b[0maxis\u001b[0m\u001b[0;34m.\u001b[0m\u001b[0mget_view_interval\u001b[0m\u001b[0;34m(\u001b[0m\u001b[0;34m)\u001b[0m\u001b[0;34m\u001b[0m\u001b[0m\n\u001b[0;32m-> 1750\u001b[0;31m         \u001b[0;32mreturn\u001b[0m \u001b[0mself\u001b[0m\u001b[0;34m.\u001b[0m\u001b[0mtick_values\u001b[0m\u001b[0;34m(\u001b[0m\u001b[0mvmin\u001b[0m\u001b[0;34m,\u001b[0m \u001b[0mvmax\u001b[0m\u001b[0;34m)\u001b[0m\u001b[0;34m\u001b[0m\u001b[0m\n\u001b[0m\u001b[1;32m   1751\u001b[0m \u001b[0;34m\u001b[0m\u001b[0m\n\u001b[1;32m   1752\u001b[0m     \u001b[0;32mdef\u001b[0m \u001b[0mtick_values\u001b[0m\u001b[0;34m(\u001b[0m\u001b[0mself\u001b[0m\u001b[0;34m,\u001b[0m \u001b[0mvmin\u001b[0m\u001b[0;34m,\u001b[0m \u001b[0mvmax\u001b[0m\u001b[0;34m)\u001b[0m\u001b[0;34m:\u001b[0m\u001b[0;34m\u001b[0m\u001b[0m\n",
      "\u001b[0;32m/share/apps/python3/3.6.3/intel/lib/python3.6/site-packages/matplotlib-2.1.0-py3.6-linux-x86_64.egg/matplotlib/ticker.py\u001b[0m in \u001b[0;36mtick_values\u001b[0;34m(self, vmin, vmax)\u001b[0m\n\u001b[1;32m   1757\u001b[0m         \u001b[0mn\u001b[0m \u001b[0;34m=\u001b[0m \u001b[0;34m(\u001b[0m\u001b[0mvmax\u001b[0m \u001b[0;34m-\u001b[0m \u001b[0mvmin\u001b[0m \u001b[0;34m+\u001b[0m \u001b[0;36m0.001\u001b[0m \u001b[0;34m*\u001b[0m \u001b[0mbase\u001b[0m\u001b[0;34m)\u001b[0m \u001b[0;34m//\u001b[0m \u001b[0mbase\u001b[0m\u001b[0;34m\u001b[0m\u001b[0m\n\u001b[1;32m   1758\u001b[0m         \u001b[0mlocs\u001b[0m \u001b[0;34m=\u001b[0m \u001b[0mvmin\u001b[0m \u001b[0;34m-\u001b[0m \u001b[0mbase\u001b[0m \u001b[0;34m+\u001b[0m \u001b[0mnp\u001b[0m\u001b[0;34m.\u001b[0m\u001b[0marange\u001b[0m\u001b[0;34m(\u001b[0m\u001b[0mn\u001b[0m \u001b[0;34m+\u001b[0m \u001b[0;36m3\u001b[0m\u001b[0;34m)\u001b[0m \u001b[0;34m*\u001b[0m \u001b[0mbase\u001b[0m\u001b[0;34m\u001b[0m\u001b[0m\n\u001b[0;32m-> 1759\u001b[0;31m         \u001b[0;32mreturn\u001b[0m \u001b[0mself\u001b[0m\u001b[0;34m.\u001b[0m\u001b[0mraise_if_exceeds\u001b[0m\u001b[0;34m(\u001b[0m\u001b[0mlocs\u001b[0m\u001b[0;34m)\u001b[0m\u001b[0;34m\u001b[0m\u001b[0m\n\u001b[0m\u001b[1;32m   1760\u001b[0m \u001b[0;34m\u001b[0m\u001b[0m\n\u001b[1;32m   1761\u001b[0m     \u001b[0;32mdef\u001b[0m \u001b[0mview_limits\u001b[0m\u001b[0;34m(\u001b[0m\u001b[0mself\u001b[0m\u001b[0;34m,\u001b[0m \u001b[0mdmin\u001b[0m\u001b[0;34m,\u001b[0m \u001b[0mdmax\u001b[0m\u001b[0;34m)\u001b[0m\u001b[0;34m:\u001b[0m\u001b[0;34m\u001b[0m\u001b[0m\n",
      "\u001b[0;32m/share/apps/python3/3.6.3/intel/lib/python3.6/site-packages/matplotlib-2.1.0-py3.6-linux-x86_64.egg/matplotlib/ticker.py\u001b[0m in \u001b[0;36mraise_if_exceeds\u001b[0;34m(self, locs)\u001b[0m\n\u001b[1;32m   1467\u001b[0m             msg = ('Locator attempting to generate %d ticks from %s to %s: ' +\n\u001b[1;32m   1468\u001b[0m                    'exceeds Locator.MAXTICKS') % (len(locs), locs[0], locs[-1])\n\u001b[0;32m-> 1469\u001b[0;31m             \u001b[0;32mraise\u001b[0m \u001b[0mRuntimeError\u001b[0m\u001b[0;34m(\u001b[0m\u001b[0mmsg\u001b[0m\u001b[0;34m)\u001b[0m\u001b[0;34m\u001b[0m\u001b[0m\n\u001b[0m\u001b[1;32m   1470\u001b[0m \u001b[0;34m\u001b[0m\u001b[0m\n\u001b[1;32m   1471\u001b[0m         \u001b[0;32mreturn\u001b[0m \u001b[0mlocs\u001b[0m\u001b[0;34m\u001b[0m\u001b[0m\n",
      "\u001b[0;31mRuntimeError\u001b[0m: Locator attempting to generate 18486 ticks from 339.0 to 4036.0: exceeds Locator.MAXTICKS"
     ]
    },
    {
     "data": {
      "text/plain": [
       "<matplotlib.figure.Figure at 0x2b113bd5bd68>"
      ]
     },
     "metadata": {},
     "output_type": "display_data"
    },
    {
     "ename": "RuntimeError",
     "evalue": "Locator attempting to generate 18486 ticks from 339.0 to 4036.0: exceeds Locator.MAXTICKS",
     "output_type": "error",
     "traceback": [
      "\u001b[0;31m---------------------------------------------------------------------------\u001b[0m",
      "\u001b[0;31mRuntimeError\u001b[0m                              Traceback (most recent call last)",
      "\u001b[0;32m/beegfs/fs1520/pytorch_gpu/py3.6.3/lib/python3.6/site-packages/ipykernel/pylab/backend_inline.py\u001b[0m in \u001b[0;36mshow\u001b[0;34m(close, block)\u001b[0m\n\u001b[1;32m     37\u001b[0m             display(\n\u001b[1;32m     38\u001b[0m                 \u001b[0mfigure_manager\u001b[0m\u001b[0;34m.\u001b[0m\u001b[0mcanvas\u001b[0m\u001b[0;34m.\u001b[0m\u001b[0mfigure\u001b[0m\u001b[0;34m,\u001b[0m\u001b[0;34m\u001b[0m\u001b[0m\n\u001b[0;32m---> 39\u001b[0;31m                 \u001b[0mmetadata\u001b[0m\u001b[0;34m=\u001b[0m\u001b[0m_fetch_figure_metadata\u001b[0m\u001b[0;34m(\u001b[0m\u001b[0mfigure_manager\u001b[0m\u001b[0;34m.\u001b[0m\u001b[0mcanvas\u001b[0m\u001b[0;34m.\u001b[0m\u001b[0mfigure\u001b[0m\u001b[0;34m)\u001b[0m\u001b[0;34m\u001b[0m\u001b[0m\n\u001b[0m\u001b[1;32m     40\u001b[0m             )\n\u001b[1;32m     41\u001b[0m     \u001b[0;32mfinally\u001b[0m\u001b[0;34m:\u001b[0m\u001b[0;34m\u001b[0m\u001b[0m\n",
      "\u001b[0;32m/beegfs/fs1520/pytorch_gpu/py3.6.3/lib/python3.6/site-packages/ipykernel/pylab/backend_inline.py\u001b[0m in \u001b[0;36m_fetch_figure_metadata\u001b[0;34m(fig)\u001b[0m\n\u001b[1;32m    175\u001b[0m         \u001b[0;31m# the background is transparent\u001b[0m\u001b[0;34m\u001b[0m\u001b[0;34m\u001b[0m\u001b[0m\n\u001b[1;32m    176\u001b[0m         ticksLight = _is_light([label.get_color()\n\u001b[0;32m--> 177\u001b[0;31m                                 \u001b[0;32mfor\u001b[0m \u001b[0maxes\u001b[0m \u001b[0;32min\u001b[0m \u001b[0mfig\u001b[0m\u001b[0;34m.\u001b[0m\u001b[0maxes\u001b[0m\u001b[0;34m\u001b[0m\u001b[0m\n\u001b[0m\u001b[1;32m    178\u001b[0m                                 \u001b[0;32mfor\u001b[0m \u001b[0maxis\u001b[0m \u001b[0;32min\u001b[0m \u001b[0;34m(\u001b[0m\u001b[0maxes\u001b[0m\u001b[0;34m.\u001b[0m\u001b[0mxaxis\u001b[0m\u001b[0;34m,\u001b[0m \u001b[0maxes\u001b[0m\u001b[0;34m.\u001b[0m\u001b[0myaxis\u001b[0m\u001b[0;34m)\u001b[0m\u001b[0;34m\u001b[0m\u001b[0m\n\u001b[1;32m    179\u001b[0m                                 for label in axis.get_ticklabels()])\n",
      "\u001b[0;32m/beegfs/fs1520/pytorch_gpu/py3.6.3/lib/python3.6/site-packages/ipykernel/pylab/backend_inline.py\u001b[0m in \u001b[0;36m<listcomp>\u001b[0;34m(.0)\u001b[0m\n\u001b[1;32m    177\u001b[0m                                 \u001b[0;32mfor\u001b[0m \u001b[0maxes\u001b[0m \u001b[0;32min\u001b[0m \u001b[0mfig\u001b[0m\u001b[0;34m.\u001b[0m\u001b[0maxes\u001b[0m\u001b[0;34m\u001b[0m\u001b[0m\n\u001b[1;32m    178\u001b[0m                                 \u001b[0;32mfor\u001b[0m \u001b[0maxis\u001b[0m \u001b[0;32min\u001b[0m \u001b[0;34m(\u001b[0m\u001b[0maxes\u001b[0m\u001b[0;34m.\u001b[0m\u001b[0mxaxis\u001b[0m\u001b[0;34m,\u001b[0m \u001b[0maxes\u001b[0m\u001b[0;34m.\u001b[0m\u001b[0myaxis\u001b[0m\u001b[0;34m)\u001b[0m\u001b[0;34m\u001b[0m\u001b[0m\n\u001b[0;32m--> 179\u001b[0;31m                                 for label in axis.get_ticklabels()])\n\u001b[0m\u001b[1;32m    180\u001b[0m         \u001b[0;32mif\u001b[0m \u001b[0mticksLight\u001b[0m\u001b[0;34m.\u001b[0m\u001b[0msize\u001b[0m \u001b[0;32mand\u001b[0m \u001b[0;34m(\u001b[0m\u001b[0mticksLight\u001b[0m \u001b[0;34m==\u001b[0m \u001b[0mticksLight\u001b[0m\u001b[0;34m[\u001b[0m\u001b[0;36m0\u001b[0m\u001b[0;34m]\u001b[0m\u001b[0;34m)\u001b[0m\u001b[0;34m.\u001b[0m\u001b[0mall\u001b[0m\u001b[0;34m(\u001b[0m\u001b[0;34m)\u001b[0m\u001b[0;34m:\u001b[0m\u001b[0;34m\u001b[0m\u001b[0m\n\u001b[1;32m    181\u001b[0m             \u001b[0;31m# there are one or more tick labels, all with the same lightness\u001b[0m\u001b[0;34m\u001b[0m\u001b[0;34m\u001b[0m\u001b[0m\n",
      "\u001b[0;32m/share/apps/python3/3.6.3/intel/lib/python3.6/site-packages/matplotlib-2.1.0-py3.6-linux-x86_64.egg/matplotlib/axis.py\u001b[0m in \u001b[0;36mget_ticklabels\u001b[0;34m(self, minor, which)\u001b[0m\n\u001b[1;32m   1232\u001b[0m         \u001b[0;32mif\u001b[0m \u001b[0mminor\u001b[0m\u001b[0;34m:\u001b[0m\u001b[0;34m\u001b[0m\u001b[0m\n\u001b[1;32m   1233\u001b[0m             \u001b[0;32mreturn\u001b[0m \u001b[0mself\u001b[0m\u001b[0;34m.\u001b[0m\u001b[0mget_minorticklabels\u001b[0m\u001b[0;34m(\u001b[0m\u001b[0;34m)\u001b[0m\u001b[0;34m\u001b[0m\u001b[0m\n\u001b[0;32m-> 1234\u001b[0;31m         \u001b[0;32mreturn\u001b[0m \u001b[0mself\u001b[0m\u001b[0;34m.\u001b[0m\u001b[0mget_majorticklabels\u001b[0m\u001b[0;34m(\u001b[0m\u001b[0;34m)\u001b[0m\u001b[0;34m\u001b[0m\u001b[0m\n\u001b[0m\u001b[1;32m   1235\u001b[0m \u001b[0;34m\u001b[0m\u001b[0m\n\u001b[1;32m   1236\u001b[0m     \u001b[0;32mdef\u001b[0m \u001b[0mget_majorticklines\u001b[0m\u001b[0;34m(\u001b[0m\u001b[0mself\u001b[0m\u001b[0;34m)\u001b[0m\u001b[0;34m:\u001b[0m\u001b[0;34m\u001b[0m\u001b[0m\n",
      "\u001b[0;32m/share/apps/python3/3.6.3/intel/lib/python3.6/site-packages/matplotlib-2.1.0-py3.6-linux-x86_64.egg/matplotlib/axis.py\u001b[0m in \u001b[0;36mget_majorticklabels\u001b[0;34m(self)\u001b[0m\n\u001b[1;32m   1186\u001b[0m     \u001b[0;32mdef\u001b[0m \u001b[0mget_majorticklabels\u001b[0m\u001b[0;34m(\u001b[0m\u001b[0mself\u001b[0m\u001b[0;34m)\u001b[0m\u001b[0;34m:\u001b[0m\u001b[0;34m\u001b[0m\u001b[0m\n\u001b[1;32m   1187\u001b[0m         \u001b[0;34m'Return a list of Text instances for the major ticklabels'\u001b[0m\u001b[0;34m\u001b[0m\u001b[0m\n\u001b[0;32m-> 1188\u001b[0;31m         \u001b[0mticks\u001b[0m \u001b[0;34m=\u001b[0m \u001b[0mself\u001b[0m\u001b[0;34m.\u001b[0m\u001b[0mget_major_ticks\u001b[0m\u001b[0;34m(\u001b[0m\u001b[0;34m)\u001b[0m\u001b[0;34m\u001b[0m\u001b[0m\n\u001b[0m\u001b[1;32m   1189\u001b[0m         \u001b[0mlabels1\u001b[0m \u001b[0;34m=\u001b[0m \u001b[0;34m[\u001b[0m\u001b[0mtick\u001b[0m\u001b[0;34m.\u001b[0m\u001b[0mlabel1\u001b[0m \u001b[0;32mfor\u001b[0m \u001b[0mtick\u001b[0m \u001b[0;32min\u001b[0m \u001b[0mticks\u001b[0m \u001b[0;32mif\u001b[0m \u001b[0mtick\u001b[0m\u001b[0;34m.\u001b[0m\u001b[0mlabel1On\u001b[0m\u001b[0;34m]\u001b[0m\u001b[0;34m\u001b[0m\u001b[0m\n\u001b[1;32m   1190\u001b[0m         \u001b[0mlabels2\u001b[0m \u001b[0;34m=\u001b[0m \u001b[0;34m[\u001b[0m\u001b[0mtick\u001b[0m\u001b[0;34m.\u001b[0m\u001b[0mlabel2\u001b[0m \u001b[0;32mfor\u001b[0m \u001b[0mtick\u001b[0m \u001b[0;32min\u001b[0m \u001b[0mticks\u001b[0m \u001b[0;32mif\u001b[0m \u001b[0mtick\u001b[0m\u001b[0;34m.\u001b[0m\u001b[0mlabel2On\u001b[0m\u001b[0;34m]\u001b[0m\u001b[0;34m\u001b[0m\u001b[0m\n",
      "\u001b[0;32m/share/apps/python3/3.6.3/intel/lib/python3.6/site-packages/matplotlib-2.1.0-py3.6-linux-x86_64.egg/matplotlib/axis.py\u001b[0m in \u001b[0;36mget_major_ticks\u001b[0;34m(self, numticks)\u001b[0m\n\u001b[1;32m   1337\u001b[0m         \u001b[0;34m'get the tick instances; grow as necessary'\u001b[0m\u001b[0;34m\u001b[0m\u001b[0m\n\u001b[1;32m   1338\u001b[0m         \u001b[0;32mif\u001b[0m \u001b[0mnumticks\u001b[0m \u001b[0;32mis\u001b[0m \u001b[0;32mNone\u001b[0m\u001b[0;34m:\u001b[0m\u001b[0;34m\u001b[0m\u001b[0m\n\u001b[0;32m-> 1339\u001b[0;31m             \u001b[0mnumticks\u001b[0m \u001b[0;34m=\u001b[0m \u001b[0mlen\u001b[0m\u001b[0;34m(\u001b[0m\u001b[0mself\u001b[0m\u001b[0;34m.\u001b[0m\u001b[0mget_major_locator\u001b[0m\u001b[0;34m(\u001b[0m\u001b[0;34m)\u001b[0m\u001b[0;34m(\u001b[0m\u001b[0;34m)\u001b[0m\u001b[0;34m)\u001b[0m\u001b[0;34m\u001b[0m\u001b[0m\n\u001b[0m\u001b[1;32m   1340\u001b[0m         \u001b[0;32mif\u001b[0m \u001b[0mlen\u001b[0m\u001b[0;34m(\u001b[0m\u001b[0mself\u001b[0m\u001b[0;34m.\u001b[0m\u001b[0mmajorTicks\u001b[0m\u001b[0;34m)\u001b[0m \u001b[0;34m<\u001b[0m \u001b[0mnumticks\u001b[0m\u001b[0;34m:\u001b[0m\u001b[0;34m\u001b[0m\u001b[0m\n\u001b[1;32m   1341\u001b[0m             \u001b[0;31m# update the new tick label properties from the old\u001b[0m\u001b[0;34m\u001b[0m\u001b[0;34m\u001b[0m\u001b[0m\n",
      "\u001b[0;32m/share/apps/python3/3.6.3/intel/lib/python3.6/site-packages/matplotlib-2.1.0-py3.6-linux-x86_64.egg/matplotlib/ticker.py\u001b[0m in \u001b[0;36m__call__\u001b[0;34m(self)\u001b[0m\n\u001b[1;32m   1748\u001b[0m         \u001b[0;34m'Return the locations of the ticks'\u001b[0m\u001b[0;34m\u001b[0m\u001b[0m\n\u001b[1;32m   1749\u001b[0m         \u001b[0mvmin\u001b[0m\u001b[0;34m,\u001b[0m \u001b[0mvmax\u001b[0m \u001b[0;34m=\u001b[0m \u001b[0mself\u001b[0m\u001b[0;34m.\u001b[0m\u001b[0maxis\u001b[0m\u001b[0;34m.\u001b[0m\u001b[0mget_view_interval\u001b[0m\u001b[0;34m(\u001b[0m\u001b[0;34m)\u001b[0m\u001b[0;34m\u001b[0m\u001b[0m\n\u001b[0;32m-> 1750\u001b[0;31m         \u001b[0;32mreturn\u001b[0m \u001b[0mself\u001b[0m\u001b[0;34m.\u001b[0m\u001b[0mtick_values\u001b[0m\u001b[0;34m(\u001b[0m\u001b[0mvmin\u001b[0m\u001b[0;34m,\u001b[0m \u001b[0mvmax\u001b[0m\u001b[0;34m)\u001b[0m\u001b[0;34m\u001b[0m\u001b[0m\n\u001b[0m\u001b[1;32m   1751\u001b[0m \u001b[0;34m\u001b[0m\u001b[0m\n\u001b[1;32m   1752\u001b[0m     \u001b[0;32mdef\u001b[0m \u001b[0mtick_values\u001b[0m\u001b[0;34m(\u001b[0m\u001b[0mself\u001b[0m\u001b[0;34m,\u001b[0m \u001b[0mvmin\u001b[0m\u001b[0;34m,\u001b[0m \u001b[0mvmax\u001b[0m\u001b[0;34m)\u001b[0m\u001b[0;34m:\u001b[0m\u001b[0;34m\u001b[0m\u001b[0m\n",
      "\u001b[0;32m/share/apps/python3/3.6.3/intel/lib/python3.6/site-packages/matplotlib-2.1.0-py3.6-linux-x86_64.egg/matplotlib/ticker.py\u001b[0m in \u001b[0;36mtick_values\u001b[0;34m(self, vmin, vmax)\u001b[0m\n\u001b[1;32m   1757\u001b[0m         \u001b[0mn\u001b[0m \u001b[0;34m=\u001b[0m \u001b[0;34m(\u001b[0m\u001b[0mvmax\u001b[0m \u001b[0;34m-\u001b[0m \u001b[0mvmin\u001b[0m \u001b[0;34m+\u001b[0m \u001b[0;36m0.001\u001b[0m \u001b[0;34m*\u001b[0m \u001b[0mbase\u001b[0m\u001b[0;34m)\u001b[0m \u001b[0;34m//\u001b[0m \u001b[0mbase\u001b[0m\u001b[0;34m\u001b[0m\u001b[0m\n\u001b[1;32m   1758\u001b[0m         \u001b[0mlocs\u001b[0m \u001b[0;34m=\u001b[0m \u001b[0mvmin\u001b[0m \u001b[0;34m-\u001b[0m \u001b[0mbase\u001b[0m \u001b[0;34m+\u001b[0m \u001b[0mnp\u001b[0m\u001b[0;34m.\u001b[0m\u001b[0marange\u001b[0m\u001b[0;34m(\u001b[0m\u001b[0mn\u001b[0m \u001b[0;34m+\u001b[0m \u001b[0;36m3\u001b[0m\u001b[0;34m)\u001b[0m \u001b[0;34m*\u001b[0m \u001b[0mbase\u001b[0m\u001b[0;34m\u001b[0m\u001b[0m\n\u001b[0;32m-> 1759\u001b[0;31m         \u001b[0;32mreturn\u001b[0m \u001b[0mself\u001b[0m\u001b[0;34m.\u001b[0m\u001b[0mraise_if_exceeds\u001b[0m\u001b[0;34m(\u001b[0m\u001b[0mlocs\u001b[0m\u001b[0;34m)\u001b[0m\u001b[0;34m\u001b[0m\u001b[0m\n\u001b[0m\u001b[1;32m   1760\u001b[0m \u001b[0;34m\u001b[0m\u001b[0m\n\u001b[1;32m   1761\u001b[0m     \u001b[0;32mdef\u001b[0m \u001b[0mview_limits\u001b[0m\u001b[0;34m(\u001b[0m\u001b[0mself\u001b[0m\u001b[0;34m,\u001b[0m \u001b[0mdmin\u001b[0m\u001b[0;34m,\u001b[0m \u001b[0mdmax\u001b[0m\u001b[0;34m)\u001b[0m\u001b[0;34m:\u001b[0m\u001b[0;34m\u001b[0m\u001b[0m\n",
      "\u001b[0;32m/share/apps/python3/3.6.3/intel/lib/python3.6/site-packages/matplotlib-2.1.0-py3.6-linux-x86_64.egg/matplotlib/ticker.py\u001b[0m in \u001b[0;36mraise_if_exceeds\u001b[0;34m(self, locs)\u001b[0m\n\u001b[1;32m   1467\u001b[0m             msg = ('Locator attempting to generate %d ticks from %s to %s: ' +\n\u001b[1;32m   1468\u001b[0m                    'exceeds Locator.MAXTICKS') % (len(locs), locs[0], locs[-1])\n\u001b[0;32m-> 1469\u001b[0;31m             \u001b[0;32mraise\u001b[0m \u001b[0mRuntimeError\u001b[0m\u001b[0;34m(\u001b[0m\u001b[0mmsg\u001b[0m\u001b[0;34m)\u001b[0m\u001b[0;34m\u001b[0m\u001b[0m\n\u001b[0m\u001b[1;32m   1470\u001b[0m \u001b[0;34m\u001b[0m\u001b[0m\n\u001b[1;32m   1471\u001b[0m         \u001b[0;32mreturn\u001b[0m \u001b[0mlocs\u001b[0m\u001b[0;34m\u001b[0m\u001b[0m\n",
      "\u001b[0;31mRuntimeError\u001b[0m: Locator attempting to generate 18486 ticks from 339.0 to 4036.0: exceeds Locator.MAXTICKS"
     ]
    }
   ],
   "source": [
    "###TrainCuda\n",
    "hidden_size = 200\n",
    "in_size = len(colHeader)\n",
    "out_size = len(colHeader)\n",
    "n_layers = 3\n",
    "encoder3 = EncoderRNN(in_size, hidden_size, n_layers).to(device)\n",
    "attn_decoder3 = BahdanauAttnDecoderRNN_NoSM(hidden_size, out_size, n_layers=n_layers, dropout_p=0.1).to(device)\n",
    "\n",
    "##UNCOMMENT TO TRAIN THE MODEL\n",
    "trainIters_NoSM(encoder2, attn_decoder2, 1, allPairs, n_epoches = 3, print_every=200, plot_every = 200, \\\n",
    "                criterion = nn.MSELoss(), learning_rate=2e-6, marker = 'MSE')"
   ]
  },
  {
   "cell_type": "code",
   "execution_count": null,
   "metadata": {},
   "outputs": [],
   "source": [
    "trainPltNoSMMSE = pkl_loader(resSeq2Seq+'//trainS2S1120200_3MSE.p')"
   ]
  },
  {
   "cell_type": "code",
   "execution_count": 102,
   "metadata": {},
   "outputs": [
    {
     "data": {
      "text/plain": [
       "Text(0.5,1,'title')"
      ]
     },
     "execution_count": 102,
     "metadata": {},
     "output_type": "execute_result"
    },
    {
     "data": {
      "image/png": "[encoded data removed]",
      "text/plain": [
       "<matplotlib.figure.Figure at 0x2b113b339dd8>"
      ]
     },
     "metadata": {
      "needs_background": "light"
     },
     "output_type": "display_data"
    }
   ],
   "source": [
    "fig, ax = plt.subplots()\n",
    "lines = {}\n",
    "lines['cur'], = ax.plot(range(len(trainPltNoSMMSE)), trainPltNoSMMSE, '--', color='red', label='train loss')\n",
    "ax.set_title('title')"
   ]
  },
  {
   "cell_type": "code",
   "execution_count": 80,
   "metadata": {},
   "outputs": [
    {
     "name": "stdout",
     "output_type": "stream",
     "text": [
      "9 6\n",
      "torch.Size([6, 23]) torch.Size([1, 23])\n",
      "torch.Size([6, 23]) torch.Size([1, 23])\n",
      "torch.Size([6, 23]) torch.Size([1, 23])\n",
      "torch.Size([6, 23]) torch.Size([1, 23])\n",
      "torch.Size([6, 23]) torch.Size([1, 23])\n",
      "torch.Size([6, 23]) torch.Size([1, 23])\n"
     ]
    }
   ],
   "source": [
    "i=9\n",
    "predPairs = [[torch.tensor(pair[0], dtype=torch.double, device=device), \\\n",
    "               torch.tensor(pair[1], dtype=torch.double, device=device)] for pair in allPairs]\n",
    "predicted3, target3, loss3 = predictor(predPairs[i][0], predPairs[i][1], encoder3, attn_decoder3, nn.KLDivLoss())"
   ]
  },
  {
   "cell_type": "code",
   "execution_count": 86,
   "metadata": {},
   "outputs": [
    {
     "name": "stdout",
     "output_type": "stream",
     "text": [
      "colHeaders:[(0, 'Vital: BP'), (1, 'Vital: Wt for Len Percentile'), (2, 'Vital: Wt for Length ZScore'), (3, 'Vital: PEF'), (4, 'Vital: PainScale'), (5, 'Vital: BMI'), (6, 'Vital: Ht Percentile'), (7, 'Vital: Ht'), (8, 'Vital: HC Percentile'), (9, 'Vital: Temp'), (10, 'Vital: SpO2'), (11, 'Vital: Vision'), (12, 'Vital: Wt Change'), (13, 'Vital: RR'), (14, 'Vital: HR'), (15, 'Vital: PL'), (16, 'Vital: Wt'), (17, 'Vital: BMI Percentile'), (18, 'Vital: Wt Percentile'), (19, 'Vital: Hearing'), (20, 'Vital: Pre-gravid Wt'), (21, 'Vital: HC'), (22, 'Vital: Fundal Ht')]\n"
     ]
    }
   ],
   "source": [
    "print('colHeaders:{}'.format([item for item in enumerate(colHeader)]))"
   ]
  },
  {
   "cell_type": "code",
   "execution_count": 87,
   "metadata": {},
   "outputs": [
    {
     "name": "stdout",
     "output_type": "stream",
     "text": [
      "7, 9, 16\n"
     ]
    }
   ],
   "source": [
    "print('7, 9, 16')"
   ]
  },
  {
   "cell_type": "code",
   "execution_count": 92,
   "metadata": {},
   "outputs": [
    {
     "data": {
      "text/plain": [
       "array([ 84.60826142,  89.51226273,  90.54785871,  90.79822961,\n",
       "        90.87817504,  90.89835749])"
      ]
     },
     "execution_count": 92,
     "metadata": {},
     "output_type": "execute_result"
    }
   ],
   "source": [
    "predicted[:, 7]"
   ]
  },
  {
   "cell_type": "code",
   "execution_count": 90,
   "metadata": {},
   "outputs": [],
   "source": [
    "predicted = np.array(predicted.detach().numpy())\n",
    "target = np.array(target.detach().numpy())"
   ]
  },
  {
   "cell_type": "code",
   "execution_count": 134,
   "metadata": {},
   "outputs": [],
   "source": [
    "def plotter(c1, c1pred, c2, c2pred, c3, c3pred, ind, title, label, lim):\n",
    "    listXlabel = colSlot[-6:]\n",
    "    c1 = np.array(c1.detach().numpy())[:,ind]\n",
    "    c2 = np.array(c2.detach().numpy())[:,ind]\n",
    "    c3 = np.array(c3.detach().numpy())[:,ind]\n",
    "    c1pred = np.array(c1pred.detach().numpy())[:,ind]\n",
    "    c2pred = np.array(c2pred.detach().numpy())[:,ind]\n",
    "    c3pred = np.array(c3pred.detach().numpy())[:,ind]\n",
    "    fig, ax = plt.subplots(figsize=(12, 8))\n",
    "    lines = {}\n",
    "    lines['c1'], = ax.plot(listXlabel, c1, '-', label='c1_true, obesity', color = 'red')\n",
    "    lines['c1pred'], = ax.plot(listXlabel, c1pred, '--', label='c1_pred, obesity', color = 'red')\n",
    "    lines['c2'], = ax.plot(listXlabel, c2, '-', label='c2_true, non-obesity', color = 'blue')\n",
    "    lines['c2pred'], = ax.plot(listXlabel, c2pred, '--', label='c2_pred, non-obesity', color = 'blue')\n",
    "    lines['c3'], = ax.plot(listXlabel, c3, '-', label='c3_true, non-obesity', color = 'green')\n",
    "    lines['c3pred'], = ax.plot(listXlabel, c3pred, '--', label='c3_pred, non-obesity', color = 'green')\n",
    "    legend = ax.legend(loc='lower right', shadow=True)\n",
    "    ax.set_ylabel(label)\n",
    "    # ax.set_xlabel(listXlabel)\n",
    "    ax.set_title(title)\n",
    "    plt.ylim(lim[0], lim[1])"
   ]
  },
  {
   "cell_type": "code",
   "execution_count": null,
   "metadata": {},
   "outputs": [],
   "source": [
    "plotter(c1, c1pred, c2, c2pred, c3, c3pred, ind, title, label, lim)"
   ]
  },
  {
   "cell_type": "code",
   "execution_count": 127,
   "metadata": {},
   "outputs": [],
   "source": [
    "preds = [0]*3\n",
    "tgts = [0]*3\n",
    "listChild = [9, 16, 512]\n",
    "for j, i in enumerate(listChild):\n",
    "    preds[j], tgts[j], loss = predictor(predPairs[i][0], predPairs[i][1], encoder2, attn_decoder2, nn.KLDivLoss())"
   ]
  },
  {
   "cell_type": "code",
   "execution_count": 128,
   "metadata": {},
   "outputs": [
    {
     "data": {
      "image/png": "[encoded data removed]",
      "text/plain": [
       "<matplotlib.figure.Figure at 0x2b113b21c780>"
      ]
     },
     "metadata": {
      "needs_background": "light"
     },
     "output_type": "display_data"
    }
   ],
   "source": [
    "plotter(tgts[0], preds[0], tgts[1], preds[1], tgts[2], preds[2], 7, 'Height, prediction vs truth', 'Height/cm', [0, 120])"
   ]
  },
  {
   "cell_type": "code",
   "execution_count": 152,
   "metadata": {},
   "outputs": [
    {
     "data": {
      "image/png": "[encoded data removed]",
      "text/plain": [
       "<matplotlib.figure.Figure at 0x2b113aefebe0>"
      ]
     },
     "metadata": {
      "needs_background": "light"
     },
     "output_type": "display_data"
    }
   ],
   "source": [
    "plotter(tgts[0], preds[0], tgts[1], preds[1], tgts[2], preds[2], 16, 'Weight, prediction vs truth', 'Height/cm', [0, 40])"
   ]
  },
  {
   "cell_type": "markdown",
   "metadata": {},
   "source": [
    "### Try another decoder input"
   ]
  },
  {
   "cell_type": "code",
   "execution_count": 136,
   "metadata": {
    "scrolled": true
   },
   "outputs": [
    {
     "name": "stdout",
     "output_type": "stream",
     "text": [
      "0m 14s (- 11m 39s) (200 2%) -325.0312\n",
      "0m 28s (- 11m 25s) (400 4%) -346.8031\n",
      "0m 43s (- 11m 9s) (600 6%) -370.0437\n",
      "0m 57s (- 10m 54s) (800 8%) -390.6389\n",
      "1m 12s (- 10m 39s) (1000 10%) -420.5664\n",
      "1m 26s (- 10m 24s) (1200 12%) -459.2873\n",
      "1m 40s (- 10m 9s) (1400 14%) -473.0793\n",
      "1m 55s (- 9m 55s) (1600 16%) -507.1899\n",
      "2m 9s (- 9m 40s) (1800 18%) -545.6167\n",
      "2m 24s (- 9m 26s) (2000 20%) -565.7817\n",
      "2m 38s (- 9m 12s) (2200 22%) -594.6960\n",
      "2m 52s (- 8m 57s) (2400 24%) -633.4773\n",
      "3m 7s (- 8m 43s) (2600 26%) -631.5766\n",
      "3m 21s (- 8m 28s) (2800 28%) -683.2442\n",
      "3m 35s (- 8m 14s) (3000 30%) -689.8159\n",
      "3m 50s (- 7m 59s) (3200 32%) -726.6715\n",
      "4m 4s (- 7m 45s) (3400 34%) -734.0242\n",
      "4m 19s (- 7m 31s) (3600 36%) -775.9469\n",
      "4m 33s (- 7m 16s) (3800 38%) -769.6584\n",
      "4m 47s (- 7m 2s) (4000 40%) -835.3935\n",
      "5m 2s (- 6m 48s) (4200 42%) -866.8361\n",
      "5m 16s (- 6m 33s) (4400 44%) -846.1589\n",
      "5m 30s (- 6m 19s) (4600 46%) -902.5211\n",
      "5m 45s (- 6m 4s) (4800 48%) -929.2996\n",
      "5m 59s (- 5m 50s) (5000 50%) -962.9097\n",
      "6m 13s (- 5m 35s) (5200 52%) -960.5670\n",
      "6m 28s (- 5m 21s) (5400 54%) -999.8864\n",
      "6m 42s (- 5m 7s) (5600 56%) -1007.1330\n",
      "6m 57s (- 4m 52s) (5800 58%) -1038.2566\n",
      "7m 11s (- 4m 38s) (6000 60%) -1085.9615\n",
      "7m 25s (- 4m 23s) (6200 62%) -1138.9267\n",
      "7m 40s (- 4m 9s) (6400 64%) -1140.1548\n",
      "7m 54s (- 3m 55s) (6600 66%) -1150.4756\n",
      "8m 9s (- 3m 40s) (6800 68%) -1222.1578\n",
      "8m 23s (- 3m 26s) (7000 70%) -1241.4062\n",
      "8m 38s (- 3m 12s) (7200 72%) -1292.0313\n",
      "8m 52s (- 2m 57s) (7400 74%) -1295.7146\n",
      "9m 7s (- 2m 43s) (7600 77%) -1315.5528\n",
      "9m 21s (- 2m 29s) (7800 79%) -1349.7756\n",
      "9m 36s (- 2m 14s) (8000 81%) -1328.7212\n",
      "9m 50s (- 2m 0s) (8200 83%) -1403.0132\n",
      "10m 4s (- 1m 45s) (8400 85%) -1400.2598\n",
      "10m 19s (- 1m 31s) (8600 87%) -1422.6536\n",
      "10m 33s (- 1m 17s) (8800 89%) -1440.1127\n",
      "10m 48s (- 1m 2s) (9000 91%) -1492.4918\n",
      "11m 2s (- 0m 48s) (9200 93%) -1567.5935\n",
      "11m 17s (- 0m 33s) (9400 95%) -1484.9911\n",
      "11m 31s (- 0m 19s) (9600 97%) -1537.9570\n",
      "11m 45s (- 0m 5s) (9800 99%) -1610.1600\n"
     ]
    },
    {
     "ename": "TypeError",
     "evalue": "showPlot() missing 1 required positional argument: 'title'",
     "output_type": "error",
     "traceback": [
      "\u001b[0;31m---------------------------------------------------------------------------\u001b[0m",
      "\u001b[0;31mTypeError\u001b[0m                                 Traceback (most recent call last)",
      "\u001b[0;32m<ipython-input-136-43d6d830fb69>\u001b[0m in \u001b[0;36m<module>\u001b[0;34m\u001b[0m\n\u001b[1;32m      9\u001b[0m \u001b[0;31m##UNCOMMENT TO TRAIN THE MODEL\u001b[0m\u001b[0;34m\u001b[0m\u001b[0;34m\u001b[0m\u001b[0m\n\u001b[1;32m     10\u001b[0m trainIters_NoSM(encoder55, attn_decoder55, 1, allPairs, n_epoches = 2, print_every=200, plot_every = 200, \\\n\u001b[0;32m---> 11\u001b[0;31m                 criterion = nn.KLDivLoss(), learning_rate=2e-6, marker = 'KLDivLossAnotherDecIn')\n\u001b[0m",
      "\u001b[0;32m<ipython-input-67-13c7e4138757>\u001b[0m in \u001b[0;36mtrainIters_NoSM\u001b[0;34m(encoder, decoder, n_iters, pairs, n_epoches, print_every, plot_every, learning_rate, criterion, marker)\u001b[0m\n\u001b[1;32m     41\u001b[0m             \u001b[0mplot_loss_total\u001b[0m \u001b[0;34m=\u001b[0m \u001b[0;36m0\u001b[0m\u001b[0;34m\u001b[0m\u001b[0m\n\u001b[1;32m     42\u001b[0m     \u001b[0mpkl_dumper\u001b[0m\u001b[0;34m(\u001b[0m\u001b[0mplot_losses\u001b[0m\u001b[0;34m,\u001b[0m \u001b[0mresSeq2Seq\u001b[0m \u001b[0;34m+\u001b[0m \u001b[0;34m'//trainS2S1120'\u001b[0m\u001b[0;34m+\u001b[0m\u001b[0mstr\u001b[0m\u001b[0;34m(\u001b[0m\u001b[0mhidden_size\u001b[0m\u001b[0;34m)\u001b[0m\u001b[0;34m+\u001b[0m\u001b[0;34m'_'\u001b[0m\u001b[0;34m+\u001b[0m\u001b[0mstr\u001b[0m\u001b[0;34m(\u001b[0m\u001b[0mn_layers\u001b[0m\u001b[0;34m)\u001b[0m\u001b[0;34m+\u001b[0m\u001b[0mmarker\u001b[0m\u001b[0;34m+\u001b[0m\u001b[0;34m'.p'\u001b[0m\u001b[0;34m)\u001b[0m\u001b[0;34m\u001b[0m\u001b[0m\n\u001b[0;32m---> 43\u001b[0;31m     \u001b[0mshowPlot\u001b[0m\u001b[0;34m(\u001b[0m\u001b[0mplot_losses\u001b[0m\u001b[0;34m)\u001b[0m\u001b[0;34m\u001b[0m\u001b[0m\n\u001b[0m\u001b[1;32m     44\u001b[0m \u001b[0;34m\u001b[0m\u001b[0m\n",
      "\u001b[0;31mTypeError\u001b[0m: showPlot() missing 1 required positional argument: 'title'"
     ]
    }
   ],
   "source": [
    "###TrainCuda\n",
    "hidden_size = 200\n",
    "in_size = len(colHeader)\n",
    "out_size = len(colHeader)\n",
    "n_layers = 3\n",
    "encoder55 = EncoderRNN(in_size, hidden_size, n_layers).to(device)\n",
    "attn_decoder55 = BahdanauAttnDecoderRNN_NoSM(hidden_size, out_size, n_layers=n_layers, dropout_p=0.1).to(device)\n",
    "\n",
    "##UNCOMMENT TO TRAIN THE MODEL\n",
    "trainIters_NoSM(encoder55, attn_decoder55, 1, allPairs, n_epoches = 2, print_every=200, plot_every = 200, \\\n",
    "                criterion = nn.KLDivLoss(), learning_rate=2e-6, marker = 'KLDivLossAnotherDecIn')"
   ]
  },
  {
   "cell_type": "code",
   "execution_count": 137,
   "metadata": {},
   "outputs": [],
   "source": [
    "torch.save(encoder55.state_dict(), resSeq2Seq + \"//encoder_test1121_\"+str(hidden_size)+\"_\"+str(n_layers)+'NoSM_another'+\".pth\")\n",
    "torch.save(attn_decoder55.state_dict(), resSeq2Seq + \"//attn_decoder_test1121_\"+str(hidden_size)+\"_\"+str(n_layers)+'NoSM_another'+\".pth\")"
   ]
  },
  {
   "cell_type": "code",
   "execution_count": 139,
   "metadata": {},
   "outputs": [],
   "source": [
    "preds3 = [0]*3\n",
    "tgts3 = [0]*3\n",
    "listChild = [9, 16, 512]\n",
    "for j, i in enumerate(listChild):\n",
    "    preds3[j], tgts3[j], loss = predictor(predPairs[i][0], predPairs[i][1], encoder55, attn_decoder55, nn.KLDivLoss())"
   ]
  },
  {
   "cell_type": "code",
   "execution_count": 142,
   "metadata": {},
   "outputs": [
    {
     "data": {
      "image/png": "[encoded data removed]",
      "text/plain": [
       "<matplotlib.figure.Figure at 0x2b113b4a65c0>"
      ]
     },
     "metadata": {
      "needs_background": "light"
     },
     "output_type": "display_data"
    }
   ],
   "source": [
    "plotter(tgts3[0], preds3[0], tgts3[1], preds3[1], tgts3[2], preds3[2], 7, 'Height, prediction vs truth', 'Height/cm', [50, 125])"
   ]
  },
  {
   "cell_type": "code",
   "execution_count": 151,
   "metadata": {},
   "outputs": [
    {
     "data": {
      "image/png": "[encoded data removed]",
      "text/plain": [
       "<matplotlib.figure.Figure at 0x2b113b1bc4a8>"
      ]
     },
     "metadata": {
      "needs_background": "light"
     },
     "output_type": "display_data"
    }
   ],
   "source": [
    "plotter(tgts3[0], preds3[0], tgts3[1], preds3[1], tgts3[2], preds3[2], 16, 'Weight, prediction vs truth', 'Height/cm', [0, 40])"
   ]
  },
  {
   "cell_type": "code",
   "execution_count": 106,
   "metadata": {},
   "outputs": [
    {
     "data": {
      "text/plain": [
       "[(9, 1.0),\n",
       " (10, 1.0),\n",
       " (14, 1.0),\n",
       " (16, 1.0),\n",
       " (17, 1.0),\n",
       " (19, 1.0),\n",
       " (23, 1.0),\n",
       " (24, 1.0),\n",
       " (25, 1.0),\n",
       " (28, 1.0),\n",
       " (32, 1.0),\n",
       " (34, 1.0),\n",
       " (39, 1.0),\n",
       " (44, 1.0),\n",
       " (47, 1.0),\n",
       " (51, 1.0),\n",
       " (58, 1.0),\n",
       " (59, 1.0),\n",
       " (61, 1.0),\n",
       " (64, 1.0),\n",
       " (78, 1.0),\n",
       " (80, 1.0),\n",
       " (81, 1.0),\n",
       " (85, 1.0),\n",
       " (86, 1.0),\n",
       " (88, 1.0),\n",
       " (90, 1.0),\n",
       " (93, 1.0),\n",
       " (106, 1.0),\n",
       " (115, 1.0),\n",
       " (116, 1.0),\n",
       " (117, 1.0),\n",
       " (118, 1.0),\n",
       " (127, 1.0),\n",
       " (128, 1.0),\n",
       " (132, 1.0),\n",
       " (138, 1.0),\n",
       " (145, 1.0),\n",
       " (148, 1.0),\n",
       " (152, 1.0),\n",
       " (153, 1.0),\n",
       " (156, 1.0),\n",
       " (161, 1.0),\n",
       " (167, 1.0),\n",
       " (170, 1.0),\n",
       " (180, 1.0),\n",
       " (189, 1.0),\n",
       " (191, 1.0),\n",
       " (197, 1.0),\n",
       " (212, 1.0),\n",
       " (216, 1.0),\n",
       " (221, 1.0),\n",
       " (226, 1.0),\n",
       " (230, 1.0),\n",
       " (231, 1.0),\n",
       " (232, 1.0),\n",
       " (233, 1.0),\n",
       " (234, 1.0),\n",
       " (237, 1.0),\n",
       " (238, 1.0),\n",
       " (244, 1.0),\n",
       " (253, 1.0),\n",
       " (259, 1.0),\n",
       " (260, 1.0),\n",
       " (261, 1.0),\n",
       " (264, 1.0),\n",
       " (265, 1.0),\n",
       " (271, 1.0),\n",
       " (273, 1.0),\n",
       " (277, 1.0),\n",
       " (296, 1.0),\n",
       " (313, 1.0),\n",
       " (317, 1.0),\n",
       " (318, 1.0),\n",
       " (319, 1.0),\n",
       " (327, 1.0),\n",
       " (329, 1.0),\n",
       " (330, 1.0),\n",
       " (331, 1.0),\n",
       " (334, 1.0),\n",
       " (341, 1.0),\n",
       " (356, 1.0),\n",
       " (358, 1.0),\n",
       " (365, 1.0),\n",
       " (375, 1.0),\n",
       " (377, 1.0),\n",
       " (380, 1.0),\n",
       " (384, 1.0),\n",
       " (388, 1.0),\n",
       " (397, 1.0),\n",
       " (399, 1.0),\n",
       " (402, 1.0),\n",
       " (409, 1.0),\n",
       " (414, 1.0),\n",
       " (415, 1.0),\n",
       " (430, 1.0),\n",
       " (432, 1.0),\n",
       " (435, 1.0),\n",
       " (441, 1.0),\n",
       " (450, 1.0),\n",
       " (451, 1.0),\n",
       " (461, 1.0),\n",
       " (465, 1.0),\n",
       " (467, 1.0),\n",
       " (470, 1.0),\n",
       " (495, 1.0),\n",
       " (498, 1.0),\n",
       " (499, 1.0),\n",
       " (506, 1.0),\n",
       " (508, 1.0),\n",
       " (511, 1.0),\n",
       " (514, 1.0),\n",
       " (530, 1.0),\n",
       " (538, 1.0),\n",
       " (545, 1.0),\n",
       " (555, 1.0),\n",
       " (558, 1.0),\n",
       " (562, 1.0),\n",
       " (564, 1.0),\n",
       " (572, 1.0),\n",
       " (588, 1.0),\n",
       " (589, 1.0),\n",
       " (592, 1.0),\n",
       " (593, 1.0),\n",
       " (605, 1.0),\n",
       " (606, 1.0),\n",
       " (611, 1.0),\n",
       " (614, 1.0),\n",
       " (615, 1.0),\n",
       " (618, 1.0),\n",
       " (624, 1.0),\n",
       " (637, 1.0),\n",
       " (656, 1.0),\n",
       " (660, 1.0),\n",
       " (664, 1.0),\n",
       " (666, 1.0),\n",
       " (689, 1.0),\n",
       " (691, 1.0),\n",
       " (695, 1.0),\n",
       " (707, 1.0),\n",
       " (709, 1.0),\n",
       " (713, 1.0),\n",
       " (714, 1.0),\n",
       " (715, 1.0),\n",
       " (720, 1.0),\n",
       " (726, 1.0),\n",
       " (735, 1.0),\n",
       " (740, 1.0),\n",
       " (745, 1.0),\n",
       " (760, 1.0),\n",
       " (767, 1.0),\n",
       " (774, 1.0),\n",
       " (789, 1.0),\n",
       " (791, 1.0),\n",
       " (800, 1.0),\n",
       " (801, 1.0),\n",
       " (812, 1.0),\n",
       " (816, 1.0),\n",
       " (817, 1.0),\n",
       " (840, 1.0),\n",
       " (855, 1.0),\n",
       " (860, 1.0),\n",
       " (877, 1.0),\n",
       " (878, 1.0),\n",
       " (879, 1.0),\n",
       " (884, 1.0),\n",
       " (911, 1.0),\n",
       " (912, 1.0),\n",
       " (918, 1.0),\n",
       " (920, 1.0),\n",
       " (921, 1.0),\n",
       " (927, 1.0),\n",
       " (928, 1.0),\n",
       " (940, 1.0),\n",
       " (946, 1.0),\n",
       " (950, 1.0),\n",
       " (952, 1.0),\n",
       " (953, 1.0),\n",
       " (955, 1.0),\n",
       " (957, 1.0),\n",
       " (960, 1.0),\n",
       " (971, 1.0),\n",
       " (972, 1.0),\n",
       " (977, 1.0),\n",
       " (981, 1.0),\n",
       " (983, 1.0),\n",
       " (984, 1.0),\n",
       " (986, 1.0),\n",
       " (992, 1.0),\n",
       " (998, 1.0),\n",
       " (1003, 1.0),\n",
       " (1007, 1.0),\n",
       " (1008, 1.0),\n",
       " (1012, 1.0),\n",
       " (1015, 1.0),\n",
       " (1018, 1.0),\n",
       " (1030, 1.0),\n",
       " (1032, 1.0),\n",
       " (1036, 1.0),\n",
       " (1037, 1.0),\n",
       " (1048, 1.0),\n",
       " (1063, 1.0),\n",
       " (1065, 1.0),\n",
       " (1069, 1.0),\n",
       " (1081, 1.0),\n",
       " (1092, 1.0),\n",
       " (1095, 1.0),\n",
       " (1096, 1.0),\n",
       " (1103, 1.0),\n",
       " (1112, 1.0),\n",
       " (1113, 1.0),\n",
       " (1117, 1.0),\n",
       " (1121, 1.0),\n",
       " (1122, 1.0),\n",
       " (1128, 1.0),\n",
       " (1130, 1.0),\n",
       " (1136, 1.0),\n",
       " (1138, 1.0),\n",
       " (1144, 1.0),\n",
       " (1146, 1.0),\n",
       " (1149, 1.0),\n",
       " (1152, 1.0),\n",
       " (1159, 1.0),\n",
       " (1175, 1.0),\n",
       " (1177, 1.0),\n",
       " (1180, 1.0),\n",
       " (1195, 1.0),\n",
       " (1208, 1.0),\n",
       " (1209, 1.0),\n",
       " (1213, 1.0),\n",
       " (1214, 1.0),\n",
       " (1219, 1.0),\n",
       " (1228, 1.0),\n",
       " (1236, 1.0),\n",
       " (1239, 1.0),\n",
       " (1242, 1.0),\n",
       " (1252, 1.0),\n",
       " (1254, 1.0),\n",
       " (1257, 1.0),\n",
       " (1261, 1.0),\n",
       " (1269, 1.0),\n",
       " (1270, 1.0),\n",
       " (1271, 1.0),\n",
       " (1273, 1.0),\n",
       " (1275, 1.0),\n",
       " (1290, 1.0),\n",
       " (1293, 1.0),\n",
       " (1295, 1.0),\n",
       " (1299, 1.0),\n",
       " (1307, 1.0),\n",
       " (1314, 1.0),\n",
       " (1317, 1.0),\n",
       " (1328, 1.0),\n",
       " (1333, 1.0),\n",
       " (1336, 1.0),\n",
       " (1337, 1.0),\n",
       " (1338, 1.0),\n",
       " (1339, 1.0),\n",
       " (1343, 1.0),\n",
       " (1349, 1.0),\n",
       " (1350, 1.0),\n",
       " (1361, 1.0),\n",
       " (1371, 1.0),\n",
       " (1383, 1.0),\n",
       " (1385, 1.0),\n",
       " (1387, 1.0),\n",
       " (1397, 1.0),\n",
       " (1401, 1.0),\n",
       " (1406, 1.0),\n",
       " (1407, 1.0),\n",
       " (1408, 1.0),\n",
       " (1424, 1.0),\n",
       " (1427, 1.0),\n",
       " (1428, 1.0),\n",
       " (1433, 1.0),\n",
       " (1435, 1.0),\n",
       " (1442, 1.0),\n",
       " (1465, 1.0),\n",
       " (1470, 1.0),\n",
       " (1471, 1.0),\n",
       " (1479, 1.0),\n",
       " (1492, 1.0),\n",
       " (1493, 1.0),\n",
       " (1498, 1.0),\n",
       " (1508, 1.0),\n",
       " (1516, 1.0),\n",
       " (1521, 1.0),\n",
       " (1526, 1.0),\n",
       " (1534, 1.0),\n",
       " (1536, 1.0),\n",
       " (1537, 1.0),\n",
       " (1547, 1.0),\n",
       " (1549, 1.0),\n",
       " (1553, 1.0),\n",
       " (1554, 1.0),\n",
       " (1556, 1.0),\n",
       " (1559, 1.0),\n",
       " (1560, 1.0),\n",
       " (1562, 1.0),\n",
       " (1564, 1.0),\n",
       " (1581, 1.0),\n",
       " (1588, 1.0),\n",
       " (1590, 1.0),\n",
       " (1591, 1.0),\n",
       " (1599, 1.0),\n",
       " (1603, 1.0),\n",
       " (1605, 1.0),\n",
       " (1606, 1.0),\n",
       " (1613, 1.0),\n",
       " (1615, 1.0),\n",
       " (1619, 1.0),\n",
       " (1625, 1.0),\n",
       " (1627, 1.0),\n",
       " (1634, 1.0),\n",
       " (1652, 1.0),\n",
       " (1655, 1.0),\n",
       " (1656, 1.0),\n",
       " (1658, 1.0),\n",
       " (1659, 1.0),\n",
       " (1674, 1.0),\n",
       " (1681, 1.0),\n",
       " (1684, 1.0),\n",
       " (1695, 1.0),\n",
       " (1697, 1.0),\n",
       " (1698, 1.0),\n",
       " (1700, 1.0),\n",
       " (1702, 1.0),\n",
       " (1713, 1.0),\n",
       " (1721, 1.0),\n",
       " (1722, 1.0),\n",
       " (1731, 1.0),\n",
       " (1733, 1.0),\n",
       " (1749, 1.0),\n",
       " (1754, 1.0),\n",
       " (1764, 1.0),\n",
       " (1767, 1.0),\n",
       " (1769, 1.0),\n",
       " (1770, 1.0),\n",
       " (1780, 1.0),\n",
       " (1791, 1.0),\n",
       " (1795, 1.0),\n",
       " (1799, 1.0),\n",
       " (1807, 1.0),\n",
       " (1810, 1.0),\n",
       " (1812, 1.0),\n",
       " (1814, 1.0),\n",
       " (1838, 1.0),\n",
       " (1849, 1.0),\n",
       " (1854, 1.0),\n",
       " (1856, 1.0),\n",
       " (1861, 1.0),\n",
       " (1864, 1.0),\n",
       " (1866, 1.0),\n",
       " (1870, 1.0),\n",
       " (1872, 1.0),\n",
       " (1883, 1.0),\n",
       " (1902, 1.0),\n",
       " (1905, 1.0),\n",
       " (1907, 1.0),\n",
       " (1922, 1.0),\n",
       " (1925, 1.0),\n",
       " (1937, 1.0),\n",
       " (1948, 1.0),\n",
       " (1951, 1.0),\n",
       " (1962, 1.0),\n",
       " (1965, 1.0),\n",
       " (1966, 1.0),\n",
       " (1977, 1.0),\n",
       " (1978, 1.0),\n",
       " (1979, 1.0),\n",
       " (1989, 1.0),\n",
       " (1990, 1.0),\n",
       " (2000, 1.0),\n",
       " (2007, 1.0),\n",
       " (2011, 1.0),\n",
       " (2012, 1.0),\n",
       " (2013, 1.0),\n",
       " (2019, 1.0),\n",
       " (2026, 1.0),\n",
       " (2036, 1.0),\n",
       " (2038, 1.0),\n",
       " (2044, 1.0),\n",
       " (2051, 1.0),\n",
       " (2053, 1.0),\n",
       " (2056, 1.0),\n",
       " (2061, 1.0),\n",
       " (2064, 1.0),\n",
       " (2077, 1.0),\n",
       " (2080, 1.0),\n",
       " (2082, 1.0),\n",
       " (2084, 1.0),\n",
       " (2091, 1.0),\n",
       " (2096, 1.0),\n",
       " (2102, 1.0),\n",
       " (2104, 1.0),\n",
       " (2112, 1.0),\n",
       " (2119, 1.0),\n",
       " (2132, 1.0),\n",
       " (2135, 1.0),\n",
       " (2138, 1.0),\n",
       " (2151, 1.0),\n",
       " (2155, 1.0),\n",
       " (2156, 1.0),\n",
       " (2165, 1.0),\n",
       " (2166, 1.0),\n",
       " (2172, 1.0),\n",
       " (2173, 1.0),\n",
       " (2185, 1.0),\n",
       " (2188, 1.0),\n",
       " (2192, 1.0),\n",
       " (2195, 1.0),\n",
       " (2207, 1.0),\n",
       " (2208, 1.0),\n",
       " (2215, 1.0),\n",
       " (2219, 1.0),\n",
       " (2220, 1.0),\n",
       " (2222, 1.0),\n",
       " (2226, 1.0),\n",
       " (2231, 1.0),\n",
       " (2233, 1.0),\n",
       " (2239, 1.0),\n",
       " (2245, 1.0),\n",
       " (2246, 1.0),\n",
       " (2253, 1.0),\n",
       " (2257, 1.0),\n",
       " (2262, 1.0),\n",
       " (2263, 1.0),\n",
       " (2264, 1.0),\n",
       " (2266, 1.0),\n",
       " (2268, 1.0),\n",
       " (2271, 1.0),\n",
       " (2279, 1.0),\n",
       " (2281, 1.0),\n",
       " (2282, 1.0),\n",
       " (2300, 1.0),\n",
       " (2310, 1.0),\n",
       " (2323, 1.0),\n",
       " (2327, 1.0),\n",
       " (2330, 1.0),\n",
       " (2331, 1.0),\n",
       " (2336, 1.0),\n",
       " (2344, 1.0),\n",
       " (2350, 1.0),\n",
       " (2359, 1.0),\n",
       " (2362, 1.0),\n",
       " (2388, 1.0),\n",
       " (2394, 1.0),\n",
       " (2395, 1.0),\n",
       " (2396, 1.0),\n",
       " (2399, 1.0),\n",
       " (2402, 1.0),\n",
       " (2409, 1.0),\n",
       " (2413, 1.0),\n",
       " (2421, 1.0),\n",
       " (2431, 1.0),\n",
       " (2432, 1.0),\n",
       " (2437, 1.0),\n",
       " (2446, 1.0),\n",
       " (2453, 1.0),\n",
       " (2465, 1.0),\n",
       " (2471, 1.0),\n",
       " (2477, 1.0),\n",
       " (2480, 1.0),\n",
       " (2481, 1.0),\n",
       " (2492, 1.0),\n",
       " (2493, 1.0),\n",
       " (2506, 1.0),\n",
       " (2514, 1.0),\n",
       " (2519, 1.0),\n",
       " (2524, 1.0),\n",
       " (2535, 1.0),\n",
       " (2544, 1.0),\n",
       " (2548, 1.0),\n",
       " (2550, 1.0),\n",
       " (2552, 1.0),\n",
       " (2558, 1.0),\n",
       " (2560, 1.0),\n",
       " (2561, 1.0),\n",
       " (2568, 1.0),\n",
       " (2572, 1.0),\n",
       " (2578, 1.0),\n",
       " (2586, 1.0),\n",
       " (2589, 1.0),\n",
       " (2598, 1.0),\n",
       " (2599, 1.0),\n",
       " (2604, 1.0),\n",
       " (2610, 1.0),\n",
       " (2612, 1.0),\n",
       " (2613, 1.0),\n",
       " (2616, 1.0),\n",
       " (2620, 1.0),\n",
       " (2624, 1.0),\n",
       " (2642, 1.0),\n",
       " (2644, 1.0),\n",
       " (2646, 1.0),\n",
       " (2649, 1.0),\n",
       " (2650, 1.0),\n",
       " (2652, 1.0),\n",
       " (2672, 1.0),\n",
       " (2677, 1.0),\n",
       " (2678, 1.0),\n",
       " (2680, 1.0),\n",
       " (2682, 1.0),\n",
       " (2697, 1.0),\n",
       " (2699, 1.0),\n",
       " (2707, 1.0),\n",
       " (2709, 1.0),\n",
       " (2713, 1.0),\n",
       " (2714, 1.0),\n",
       " (2717, 1.0),\n",
       " (2718, 1.0),\n",
       " (2722, 1.0),\n",
       " (2723, 1.0),\n",
       " (2732, 1.0),\n",
       " (2736, 1.0),\n",
       " (2741, 1.0),\n",
       " (2742, 1.0),\n",
       " (2749, 1.0),\n",
       " (2753, 1.0),\n",
       " (2755, 1.0),\n",
       " (2758, 1.0),\n",
       " (2762, 1.0),\n",
       " (2763, 1.0),\n",
       " (2770, 1.0),\n",
       " (2780, 1.0),\n",
       " (2781, 1.0),\n",
       " (2785, 1.0),\n",
       " (2787, 1.0),\n",
       " (2791, 1.0),\n",
       " (2795, 1.0),\n",
       " (2796, 1.0),\n",
       " (2804, 1.0),\n",
       " (2818, 1.0),\n",
       " (2825, 1.0),\n",
       " (2828, 1.0),\n",
       " (2840, 1.0),\n",
       " (2845, 1.0),\n",
       " (2847, 1.0),\n",
       " (2853, 1.0),\n",
       " (2862, 1.0),\n",
       " (2863, 1.0),\n",
       " (2881, 1.0),\n",
       " (2884, 1.0),\n",
       " (2885, 1.0),\n",
       " (2892, 1.0),\n",
       " (2894, 1.0),\n",
       " (2896, 1.0),\n",
       " (2897, 1.0),\n",
       " (2918, 1.0),\n",
       " (2934, 1.0),\n",
       " (2943, 1.0),\n",
       " (2948, 1.0),\n",
       " (2958, 1.0),\n",
       " (2966, 1.0),\n",
       " (2967, 1.0),\n",
       " (2974, 1.0),\n",
       " (2977, 1.0),\n",
       " (2981, 1.0),\n",
       " (2985, 1.0),\n",
       " (2989, 1.0),\n",
       " (2993, 1.0),\n",
       " (2997, 1.0),\n",
       " (2999, 1.0),\n",
       " (3013, 1.0),\n",
       " (3015, 1.0),\n",
       " (3021, 1.0),\n",
       " (3024, 1.0),\n",
       " (3034, 1.0),\n",
       " (3039, 1.0),\n",
       " (3041, 1.0),\n",
       " (3046, 1.0),\n",
       " (3048, 1.0),\n",
       " (3051, 1.0),\n",
       " (3053, 1.0),\n",
       " (3054, 1.0),\n",
       " (3070, 1.0),\n",
       " (3071, 1.0),\n",
       " (3077, 1.0),\n",
       " (3083, 1.0),\n",
       " (3085, 1.0),\n",
       " (3093, 1.0),\n",
       " (3095, 1.0),\n",
       " (3097, 1.0),\n",
       " (3098, 1.0),\n",
       " (3102, 1.0),\n",
       " (3104, 1.0),\n",
       " (3117, 1.0),\n",
       " (3119, 1.0),\n",
       " (3120, 1.0),\n",
       " (3137, 1.0),\n",
       " (3140, 1.0),\n",
       " (3142, 1.0),\n",
       " (3143, 1.0),\n",
       " (3150, 1.0),\n",
       " (3153, 1.0),\n",
       " (3157, 1.0),\n",
       " (3160, 1.0),\n",
       " (3161, 1.0),\n",
       " (3179, 1.0),\n",
       " (3181, 1.0),\n",
       " (3183, 1.0),\n",
       " (3189, 1.0),\n",
       " (3190, 1.0),\n",
       " (3197, 1.0),\n",
       " (3203, 1.0),\n",
       " (3207, 1.0),\n",
       " (3208, 1.0),\n",
       " (3212, 1.0),\n",
       " (3215, 1.0),\n",
       " (3221, 1.0),\n",
       " (3226, 1.0),\n",
       " (3236, 1.0),\n",
       " (3243, 1.0),\n",
       " (3245, 1.0),\n",
       " (3251, 1.0),\n",
       " (3253, 1.0),\n",
       " (3264, 1.0),\n",
       " (3265, 1.0),\n",
       " (3271, 1.0),\n",
       " (3278, 1.0),\n",
       " (3285, 1.0),\n",
       " (3287, 1.0),\n",
       " (3290, 1.0),\n",
       " (3291, 1.0),\n",
       " (3292, 1.0),\n",
       " (3294, 1.0),\n",
       " (3298, 1.0),\n",
       " (3301, 1.0),\n",
       " (3304, 1.0),\n",
       " (3307, 1.0),\n",
       " (3313, 1.0),\n",
       " (3318, 1.0),\n",
       " (3322, 1.0),\n",
       " (3325, 1.0),\n",
       " (3327, 1.0),\n",
       " (3328, 1.0),\n",
       " (3330, 1.0),\n",
       " (3332, 1.0),\n",
       " (3338, 1.0),\n",
       " (3339, 1.0),\n",
       " (3342, 1.0),\n",
       " (3348, 1.0),\n",
       " (3362, 1.0),\n",
       " (3366, 1.0),\n",
       " (3373, 1.0),\n",
       " (3376, 1.0),\n",
       " (3377, 1.0),\n",
       " (3378, 1.0),\n",
       " (3383, 1.0),\n",
       " (3385, 1.0),\n",
       " (3389, 1.0),\n",
       " (3392, 1.0),\n",
       " (3404, 1.0),\n",
       " (3406, 1.0),\n",
       " (3407, 1.0),\n",
       " (3411, 1.0),\n",
       " (3415, 1.0),\n",
       " (3416, 1.0),\n",
       " (3427, 1.0),\n",
       " (3429, 1.0),\n",
       " (3431, 1.0),\n",
       " (3436, 1.0),\n",
       " (3439, 1.0),\n",
       " (3464, 1.0),\n",
       " (3466, 1.0),\n",
       " (3468, 1.0),\n",
       " (3473, 1.0),\n",
       " (3474, 1.0),\n",
       " (3475, 1.0),\n",
       " (3477, 1.0),\n",
       " (3482, 1.0),\n",
       " (3488, 1.0),\n",
       " (3492, 1.0),\n",
       " (3495, 1.0),\n",
       " (3496, 1.0),\n",
       " (3501, 1.0),\n",
       " (3502, 1.0),\n",
       " (3511, 1.0),\n",
       " (3515, 1.0),\n",
       " (3516, 1.0),\n",
       " (3531, 1.0),\n",
       " (3533, 1.0),\n",
       " (3535, 1.0),\n",
       " (3541, 1.0),\n",
       " (3552, 1.0),\n",
       " (3556, 1.0),\n",
       " (3583, 1.0),\n",
       " (3593, 1.0),\n",
       " (3595, 1.0),\n",
       " (3601, 1.0),\n",
       " (3613, 1.0),\n",
       " (3618, 1.0),\n",
       " (3623, 1.0),\n",
       " (3627, 1.0),\n",
       " (3630, 1.0),\n",
       " (3649, 1.0),\n",
       " (3671, 1.0),\n",
       " (3675, 1.0),\n",
       " (3688, 1.0),\n",
       " (3694, 1.0),\n",
       " (3696, 1.0),\n",
       " (3699, 1.0),\n",
       " (3706, 1.0),\n",
       " (3716, 1.0),\n",
       " (3721, 1.0),\n",
       " (3724, 1.0),\n",
       " (3731, 1.0),\n",
       " (3736, 1.0),\n",
       " (3746, 1.0),\n",
       " (3751, 1.0),\n",
       " (3752, 1.0),\n",
       " (3754, 1.0),\n",
       " (3773, 1.0),\n",
       " (3775, 1.0),\n",
       " (3778, 1.0),\n",
       " (3780, 1.0),\n",
       " (3783, 1.0),\n",
       " (3791, 1.0),\n",
       " (3792, 1.0),\n",
       " (3793, 1.0),\n",
       " (3797, 1.0),\n",
       " (3798, 1.0),\n",
       " (3800, 1.0),\n",
       " (3812, 1.0),\n",
       " (3813, 1.0),\n",
       " (3815, 1.0),\n",
       " (3818, 1.0),\n",
       " (3820, 1.0),\n",
       " (3824, 1.0),\n",
       " (3832, 1.0),\n",
       " (3845, 1.0),\n",
       " (3851, 1.0),\n",
       " (3852, 1.0),\n",
       " (3854, 1.0),\n",
       " (3857, 1.0),\n",
       " (3862, 1.0),\n",
       " (3871, 1.0),\n",
       " (3876, 1.0),\n",
       " (3877, 1.0),\n",
       " (3880, 1.0),\n",
       " (3883, 1.0),\n",
       " (3884, 1.0),\n",
       " (3894, 1.0),\n",
       " (3897, 1.0),\n",
       " (3905, 1.0),\n",
       " (3924, 1.0),\n",
       " (3925, 1.0),\n",
       " (3930, 1.0),\n",
       " (3932, 1.0),\n",
       " (3933, 1.0),\n",
       " (3937, 1.0),\n",
       " (3945, 1.0),\n",
       " (3961, 1.0),\n",
       " (3964, 1.0),\n",
       " (3965, 1.0),\n",
       " (3979, 1.0),\n",
       " (3984, 1.0),\n",
       " (3989, 1.0),\n",
       " (3995, 1.0),\n",
       " (4008, 1.0),\n",
       " (4010, 1.0),\n",
       " (4016, 1.0),\n",
       " (4017, 1.0),\n",
       " (4025, 1.0),\n",
       " (4027, 1.0),\n",
       " (4031, 1.0),\n",
       " (4050, 1.0),\n",
       " (4056, 1.0),\n",
       " (4057, 1.0),\n",
       " (4060, 1.0),\n",
       " (4064, 1.0),\n",
       " (4077, 1.0),\n",
       " (4091, 1.0),\n",
       " (4097, 1.0),\n",
       " (4102, 1.0),\n",
       " (4103, 1.0),\n",
       " (4108, 1.0),\n",
       " (4112, 1.0),\n",
       " (4119, 1.0),\n",
       " (4120, 1.0),\n",
       " (4143, 1.0),\n",
       " (4144, 1.0),\n",
       " (4148, 1.0),\n",
       " (4156, 1.0),\n",
       " (4166, 1.0),\n",
       " (4168, 1.0),\n",
       " (4177, 1.0),\n",
       " (4187, 1.0),\n",
       " (4188, 1.0),\n",
       " (4193, 1.0),\n",
       " (4200, 1.0),\n",
       " (4210, 1.0),\n",
       " (4213, 1.0),\n",
       " (4215, 1.0),\n",
       " (4216, 1.0),\n",
       " (4226, 1.0),\n",
       " (4245, 1.0),\n",
       " (4248, 1.0),\n",
       " (4255, 1.0),\n",
       " (4257, 1.0),\n",
       " (4263, 1.0),\n",
       " (4266, 1.0),\n",
       " (4267, 1.0),\n",
       " (4270, 1.0),\n",
       " (4274, 1.0),\n",
       " (4281, 1.0),\n",
       " (4282, 1.0),\n",
       " (4286, 1.0),\n",
       " (4290, 1.0),\n",
       " (4292, 1.0),\n",
       " (4293, 1.0),\n",
       " (4295, 1.0),\n",
       " (4296, 1.0),\n",
       " (4301, 1.0),\n",
       " (4308, 1.0),\n",
       " (4321, 1.0),\n",
       " (4326, 1.0),\n",
       " (4334, 1.0),\n",
       " (4339, 1.0),\n",
       " (4347, 1.0),\n",
       " (4350, 1.0),\n",
       " (4354, 1.0),\n",
       " (4366, 1.0),\n",
       " (4371, 1.0),\n",
       " (4374, 1.0),\n",
       " (4384, 1.0),\n",
       " (4391, 1.0),\n",
       " (4398, 1.0),\n",
       " (4400, 1.0),\n",
       " (4401, 1.0),\n",
       " (4405, 1.0),\n",
       " (4406, 1.0),\n",
       " (4407, 1.0),\n",
       " (4420, 1.0),\n",
       " (4422, 1.0),\n",
       " (4428, 1.0),\n",
       " (4431, 1.0),\n",
       " (4432, 1.0),\n",
       " (4444, 1.0),\n",
       " (4468, 1.0),\n",
       " (4477, 1.0),\n",
       " (4488, 1.0),\n",
       " (4493, 1.0),\n",
       " (4504, 1.0),\n",
       " (4506, 1.0),\n",
       " (4510, 1.0),\n",
       " (4514, 1.0),\n",
       " (4515, 1.0),\n",
       " (4518, 1.0),\n",
       " (4519, 1.0),\n",
       " (4527, 1.0),\n",
       " (4529, 1.0),\n",
       " (4533, 1.0),\n",
       " (4568, 1.0),\n",
       " (4571, 1.0),\n",
       " (4572, 1.0),\n",
       " (4584, 1.0),\n",
       " (4596, 1.0),\n",
       " (4600, 1.0),\n",
       " (4601, 1.0),\n",
       " (4607, 1.0),\n",
       " (4613, 1.0),\n",
       " (4624, 1.0),\n",
       " (4625, 1.0),\n",
       " (4632, 1.0),\n",
       " (4636, 1.0),\n",
       " (4638, 1.0),\n",
       " (4656, 1.0),\n",
       " (4663, 1.0),\n",
       " (4677, 1.0),\n",
       " (4682, 1.0),\n",
       " (4684, 1.0),\n",
       " (4689, 1.0),\n",
       " (4699, 1.0),\n",
       " (4708, 1.0),\n",
       " (4709, 1.0),\n",
       " (4723, 1.0),\n",
       " (4724, 1.0),\n",
       " (4729, 1.0),\n",
       " (4743, 1.0),\n",
       " (4753, 1.0),\n",
       " (4759, 1.0),\n",
       " (4761, 1.0),\n",
       " (4770, 1.0),\n",
       " (4772, 1.0),\n",
       " (4777, 1.0),\n",
       " (4802, 1.0),\n",
       " (4810, 1.0),\n",
       " (4819, 1.0),\n",
       " (4830, 1.0),\n",
       " (4831, 1.0),\n",
       " (4832, 1.0),\n",
       " (4841, 1.0),\n",
       " (4848, 1.0),\n",
       " (4854, 1.0),\n",
       " (4864, 1.0),\n",
       " (4873, 1.0),\n",
       " (4874, 1.0),\n",
       " (4882, 1.0),\n",
       " (4887, 1.0),\n",
       " (4891, 1.0),\n",
       " (4894, 1.0),\n",
       " (4896, 1.0),\n",
       " (4909, 1.0),\n",
       " (4911, 1.0),\n",
       " (4919, 1.0),\n",
       " (4931, 1.0)]"
      ]
     },
     "execution_count": 106,
     "metadata": {},
     "output_type": "execute_result"
    }
   ],
   "source": [
    "allTgtsObesity"
   ]
  },
  {
   "cell_type": "code",
   "execution_count": 143,
   "metadata": {},
   "outputs": [],
   "source": [
    "encoder56, attn_decoder56 = copy.deepcopy(encoder55), copy.deepcopy(attn_decoder55)"
   ]
  },
  {
   "cell_type": "code",
   "execution_count": 144,
   "metadata": {
    "scrolled": true
   },
   "outputs": [
    {
     "name": "stdout",
     "output_type": "stream",
     "text": [
      "0m 16s (- 12m 58s) (200 2%) -1582.1325\n",
      "0m 31s (- 12m 36s) (400 4%) -1627.4423\n",
      "0m 47s (- 12m 18s) (600 6%) -1615.3812\n",
      "1m 3s (- 12m 1s) (800 8%) -1679.5700\n",
      "1m 19s (- 11m 45s) (1000 10%) -1634.8933\n",
      "1m 35s (- 11m 29s) (1200 12%) -1728.3698\n",
      "1m 51s (- 11m 13s) (1400 14%) -1676.4272\n",
      "2m 7s (- 10m 57s) (1600 16%) -1678.1316\n",
      "2m 22s (- 10m 41s) (1800 18%) -1732.6297\n",
      "2m 38s (- 10m 24s) (2000 20%) -1717.7625\n",
      "2m 54s (- 10m 8s) (2200 22%) -1780.2973\n",
      "3m 10s (- 9m 52s) (2400 24%) -1793.2049\n",
      "3m 26s (- 9m 36s) (2600 26%) -1779.5756\n",
      "3m 42s (- 9m 21s) (2800 28%) -1830.0503\n",
      "3m 58s (- 9m 5s) (3000 30%) -1845.0316\n",
      "4m 13s (- 8m 49s) (3200 32%) -1808.3558\n",
      "4m 29s (- 8m 33s) (3400 34%) -1826.3245\n",
      "4m 45s (- 8m 17s) (3600 36%) -1799.4290\n",
      "5m 1s (- 8m 1s) (3800 38%) -1863.5058\n",
      "5m 17s (- 7m 45s) (4000 40%) -1892.8728\n",
      "5m 32s (- 7m 29s) (4200 42%) -1903.3469\n",
      "5m 48s (- 7m 13s) (4400 44%) -1966.0922\n",
      "6m 4s (- 6m 57s) (4600 46%) -1905.1120\n",
      "6m 20s (- 6m 41s) (4800 48%) -1926.9298\n",
      "6m 36s (- 6m 26s) (5000 50%) -1949.7222\n",
      "6m 52s (- 6m 10s) (5200 52%) -1951.1166\n",
      "7m 7s (- 5m 54s) (5400 54%) -1916.0346\n",
      "7m 23s (- 5m 38s) (5600 56%) -1969.6204\n",
      "7m 39s (- 5m 22s) (5800 58%) -1967.6471\n",
      "7m 55s (- 5m 6s) (6000 60%) -2011.0836\n",
      "8m 11s (- 4m 50s) (6200 62%) -2060.9536\n",
      "8m 27s (- 4m 35s) (6400 64%) -2001.7124\n",
      "8m 43s (- 4m 19s) (6600 66%) -1973.7236\n",
      "8m 58s (- 4m 3s) (6800 68%) -2076.5184\n",
      "9m 14s (- 3m 47s) (7000 70%) -2056.3309\n",
      "9m 30s (- 3m 31s) (7200 72%) -2133.2010\n",
      "9m 46s (- 3m 15s) (7400 74%) -2089.4910\n",
      "10m 2s (- 2m 59s) (7600 77%) -2129.9373\n",
      "10m 18s (- 2m 44s) (7800 79%) -2188.6505\n",
      "10m 33s (- 2m 28s) (8000 81%) -2144.2060\n",
      "10m 49s (- 2m 12s) (8200 83%) -2131.3946\n",
      "11m 5s (- 1m 56s) (8400 85%) -2173.1930\n",
      "11m 21s (- 1m 40s) (8600 87%) -2132.5364\n",
      "11m 37s (- 1m 24s) (8800 89%) -2245.0588\n",
      "11m 53s (- 1m 8s) (9000 91%) -2178.7681\n",
      "12m 8s (- 0m 53s) (9200 93%) -2257.0368\n",
      "12m 24s (- 0m 37s) (9400 95%) -2254.5367\n",
      "12m 40s (- 0m 21s) (9600 97%) -2237.6949\n",
      "12m 56s (- 0m 5s) (9800 99%) -2318.6170\n"
     ]
    },
    {
     "data": {
      "image/png": "[encoded data removed]",
      "text/plain": [
       "<matplotlib.figure.Figure at 0x2b10d9392438>"
      ]
     },
     "metadata": {
      "needs_background": "light"
     },
     "output_type": "display_data"
    }
   ],
   "source": [
    "trainIters_NoSM(encoder56, attn_decoder56, 1, allPairs, n_epoches = 2, print_every=200, plot_every = 200, \\\n",
    "                criterion = nn.KLDivLoss(), learning_rate=1e-6, marker = 'KLDivLossAnotherDecIn')"
   ]
  },
  {
   "cell_type": "code",
   "execution_count": 145,
   "metadata": {},
   "outputs": [],
   "source": [
    "torch.save(encoder56.state_dict(), resSeq2Seq + \"//encoder_test1121_\"+str(hidden_size)+\"_\"+str(n_layers)+'NoSM_another2'+\".pth\")\n",
    "torch.save(attn_decoder56.state_dict(), resSeq2Seq + \"//attn_decoder_test1121_\"+str(hidden_size)+\"_\"+str(n_layers)+'NoSM_another2'+\".pth\")"
   ]
  },
  {
   "cell_type": "code",
   "execution_count": 147,
   "metadata": {},
   "outputs": [],
   "source": [
    "preds4 = [0]*3\n",
    "tgts4 = [0]*3\n",
    "listChild = [9, 16, 512]\n",
    "for j, i in enumerate(listChild):\n",
    "    preds4[j], tgts4[j], loss = predictor(predPairs[i][0], predPairs[i][1], encoder56, attn_decoder56, nn.KLDivLoss())"
   ]
  },
  {
   "cell_type": "code",
   "execution_count": 149,
   "metadata": {},
   "outputs": [
    {
     "data": {
      "image/png": "[encoded data removed]",
      "text/plain": [
       "<matplotlib.figure.Figure at 0x2b113ad00d30>"
      ]
     },
     "metadata": {
      "needs_background": "light"
     },
     "output_type": "display_data"
    }
   ],
   "source": [
    "plotter(tgts4[0], preds4[0], tgts4[1], preds4[1], tgts4[2], preds4[2], 7, 'Height, prediction vs truth', 'Height/cm', [50, 225])"
   ]
  },
  {
   "cell_type": "code",
   "execution_count": null,
   "metadata": {},
   "outputs": [],
   "source": [
    "plotter(tgts[0], preds[0], tgts[1], preds[1], tgts[2], preds[2], 7, 'Height, prediction vs truth', 'Height/cm', [0, 120])"
   ]
  }
 ],
 "metadata": {
  "kernelspec": {
   "display_name": "Python 3",
   "language": "python",
   "name": "python3"
  },
  "language_info": {
   "codemirror_mode": {
    "name": "ipython",
    "version": 3
   },
   "file_extension": ".py",
   "mimetype": "text/x-python",
   "name": "python",
   "nbconvert_exporter": "python",
   "pygments_lexer": "ipython3",
   "version": "3.6.3"
  }
 },
 "nbformat": 4,
 "nbformat_minor": 2
}
