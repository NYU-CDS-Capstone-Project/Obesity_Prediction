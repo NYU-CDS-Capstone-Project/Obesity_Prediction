{
 "cells": [
  {
   "cell_type": "code",
   "execution_count": 9,
   "metadata": {},
   "outputs": [],
   "source": [
    "import os\n",
    "import time\n",
    "import pickle\n",
    "import random\n",
    "import numpy as np\n",
    "import pandas as pd\n",
    "import matplotlib.pyplot as plt\n",
    "\n",
    "import build_features\n",
    "\n",
    "from datetime import datetime"
   ]
  },
  {
   "cell_type": "code",
   "execution_count": 10,
   "metadata": {},
   "outputs": [],
   "source": [
    "d1 = pickle.load(open('/Volumes/Encrypted/python objects/patientdata_20170823.pkl', 'rb'))\n",
    "d1mom = pickle.load(open('/Volumes/Encrypted/python objects/patient_mother_data_20170724.pkl', 'rb'))\n",
    "lat_lon_dic = pickle.load(open('/Volumes/Encrypted/python objects/lat_lon_data_20180329.pkl', 'rb'))\n",
    "env_dic= pickle.load(open('/Volumes/Encrypted/python objects/census_data_20170920.pkl', 'rb'))\n",
    "d1mom_hist = pickle.load(open('/Volumes/Encrypted/python objects/full_lutheran_mother_data.pkl', 'rb'))"
   ]
  },
  {
   "cell_type": "code",
   "execution_count": 11,
   "metadata": {},
   "outputs": [
    {
     "name": "stderr",
     "output_type": "stream",
     "text": [
      "Processing 52,945 patients: 52945it [03:51, 229.13it/s]  \n"
     ]
    }
   ],
   "source": [
    "AGE_LOW = 4.5\n",
    "AGE_HIGH = 5.5\n",
    "MONTH_LOW = 0\n",
    "MONTH_HIGH = 24\n",
    "outdir = \"/Users/daoyangshan/Obesity_Prediction/obesity_demo\"\n",
    "if not os.path.isdir(outdir):\n",
    "    os.mkdir(outdir)\n",
    "    \n",
    "x1,y1,y1label,feature_headers,mrns = build_features.call_build_function(\n",
    "    d1, d1mom, d1mom_hist, lat_lon_dic, env_dic, \n",
    "    AGE_LOW, AGE_HIGH, MONTH_LOW, MONTH_HIGH, False, prediction = 'multi')"
   ]
  },
  {
   "cell_type": "code",
   "execution_count": 12,
   "metadata": {},
   "outputs": [],
   "source": [
    "np.savez_compressed(outdir + '/raw_matrix_data', \n",
    "                    x = x1, y = y1, ylabel = y1label, mrns = mrns, features = np.array(feature_headers))"
   ]
  },
  {
   "cell_type": "code",
   "execution_count": null,
   "metadata": {},
   "outputs": [],
   "source": []
  }
 ],
 "metadata": {
  "kernelspec": {
   "display_name": "Python 3",
   "language": "python",
   "name": "python3"
  },
  "language_info": {
   "codemirror_mode": {
    "name": "ipython",
    "version": 3
   },
   "file_extension": ".py",
   "mimetype": "text/x-python",
   "name": "python",
   "nbconvert_exporter": "python",
   "pygments_lexer": "ipython3",
   "version": "3.6.3"
  }
 },
 "nbformat": 4,
 "nbformat_minor": 2
}
