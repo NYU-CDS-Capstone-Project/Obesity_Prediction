{
 "cells": [
  {
   "cell_type": "code",
   "execution_count": 14,
   "metadata": {},
   "outputs": [],
   "source": [
    "import os\n",
    "import time\n",
    "import pickle\n",
    "import random\n",
    "import numpy as np\n",
    "import pandas as pd\n",
    "import matplotlib.pyplot as plt\n",
    "\n",
    "from datetime import datetime"
   ]
  },
  {
   "cell_type": "code",
   "execution_count": null,
   "metadata": {},
   "outputs": [],
   "source": [
    "d1 = pickle.load(open('/Volumes/research/cpo_databridge/python objects/patientdata_20170823.pkl', 'rb'))\n",
    "#d1mom = pickle.load(open('/Volumes/research/cpo_databridge/python objects/patient_mother_data_20170724.pkl', 'rb'))\n",
    "#lat_lon_dic = pickle.load(open('/Volumes/research/cpo_databridge/python objects/lat_lon_data_20180329.pkl', 'rb'))\n",
    "#env_dic= pickle.load(open('/Volumes/research/cpo_databridge/python objects/census_data_20170920.pkl', 'rb'))\n",
    "#d1mom_hist = pickle.load(open('/Volumes/research/cpo_databridge/python objects/full_lutheran_mother_data.pkl', 'rb'))"
   ]
  },
  {
   "cell_type": "code",
   "execution_count": 13,
   "metadata": {},
   "outputs": [],
   "source": [
    "AGE_LOW = 4.5\n",
    "AGE_HIGH = 5.5\n",
    "MONTH_LOW = 0\n",
    "MONTH_HIGH = 24\n",
    "\n",
    "outdir = \"/Users/daoyangshan/Obesity_Prediction/obesity_demo\"\n",
    "if not os.path.isdir(outdir):\n",
    "    os.mkdir(outdir)"
   ]
  },
  {
   "cell_type": "code",
   "execution_count": null,
   "metadata": {},
   "outputs": [],
   "source": []
  }
 ],
 "metadata": {
  "kernelspec": {
   "display_name": "Python 3",
   "language": "python",
   "name": "python3"
  },
  "language_info": {
   "codemirror_mode": {
    "name": "ipython",
    "version": 3
   },
   "file_extension": ".py",
   "mimetype": "text/x-python",
   "name": "python",
   "nbconvert_exporter": "python",
   "pygments_lexer": "ipython3",
   "version": "3.6.3"
  }
 },
 "nbformat": 4,
 "nbformat_minor": 2
}
