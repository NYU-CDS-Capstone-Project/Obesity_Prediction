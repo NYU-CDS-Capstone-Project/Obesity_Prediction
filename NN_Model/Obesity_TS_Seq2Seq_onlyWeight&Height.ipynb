{
 "cells": [
  {
   "cell_type": "code",
   "execution_count": 1,
   "metadata": {},
   "outputs": [],
   "source": [
    "import io\n",
    "import os\n",
    "\n",
    "import numpy as np\n",
    "import torch\n",
    "import torch.nn as nn\n",
    "import torch.nn.functional as F\n",
    "from torch.utils.data import Dataset\n",
    "from torch import optim\n",
    "from collections import Counter\n",
    "import pickle as pkl\n",
    "import string\n",
    "import random\n",
    "import pdb\n",
    "import nltk\n",
    "from nltk import ngrams\n",
    "from collections import Counter\n",
    "from collections import defaultdict\n",
    "\n",
    "import copy\n",
    "\n",
    "\n",
    "import matplotlib.pyplot as plt\n",
    "plt.switch_backend('agg')\n",
    "import matplotlib.ticker as ticker\n",
    "import numpy as np\n",
    "%matplotlib inline\n",
    "\n",
    "import time\n",
    "import math"
   ]
  },
  {
   "cell_type": "code",
   "execution_count": 2,
   "metadata": {},
   "outputs": [],
   "source": [
    "torch.set_default_tensor_type('torch.DoubleTensor')"
   ]
  },
  {
   "cell_type": "code",
   "execution_count": 3,
   "metadata": {},
   "outputs": [],
   "source": [
    "random.seed(152)\n",
    "\n",
    "nowPath = os.path.abspath('.')\n",
    "dataPath = nowPath + '//dataSourceCsv'\n",
    "resPath = nowPath + '//resultsRNN'\n",
    "resSeq2Seq = nowPath + '//resultsS2S'\n",
    "\n",
    "all_train = []\n",
    "all_val = []"
   ]
  },
  {
   "cell_type": "code",
   "execution_count": 4,
   "metadata": {},
   "outputs": [],
   "source": [
    "def showPlot(points, title):\n",
    "    fig, ax = plt.subplots()\n",
    "    lines = {}\n",
    "    lines['cur'], = ax.plot(range(len(points)), points, label='train loss')\n",
    "    ax.set_title(title)"
   ]
  },
  {
   "cell_type": "code",
   "execution_count": 5,
   "metadata": {},
   "outputs": [],
   "source": [
    "def pkl_dumper(objct, file_name):\n",
    "    with open(file_name, 'wb+') as f:\n",
    "        pkl.dump(objct, f, protocol=None)\n",
    "\n",
    "def pkl_loader(file_name):\n",
    "    with open(file_name, 'rb') as f:\n",
    "        objct = pkl.load(f, encoding = 'bytes')\n",
    "    return(objct)"
   ]
  },
  {
   "cell_type": "code",
   "execution_count": 6,
   "metadata": {},
   "outputs": [],
   "source": [
    "def asMinutes(s):\n",
    "    m = math.floor(s / 60)\n",
    "    s -= m * 60\n",
    "    return '%dm %ds' % (m, s)\n",
    "\n",
    "\n",
    "def timeSince(since, percent):\n",
    "    now = time.time()\n",
    "    s = now - since\n",
    "    es = s / (percent)\n",
    "    rs = es - s\n",
    "    return '%s (- %s)' % (asMinutes(s), asMinutes(rs))"
   ]
  },
  {
   "cell_type": "code",
   "execution_count": 7,
   "metadata": {},
   "outputs": [],
   "source": [
    "allColNames = pkl_loader(dataPath + '//allColNames.p')\n",
    "colHeader, colSlot = allColNames['columnHeaders'], allColNames['columnSlots']\n",
    "allTrainTS = pkl_loader(dataPath + '//allTrainTS.p')\n",
    "allIDs = pkl_loader(dataPath + '//allIDs.p')\n",
    "allTgts = pkl_loader(dataPath + '//allTgts.p')"
   ]
  },
  {
   "cell_type": "code",
   "execution_count": 8,
   "metadata": {},
   "outputs": [],
   "source": [
    "device = torch.device(\"cuda\" if torch.cuda.is_available() else \"cpu\")"
   ]
  },
  {
   "cell_type": "code",
   "execution_count": 9,
   "metadata": {},
   "outputs": [],
   "source": [
    "newIndex = [i for i, item in enumerate(allTrainTS) if sum(sum(item[:, :9])) != 0.0]\n",
    "allTgts = np.array(allTgts)\n",
    "allTrainTS = np.array(allTrainTS)\n",
    "allTgts = allTgts[newIndex, 3]\n",
    "allTrainTS = allTrainTS[newIndex]\n",
    "allIDs = np.array(allIDs)\n",
    "allIDs = allIDs[newIndex]"
   ]
  },
  {
   "cell_type": "code",
   "execution_count": 32,
   "metadata": {},
   "outputs": [
    {
     "data": {
      "text/plain": [
       "array([[ 0.,  0.],\n",
       "       [ 0.,  0.],\n",
       "       [ 0.,  0.],\n",
       "       [ 0.,  0.],\n",
       "       [ 0.,  0.],\n",
       "       [ 0.,  0.],\n",
       "       [ 0.,  0.],\n",
       "       [ 0.,  0.],\n",
       "       [ 0.,  0.]])"
      ]
     },
     "execution_count": 32,
     "metadata": {},
     "output_type": "execute_result"
    }
   ],
   "source": [
    "allTrainTS[3][14:, [1,4]]"
   ]
  },
  {
   "cell_type": "code",
   "execution_count": 33,
   "metadata": {},
   "outputs": [],
   "source": [
    "allPairs = [[item[:9, :], item[9:, [7, 16]]] for item in allTrainTS.transpose(0, 2, 1)]"
   ]
  },
  {
   "cell_type": "code",
   "execution_count": 11,
   "metadata": {},
   "outputs": [],
   "source": [
    "class EncoderRNN(nn.Module):\n",
    "    def __init__(self, input_size, hidden_size, num_layer):\n",
    "        super(EncoderRNN, self).__init__()\n",
    "        self.num_layer = num_layer\n",
    "        self.hidden_size = hidden_size\n",
    "        self.linear = nn.Linear(input_size, hidden_size)\n",
    "        self.gru = nn.GRU(hidden_size, hidden_size, num_layer)\n",
    "\n",
    "    def forward(self, input, hidden):\n",
    "        # print('InType:', input.type())\n",
    "        output = self.linear(input).view(1, 1, -1)\n",
    "        output, hidden = self.gru(output, hidden)\n",
    "        return output, hidden\n",
    "\n",
    "    def initHidden(self):\n",
    "        return torch.zeros(self.num_layer, 1, self.hidden_size, device=device)"
   ]
  },
  {
   "cell_type": "code",
   "execution_count": 12,
   "metadata": {},
   "outputs": [],
   "source": [
    "class Attn(nn.Module):\n",
    "    def __init__(self, hidden_size, method='concat'):\n",
    "        super(Attn, self).__init__()\n",
    "        self.method = method\n",
    "        self.hidden_size = hidden_size\n",
    "        self.attn = nn.Linear(self.hidden_size * 2, hidden_size)\n",
    "        self.v = nn.Parameter(torch.rand(hidden_size))\n",
    "        stdv = 1. / math.sqrt(self.v.size(0))\n",
    "        self.v.data.normal_(mean=0, std=stdv)\n",
    "\n",
    "    def forward(self, hidden, encoder_outputs):\n",
    "        '''\n",
    "        :param hidden: \n",
    "            previous hidden state of the decoder, in shape (layers*directions,B,H)\n",
    "        :param encoder_outputs:\n",
    "            encoder outputs from Encoder, in shape (T,B,H)\n",
    "        :return\n",
    "            attention energies in shape (B,T)\n",
    "        '''\n",
    "        max_len = encoder_outputs.size(0)\n",
    "        this_batch_size = encoder_outputs.size(1)\n",
    "        H = hidden.repeat(max_len,1,1).transpose(0,1)\n",
    "        encoder_outputs = encoder_outputs.transpose(0,1) # [B*T*H]\n",
    "        attn_energies = self.score(H,encoder_outputs) # compute attention score\n",
    "        return F.softmax(attn_energies, 2) # normalize with softmax\n",
    "\n",
    "    def score(self, hidden, encoder_outputs):\n",
    "        #print('hl size:{}, eo size:{}'.format(hidden.size(), encoder_outputs.size()))\n",
    "        energy = F.tanh(self.attn(torch.cat([hidden, encoder_outputs.transpose(0,1).unsqueeze(0)], 2))) # [B*T*2H]->[B*T*H]\n",
    "        energy = energy.transpose(2,1) # [B*H*T]\n",
    "        v = self.v.repeat(energy.size()[0],1).unsqueeze(0) #[1*B*H]\n",
    "        #print('v size:{}, eng size:{}'.format(v.size(), energy.size()))\n",
    "        energy = torch.bmm(v,energy) # [B*1*T]\n",
    "        #return energy.squeeze(1) #[B*T]\n",
    "        return energy"
   ]
  },
  {
   "cell_type": "code",
   "execution_count": 14,
   "metadata": {},
   "outputs": [],
   "source": [
    "class BahdanauAttnDecoderRNN_NoSM(nn.Module):\n",
    "    def __init__(self, hidden_size, output_size, n_layers=1, dropout_p=0.1, max_len = 100):\n",
    "        super(BahdanauAttnDecoderRNN_NoSM, self).__init__()\n",
    "        \n",
    "        # Define parameters\n",
    "        self.hidden_size = hidden_size\n",
    "        self.output_size = output_size\n",
    "        self.n_layers = n_layers\n",
    "        self.dropout_p = dropout_p\n",
    "        self.max_len = max_len\n",
    "        \n",
    "        # Define layers\n",
    "        self.linear = nn.Linear(output_size, hidden_size)\n",
    "        self.dropout = nn.Dropout(dropout_p)\n",
    "        # self.attn = nn.Linear(hidden_size, self.max_len)\n",
    "        self.attn = Attn(hidden_size)\n",
    "        self.gru = nn.GRU(hidden_size * 2, hidden_size, n_layers, dropout=dropout_p)\n",
    "        self.out = nn.Linear(hidden_size, output_size)\n",
    "    \n",
    "    def forward(self, cur_input, last_hidden, encoder_outputs):\n",
    "        # Note that we will only be running forward for a single decoder time step, but will use all encoder outputs\n",
    "        \n",
    "        # Get the embedding of the current input word (last output word)\n",
    "        # print('ci size:{}'.format(cur_input.size()))\n",
    "        vec_input = self.linear(cur_input).view(1, 1, -1) # S=1 x B x N\n",
    "        vec_input = self.dropout(vec_input)\n",
    "        # print('vi size:{}, lh size:{}, enc_out size:{}'.format(vec_input.size(), last_hidden.size(), encoder_outputs.size()))\n",
    "        attn_weights = self.attn(last_hidden[-1], encoder_outputs )\n",
    "        #print('wt size:{}, eo size:{}'.format(attn_weights.size(), encoder_outputs.size()))\n",
    "        attn_applied = attn_weights.bmm(encoder_outputs.unsqueeze(0))  # (B,1,V)\n",
    "        attn_applied = attn_applied.transpose(0, 1)\n",
    "        #print('we size:{}, lh size:{}, aa size:{}'.format(word_embedded.size(), last_hidden.size(), attn_applied.size()))\n",
    "        rnn_input = torch.cat((vec_input, attn_applied), 2)\n",
    "        \n",
    "        output, hidden = self.gru(rnn_input, last_hidden)\n",
    "        \n",
    "        # Final output layer\n",
    "        output = output.squeeze(0) # B x N\n",
    "        output = self.out(output)\n",
    "        #print(output.size())\n",
    "        \n",
    "        # Return final output, hidden state, and attention weights (for visualization)\n",
    "        return output, hidden, attn_weights"
   ]
  },
  {
   "cell_type": "code",
   "execution_count": 45,
   "metadata": {},
   "outputs": [],
   "source": [
    "teacher_forcing_ratio = 0.5\n",
    "\n",
    "def train_NoSM(input_tensor, target_tensor, encoder, decoder, encoder_optimizer, decoder_optimizer, criterion):\n",
    "    encoder_hidden = encoder.initHidden()\n",
    "\n",
    "    encoder_optimizer.zero_grad()\n",
    "    decoder_optimizer.zero_grad()\n",
    "\n",
    "    input_length = input_tensor.size(0)\n",
    "    target_length = target_tensor.size(0)\n",
    "    # print(\"inLen:{},tgtLen:{}\".format(input_length, target_length))\n",
    "\n",
    "    encoder_outputs = torch.zeros(input_length, encoder.hidden_size, device=device)\n",
    "    # print('encOutSize:{}'.format(encoder_outputs.size()))\n",
    "\n",
    "    loss = 0\n",
    "\n",
    "    for ei in range(input_length):\n",
    "        encoder_output, encoder_hidden = encoder(\n",
    "            input_tensor[ei], encoder_hidden)\n",
    "        encoder_outputs[ei] = encoder_output[0, 0]\n",
    "\n",
    "    # decoder_input = torch.tensor([[0.0]*len(colHeader)], device=device)\n",
    "    decoder_input = input_tensor[input_length-1][[7, 16]]\n",
    "    # print(decoder_input.size())\n",
    "\n",
    "    decoder_hidden = encoder_hidden\n",
    "\n",
    "    use_teacher_forcing = True if random.random() < teacher_forcing_ratio else False\n",
    "    # use_teacher_forcing = False\n",
    "    # print(target_tensor.size())\n",
    "\n",
    "    if use_teacher_forcing:\n",
    "        # Teacher forcing: Feed the target as the next input\n",
    "        for di in range(target_length):\n",
    "            decoder_output, decoder_hidden, decoder_attention = decoder(\n",
    "                decoder_input, decoder_hidden, encoder_outputs)\n",
    "            # print(\"typeOrg:{}, typeChanged:{}\".format(target_tensor[di].type(), target_tensor[di].unsqueeze(0).type()))\n",
    "            # print(\"typeDcd:{}\".format(decoder_output.type()))\n",
    "            # print(decoder_output)\n",
    "            # print(target_tensor[di].unsqueeze(0))\n",
    "            loss += criterion(decoder_output.double(), target_tensor[di].unsqueeze(0).double())\n",
    "            decoder_input = target_tensor[di].unsqueeze(0)  # Teacher forcing\n",
    "            # print('forced', decoder_input)\n",
    "\n",
    "    else:\n",
    "        # Without teacher forcing: use its own predictions as the next input\n",
    "        for di in range(target_length):\n",
    "            decoder_output, decoder_hidden, decoder_attention = decoder(\n",
    "                decoder_input, decoder_hidden, encoder_outputs)\n",
    "            # topv, topi = decoder_output.topk(1)\n",
    "            # decoder_input = topi.squeeze().detach()  # detach from history as input\n",
    "            decoder_input = decoder_output\n",
    "            # print(\"typeOrg:{}, typeChanged:{}\".format(target_tensor[di].type(), target_tensor[di].unsqueeze(0).type()))\n",
    "            # print(\"typeDcd:{}\".format(decoder_output.type()))\n",
    "            # print(decoder_output)\n",
    "            # print(target_tensor[di].unsqueeze(0))\n",
    "            loss += criterion(decoder_output.double(), target_tensor[di].unsqueeze(0).double())\n",
    "            # print('Noforced', decoder_input)\n",
    "            # print('Noforced_dout', decoder_output)\n",
    "            \n",
    "\n",
    "    loss.backward()\n",
    "\n",
    "    encoder_optimizer.step()\n",
    "    decoder_optimizer.step()\n",
    "\n",
    "    return loss.item() / target_length"
   ]
  },
  {
   "cell_type": "code",
   "execution_count": 46,
   "metadata": {},
   "outputs": [],
   "source": [
    "def trainIters_NoSM(encoder, decoder, n_iters, pairs, n_epoches=1, print_every=1000, plot_every=1000, learning_rate=1e-3, \\\n",
    "                    criterion = nn.KLDivLoss(), marker='NoSM', lr_decrease = True):\n",
    "    start = time.time()\n",
    "    plot_losses = []\n",
    "    print_loss_total = 0  # Reset every print_every\n",
    "    plot_loss_total = 0  # Reset every plot_every\n",
    "    \n",
    "    encoder_optimizer = optim.SGD(encoder.parameters(), lr=learning_rate)\n",
    "    decoder_optimizer = optim.SGD(decoder.parameters(), lr=learning_rate)\n",
    "    trainPairs = copy.deepcopy(pairs)\n",
    "    random.shuffle(trainPairs)\n",
    "    # training_pairs = [tensorsFromPair(random.choice(pairs))\n",
    "    #                   for i in range(n_iters)]\n",
    "    training_pairs = [[torch.tensor(pair[0], dtype=torch.double, device=device), \\\n",
    "                       torch.tensor(pair[1], dtype=torch.double, device=device)] for pair in trainPairs] * n_epoches\n",
    "    # criterion = nn.NLLLoss().double()\n",
    "    # criterion = nn.KLDivLoss()\n",
    "    criterion = criterion\n",
    "    if n_epoches > 1:\n",
    "        n_iters = len(training_pairs)\n",
    "\n",
    "    for iter in range(1, n_iters+1):\n",
    "        training_pair = training_pairs[iter - 1]\n",
    "        input_tensor = training_pair[0]\n",
    "        target_tensor = training_pair[1]\n",
    "\n",
    "        loss = train_NoSM(input_tensor, target_tensor, encoder,\n",
    "                     decoder, encoder_optimizer, decoder_optimizer, criterion)\n",
    "        print_loss_total += loss\n",
    "        plot_loss_total += loss\n",
    "\n",
    "        if iter % print_every == 0:\n",
    "            print_loss_avg = print_loss_total / print_every\n",
    "            print_loss_total = 0\n",
    "            print('%s (%d %d%%) %.4f' % (timeSince(start, iter / n_iters),\n",
    "                                         iter, iter / n_iters * 100, print_loss_avg))\n",
    "\n",
    "        if iter % plot_every == 0:\n",
    "            plot_loss_avg = plot_loss_total / plot_every\n",
    "            plot_losses.append(plot_loss_avg)\n",
    "            plot_loss_total = 0\n",
    "    pkl_dumper(plot_losses, resSeq2Seq + '//trainS2S1120'+str(hidden_size)+'_'+str(n_layers)+marker+'.p')\n",
    "    showPlot(plot_losses, 'Train loss with MSE Loss')\n",
    "    "
   ]
  },
  {
   "cell_type": "code",
   "execution_count": 61,
   "metadata": {},
   "outputs": [],
   "source": [
    "def predictor(input_tensor, target_tensor, encoder, decoder, criterion):\n",
    "    encoder_hidden = encoder.initHidden()\n",
    "\n",
    "    input_length = input_tensor.size(0)\n",
    "    target_length = target_tensor.size(0)\n",
    "    # print(input_length, target_length)\n",
    "\n",
    "    encoder_outputs = torch.zeros(input_length, encoder.hidden_size, device=device)\n",
    "    # print('encOutSize:{}'.format(encoder_outputs.size()))\n",
    "\n",
    "    loss = 0\n",
    "\n",
    "    for ei in range(input_length):\n",
    "        encoder_output, encoder_hidden = encoder(\n",
    "            input_tensor[ei], encoder_hidden)\n",
    "        encoder_outputs[ei] = encoder_output[0, 0]\n",
    "        # print(encoder_output[0, 0])\n",
    "\n",
    "    # decoder_input = torch.tensor([[0.0]*len(colHeader)], device=device)\n",
    "    decoder_input = input_tensor[input_length-1][[7, 16]]\n",
    "\n",
    "    decoder_hidden = encoder_hidden\n",
    "    decoder_outputs = torch.zeros(target_length, out_size , device=device)\n",
    "\n",
    "    for di in range(target_length):\n",
    "        decoder_output, decoder_hidden, decoder_attention = decoder(\n",
    "            decoder_input, decoder_hidden, encoder_outputs)\n",
    "        decoder_input = decoder_output\n",
    "        # print(decoder_outputs.size(), decoder_output.size())\n",
    "        decoder_outputs[di] = decoder_output[0]\n",
    "        \n",
    "        loss += criterion(decoder_output.double(), target_tensor[di].unsqueeze(0).double())\n",
    "\n",
    "    return (decoder_outputs, target_tensor, loss.item() / target_length)"
   ]
  },
  {
   "cell_type": "code",
   "execution_count": 51,
   "metadata": {
    "scrolled": true
   },
   "outputs": [
    {
     "name": "stdout",
     "output_type": "stream",
     "text": [
      "0m 14s (- 17m 51s) (200 1%) 4233.8596\n",
      "0m 29s (- 17m 31s) (400 2%) 4269.4832\n",
      "0m 43s (- 17m 16s) (600 4%) 4814.9873\n",
      "0m 58s (- 17m 2s) (800 5%) 4221.6948\n",
      "1m 12s (- 16m 46s) (1000 6%) 4126.2439\n",
      "1m 27s (- 16m 32s) (1200 8%) 4128.5523\n",
      "1m 42s (- 16m 17s) (1400 9%) 4120.4084\n",
      "1m 56s (- 16m 2s) (1600 10%) 4808.9613\n",
      "2m 11s (- 15m 47s) (1800 12%) 4380.5148\n",
      "2m 25s (- 15m 33s) (2000 13%) 3965.2284\n",
      "2m 40s (- 15m 19s) (2200 14%) 3736.9513\n",
      "2m 55s (- 15m 4s) (2400 16%) 3818.4472\n",
      "3m 9s (- 14m 50s) (2600 17%) 3976.7798\n",
      "3m 24s (- 14m 36s) (2800 18%) 3518.5640\n",
      "3m 39s (- 14m 22s) (3000 20%) 3584.7458\n",
      "3m 53s (- 14m 8s) (3200 21%) 3221.0633\n",
      "4m 8s (- 13m 53s) (3400 22%) 3119.4493\n",
      "4m 23s (- 13m 39s) (3600 24%) 3101.3900\n",
      "4m 37s (- 13m 24s) (3800 25%) 2953.1989\n",
      "4m 52s (- 13m 10s) (4000 27%) 3324.6860\n",
      "5m 7s (- 12m 55s) (4200 28%) 2603.6778\n",
      "5m 21s (- 12m 41s) (4400 29%) 2517.0097\n",
      "5m 36s (- 12m 26s) (4600 31%) 4584.9609\n",
      "5m 51s (- 12m 12s) (4800 32%) 2335.2585\n",
      "6m 5s (- 11m 57s) (5000 33%) 2164.6059\n",
      "6m 20s (- 11m 42s) (5200 35%) 1997.2269\n",
      "6m 35s (- 11m 28s) (5400 36%) 1921.7140\n",
      "6m 49s (- 11m 13s) (5600 37%) 2434.6302\n",
      "7m 4s (- 10m 58s) (5800 39%) 1720.7982\n",
      "7m 18s (- 10m 44s) (6000 40%) 1639.6531\n",
      "7m 33s (- 10m 29s) (6200 41%) 1581.4677\n",
      "7m 48s (- 10m 14s) (6400 43%) 1510.3361\n",
      "8m 2s (- 10m 0s) (6600 44%) 2177.4484\n",
      "8m 17s (- 9m 45s) (6800 45%) 1711.5492\n",
      "8m 32s (- 9m 30s) (7000 47%) 1281.1201\n",
      "8m 46s (- 9m 16s) (7200 48%) 1249.5498\n",
      "9m 1s (- 9m 1s) (7400 49%) 1221.4990\n",
      "9m 16s (- 8m 47s) (7600 51%) 1451.7780\n",
      "9m 30s (- 8m 32s) (7800 52%) 1123.4141\n",
      "9m 45s (- 8m 18s) (8000 54%) 1200.8746\n",
      "10m 0s (- 8m 3s) (8200 55%) 1051.7903\n",
      "10m 14s (- 7m 48s) (8400 56%) 1027.9458\n",
      "10m 29s (- 7m 34s) (8600 58%) 974.2127\n",
      "10m 44s (- 7m 19s) (8800 59%) 1438.3751\n",
      "10m 58s (- 7m 4s) (9000 60%) 998.1985\n",
      "11m 13s (- 6m 50s) (9200 62%) 920.6868\n",
      "11m 28s (- 6m 35s) (9400 63%) 2850.1301\n",
      "11m 42s (- 6m 21s) (9600 64%) 1044.6573\n",
      "11m 57s (- 6m 6s) (9800 66%) 829.4104\n",
      "12m 12s (- 5m 51s) (10000 67%) 826.9733\n",
      "12m 27s (- 5m 37s) (10200 68%) 855.1725\n",
      "12m 41s (- 5m 22s) (10400 70%) 1370.8264\n",
      "12m 56s (- 5m 7s) (10600 71%) 815.2762\n",
      "13m 11s (- 4m 53s) (10800 72%) 798.1560\n",
      "13m 25s (- 4m 38s) (11000 74%) 773.6426\n",
      "13m 40s (- 4m 24s) (11200 75%) 776.9124\n",
      "13m 55s (- 4m 9s) (11400 77%) 1480.2815\n",
      "14m 9s (- 3m 54s) (11600 78%) 1007.8034\n",
      "14m 24s (- 3m 40s) (11800 79%) 773.0214\n",
      "14m 39s (- 3m 25s) (12000 81%) 797.6217\n",
      "14m 53s (- 3m 10s) (12200 82%) 729.9606\n",
      "15m 8s (- 2m 56s) (12400 83%) 745.3919\n",
      "15m 23s (- 2m 41s) (12600 85%) 980.7375\n",
      "15m 38s (- 2m 26s) (12800 86%) 706.3708\n",
      "15m 52s (- 2m 12s) (13000 87%) 870.4542\n",
      "16m 7s (- 1m 57s) (13200 89%) 739.5874\n",
      "16m 22s (- 1m 42s) (13400 90%) 715.4289\n",
      "16m 36s (- 1m 28s) (13600 91%) 663.2813\n",
      "16m 51s (- 1m 13s) (13800 93%) 1187.2489\n",
      "17m 6s (- 0m 59s) (14000 94%) 730.7900\n",
      "17m 20s (- 0m 44s) (14200 95%) 699.3155\n",
      "17m 35s (- 0m 29s) (14400 97%) 2757.9627\n",
      "17m 50s (- 0m 15s) (14600 98%) 721.4968\n",
      "18m 4s (- 0m 0s) (14800 99%) 660.4164\n"
     ]
    },
    {
     "data": {
      "image/png": "[encoded data removed]",
      "text/plain": [
       "<matplotlib.figure.Figure at 0x2ba3f9ee83c8>"
      ]
     },
     "metadata": {
      "needs_background": "light"
     },
     "output_type": "display_data"
    }
   ],
   "source": [
    "###TrainCuda\n",
    "hidden_size = 200\n",
    "in_size = len(colHeader)\n",
    "out_size = 2\n",
    "n_layers = 3\n",
    "encoder3 = EncoderRNN(in_size, hidden_size, n_layers).to(device)\n",
    "attn_decoder3 = BahdanauAttnDecoderRNN_NoSM(hidden_size, out_size, n_layers=n_layers, dropout_p=0.1).to(device)\n",
    "\n",
    "trainIters_NoSM(encoder3, attn_decoder3, 1, allPairs, n_epoches = 3, print_every=200, plot_every = 200, learning_rate=2e-7, criterion = nn.MSELoss())"
   ]
  },
  {
   "cell_type": "code",
   "execution_count": 54,
   "metadata": {},
   "outputs": [],
   "source": [
    "torch.save(encoder3.state_dict(), resSeq2Seq + \"//encoder_test1125_\"+str(hidden_size)+\"_\"+str(n_layers)+'NoSM'+\".pth\")\n",
    "torch.save(attn_decoder3.state_dict(), resSeq2Seq + \"//attn_decoder_test1125_\"+str(hidden_size)+\"_\"+str(n_layers)+'NoSM'+\".pth\")"
   ]
  },
  {
   "cell_type": "code",
   "execution_count": null,
   "metadata": {},
   "outputs": [],
   "source": [
    "trainPltNoSM = pkl_loader(resSeq2Seq+'//trainS2S1125200_3NoSM.p')\n",
    "showPlot(trainPltNoSM, 'Train loss with KLD Loss')"
   ]
  },
  {
   "cell_type": "code",
   "execution_count": 55,
   "metadata": {},
   "outputs": [],
   "source": [
    "def plotter(c1, c1pred, c2, c2pred, c3, c3pred, ind, title, label, lim):\n",
    "    listXlabel = colSlot[-6:]\n",
    "    c1 = np.array(c1.detach().numpy())[:,ind]\n",
    "    c2 = np.array(c2.detach().numpy())[:,ind]\n",
    "    c3 = np.array(c3.detach().numpy())[:,ind]\n",
    "    c1pred = np.array(c1pred.detach().numpy())[:,ind]\n",
    "    c2pred = np.array(c2pred.detach().numpy())[:,ind]\n",
    "    c3pred = np.array(c3pred.detach().numpy())[:,ind]\n",
    "    fig, ax = plt.subplots(figsize=(12, 8))\n",
    "    lines = {}\n",
    "    lines['c1'], = ax.plot(listXlabel, c1, '-', label='c1_true, obesity', color = 'red')\n",
    "    lines['c1pred'], = ax.plot(listXlabel, c1pred, '--', label='c1_pred, obesity', color = 'red')\n",
    "    lines['c2'], = ax.plot(listXlabel, c2, '-', label='c2_true, non-obesity', color = 'blue')\n",
    "    lines['c2pred'], = ax.plot(listXlabel, c2pred, '--', label='c2_pred, non-obesity', color = 'blue')\n",
    "    lines['c3'], = ax.plot(listXlabel, c3, '-', label='c3_true, non-obesity', color = 'green')\n",
    "    lines['c3pred'], = ax.plot(listXlabel, c3pred, '--', label='c3_pred, non-obesity', color = 'green')\n",
    "    legend = ax.legend(loc='lower right', shadow=True)\n",
    "    ax.set_ylabel(label)\n",
    "    # ax.set_xlabel(listXlabel)\n",
    "    ax.set_title(title)\n",
    "    plt.ylim(lim[0], lim[1])"
   ]
  },
  {
   "cell_type": "code",
   "execution_count": 57,
   "metadata": {},
   "outputs": [],
   "source": [
    "predPairs = [[torch.tensor(pair[0], dtype=torch.double, device=device), \\\n",
    "               torch.tensor(pair[1], dtype=torch.double, device=device)] for pair in allPairs]\n"
   ]
  },
  {
   "cell_type": "code",
   "execution_count": 62,
   "metadata": {},
   "outputs": [],
   "source": [
    "preds = [0]*3\n",
    "tgts = [0]*3\n",
    "listChild = [9, 16, 512]\n",
    "for j, i in enumerate(listChild):\n",
    "    preds[j], tgts[j], loss = predictor(predPairs[i][0], predPairs[i][1], encoder3, attn_decoder3, nn.KLDivLoss())"
   ]
  },
  {
   "cell_type": "code",
   "execution_count": 66,
   "metadata": {},
   "outputs": [
    {
     "data": {
      "image/png": "[encoded data removed]",
      "text/plain": [
       "<matplotlib.figure.Figure at 0x2ba3f9f22208>"
      ]
     },
     "metadata": {
      "needs_background": "light"
     },
     "output_type": "display_data"
    }
   ],
   "source": [
    "plotter(tgts[0], preds[0], tgts[1], preds[1], tgts[2], preds[2], 0, 'Height, prediction vs truth', 'Height/cm', [0, 120])"
   ]
  },
  {
   "cell_type": "code",
   "execution_count": 68,
   "metadata": {
    "scrolled": true
   },
   "outputs": [
    {
     "name": "stdout",
     "output_type": "stream",
     "text": [
      "0m 15s (- 18m 38s) (200 1%) 848.6343\n",
      "0m 30s (- 18m 16s) (400 2%) 765.3151\n",
      "0m 45s (- 18m 4s) (600 4%) 755.0453\n",
      "1m 1s (- 17m 48s) (800 5%) 695.0918\n",
      "1m 16s (- 17m 31s) (1000 6%) 674.0856\n",
      "1m 31s (- 17m 17s) (1200 8%) 1702.0918\n",
      "1m 46s (- 17m 0s) (1400 9%) 677.5228\n",
      "2m 1s (- 16m 45s) (1600 10%) 725.2653\n",
      "2m 17s (- 16m 29s) (1800 12%) 856.8482\n",
      "2m 32s (- 16m 14s) (2000 13%) 675.3181\n",
      "2m 47s (- 15m 59s) (2200 14%) 651.0569\n",
      "3m 2s (- 15m 43s) (2400 16%) 720.7781\n",
      "3m 17s (- 15m 28s) (2600 17%) 802.5384\n",
      "3m 32s (- 15m 13s) (2800 18%) 686.2893\n",
      "3m 48s (- 14m 58s) (3000 20%) 2613.4014\n",
      "4m 3s (- 14m 42s) (3200 21%) 675.7389\n",
      "4m 18s (- 14m 27s) (3400 22%) 639.9671\n",
      "4m 33s (- 14m 12s) (3600 24%) 1103.2700\n",
      "4m 49s (- 13m 57s) (3800 25%) 705.8449\n",
      "5m 4s (- 13m 41s) (4000 27%) 675.8871\n",
      "5m 19s (- 13m 26s) (4200 28%) 663.2960\n",
      "5m 34s (- 13m 11s) (4400 29%) 886.9848\n",
      "5m 49s (- 12m 55s) (4600 31%) 1161.7097\n",
      "6m 4s (- 12m 40s) (4800 32%) 698.4295\n",
      "6m 20s (- 12m 25s) (5000 33%) 821.3938\n",
      "6m 35s (- 12m 9s) (5200 35%) 734.4794\n",
      "6m 50s (- 11m 54s) (5400 36%) 715.7913\n",
      "7m 5s (- 11m 39s) (5600 37%) 777.6050\n",
      "7m 20s (- 11m 24s) (5800 39%) 696.7877\n",
      "7m 35s (- 11m 9s) (6000 40%) 1240.1079\n",
      "7m 51s (- 10m 53s) (6200 41%) 1135.2539\n",
      "8m 6s (- 10m 38s) (6400 43%) 691.7292\n",
      "8m 21s (- 10m 23s) (6600 44%) 857.1850\n",
      "8m 36s (- 10m 8s) (6800 45%) 695.2876\n",
      "8m 51s (- 9m 52s) (7000 47%) 658.8513\n",
      "9m 6s (- 9m 37s) (7200 48%) 696.5354\n",
      "9m 22s (- 9m 22s) (7400 49%) 723.0835\n",
      "9m 37s (- 9m 7s) (7600 51%) 755.2106\n",
      "9m 52s (- 8m 52s) (7800 52%) 2646.3811\n",
      "10m 7s (- 8m 36s) (8000 54%) 690.1282\n",
      "10m 22s (- 8m 21s) (8200 55%) 677.7364\n",
      "10m 37s (- 8m 6s) (8400 56%) 630.5010\n",
      "10m 53s (- 7m 51s) (8600 58%) 1142.8909\n",
      "11m 8s (- 7m 36s) (8800 59%) 666.8145\n",
      "11m 23s (- 7m 20s) (9000 60%) 667.6733\n",
      "11m 38s (- 7m 5s) (9200 62%) 676.1753\n",
      "11m 53s (- 6m 50s) (9400 63%) 1363.6337\n",
      "12m 9s (- 6m 35s) (9600 64%) 673.5301\n",
      "12m 24s (- 6m 20s) (9800 66%) 711.0450\n",
      "12m 39s (- 6m 4s) (10000 67%) 801.7422\n",
      "12m 54s (- 5m 49s) (10200 68%) 737.9963\n",
      "13m 9s (- 5m 34s) (10400 70%) 747.6961\n",
      "13m 24s (- 5m 19s) (10600 71%) 725.4117\n",
      "13m 39s (- 5m 3s) (10800 72%) 670.3535\n",
      "13m 54s (- 4m 48s) (11000 74%) 1698.5985\n",
      "14m 9s (- 4m 33s) (11200 75%) 686.2350\n",
      "14m 25s (- 4m 18s) (11400 77%) 711.4372\n",
      "14m 40s (- 4m 3s) (11600 78%) 828.0173\n",
      "14m 55s (- 3m 48s) (11800 79%) 673.9299\n",
      "15m 10s (- 3m 32s) (12000 81%) 638.6331\n",
      "15m 25s (- 3m 17s) (12200 82%) 728.5991\n",
      "15m 41s (- 3m 2s) (12400 83%) 795.5095\n",
      "15m 56s (- 2m 47s) (12600 85%) 669.6449\n",
      "16m 11s (- 2m 32s) (12800 86%) 2614.3403\n",
      "16m 26s (- 2m 17s) (13000 87%) 694.7953\n",
      "16m 42s (- 2m 1s) (13200 89%) 680.8996\n",
      "16m 57s (- 1m 46s) (13400 90%) 1075.5397\n",
      "17m 12s (- 1m 31s) (13600 91%) 695.5510\n",
      "17m 27s (- 1m 16s) (13800 93%) 676.4601\n",
      "17m 42s (- 1m 1s) (14000 94%) 655.4467\n",
      "17m 57s (- 0m 45s) (14200 95%) 655.2155\n",
      "18m 13s (- 0m 30s) (14400 97%) 1397.6774\n",
      "18m 28s (- 0m 15s) (14600 98%) 712.7039\n",
      "18m 43s (- 0m 0s) (14800 99%) 634.8404\n"
     ]
    },
    {
     "data": {
      "image/png": "[encoded data removed]",
      "text/plain": [
       "<matplotlib.figure.Figure at 0x2ba3f99e36a0>"
      ]
     },
     "metadata": {
      "needs_background": "light"
     },
     "output_type": "display_data"
    }
   ],
   "source": [
    "###TrainCuda\n",
    "hidden_size = 200\n",
    "in_size = len(colHeader)\n",
    "out_size = 2\n",
    "n_layers = 3\n",
    "encoder4 = copy.deepcopy(encoder3)\n",
    "attn_decoder4 = copy.deepcopy(attn_decoder3)\n",
    "\n",
    "trainIters_NoSM(encoder4, attn_decoder4, 1, allPairs, n_epoches = 3, print_every=200, plot_every = 200, learning_rate=1e-8, criterion = nn.MSELoss())"
   ]
  },
  {
   "cell_type": "code",
   "execution_count": 69,
   "metadata": {},
   "outputs": [],
   "source": [
    "torch.save(encoder4.state_dict(), resSeq2Seq + \"//encoder_test1125_\"+str(hidden_size)+\"_\"+str(n_layers)+'NoSM_MSERetrain'+\".pth\")\n",
    "torch.save(attn_decoder4.state_dict(), resSeq2Seq + \"//attn_decoder_test1125_\"+str(hidden_size)+\"_\"+str(n_layers)+'NoSM_MSERetrain'+\".pth\")"
   ]
  },
  {
   "cell_type": "code",
   "execution_count": null,
   "metadata": {},
   "outputs": [],
   "source": []
  }
 ],
 "metadata": {
  "kernelspec": {
   "display_name": "Python 3",
   "language": "python",
   "name": "python3"
  },
  "language_info": {
   "codemirror_mode": {
    "name": "ipython",
    "version": 3
   },
   "file_extension": ".py",
   "mimetype": "text/x-python",
   "name": "python",
   "nbconvert_exporter": "python",
   "pygments_lexer": "ipython3",
   "version": "3.6.3"
  },
  "widgets": {
   "application/vnd.jupyter.widget-state+json": {
    "state": {},
    "version_major": 2,
    "version_minor": 0
   }
  }
 },
 "nbformat": 4,
 "nbformat_minor": 2
}
